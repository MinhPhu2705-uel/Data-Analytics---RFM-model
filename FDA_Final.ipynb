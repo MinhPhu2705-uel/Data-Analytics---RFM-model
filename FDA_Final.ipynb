{
  "cells": [
    {
      "cell_type": "markdown",
      "metadata": {
        "id": "TtKCAk0yojE8"
      },
      "source": [
        "## **Set Up**"
      ]
    },
    {
      "cell_type": "code",
      "execution_count": null,
      "metadata": {
        "colab": {
          "base_uri": "https://localhost:8080/"
        },
        "id": "2wsjuivioFmv",
        "outputId": "b33fc6f2-4ab4-40ba-bde6-c9f8036bc24f"
      },
      "outputs": [
        {
          "output_type": "stream",
          "name": "stdout",
          "text": [
            "Mounted at /content/gdrive\n"
          ]
        }
      ],
      "source": [
        "from google.colab import drive\n",
        "drive.mount('/content/gdrive')"
      ]
    },
    {
      "cell_type": "code",
      "execution_count": null,
      "metadata": {
        "id": "a7cSDOx_od39"
      },
      "outputs": [],
      "source": [
        "import pandas as pd\n",
        "import numpy as np\n",
        "import seaborn as sns\n",
        "import matplotlib.pyplot as plt\n",
        "import datetime as dt\n",
        "import plotly.express as px\n",
        "from scipy import stats\n",
        "from sklearn.cluster import KMeans\n",
        "from sklearn.metrics import silhouette_score"
      ]
    },
    {
      "cell_type": "code",
      "execution_count": null,
      "metadata": {
        "id": "JgXbadVApK7v"
      },
      "outputs": [],
      "source": [
        "df_sales = pd.read_excel('/content/gdrive/Shareddrives/X2 A PLUS/FDA/Source Code/AdventureWorksSales.xlsx', sheet_name='Sales_data')\n",
        "df_sales_order = pd.read_excel('/content/gdrive/Shareddrives/X2 A PLUS/FDA/Source Code/AdventureWorksSales.xlsx', sheet_name='Sales Order_data')\n",
        "df_date = pd.read_excel('/content/gdrive/Shareddrives/X2 A PLUS/FDA/Source Code/AdventureWorksSales.xlsx', sheet_name='Date_data')\n",
        "df_product = pd.read_excel('/content/gdrive/Shareddrives/X2 A PLUS/FDA/Source Code/AdventureWorksSales.xlsx', sheet_name='Product_data')\n",
        "df_customer = pd.read_excel('/content/gdrive/Shareddrives/X2 A PLUS/FDA/Source Code/AdventureWorksSales.xlsx', sheet_name='Customer_data')\n",
        "df_territory = pd.read_excel('/content/gdrive/Shareddrives/X2 A PLUS/FDA/Source Code/AdventureWorksSales.xlsx', sheet_name='Sales Territory_data')\n",
        "df_reseller = pd.read_excel('/content/gdrive/Shareddrives/X2 A PLUS/FDA/Source Code/AdventureWorksSales.xlsx', sheet_name='Reseller_data')"
      ]
    },
    {
      "cell_type": "code",
      "execution_count": null,
      "metadata": {
        "id": "Xy0EStW5p1wl"
      },
      "outputs": [],
      "source": [
        "df_date = df_date.rename(columns = {'DateKey':'OrderDateKey'})\n",
        "df_reseller = df_reseller.rename(columns = {'SalesOrderLineKey': 'ResellerKey'})"
      ]
    },
    {
      "cell_type": "markdown",
      "metadata": {
        "id": "bszYJEU3Zu06"
      },
      "source": [
        "# **Understanding data**"
      ]
    },
    {
      "cell_type": "code",
      "execution_count": null,
      "metadata": {
        "colab": {
          "base_uri": "https://localhost:8080/"
        },
        "id": "3Am5LDERZ4su",
        "outputId": "bdd6f645-a305-413a-ada2-f39c9fe13fae"
      },
      "outputs": [
        {
          "output_type": "stream",
          "name": "stdout",
          "text": [
            "<class 'pandas.core.frame.DataFrame'>\n",
            "RangeIndex: 121253 entries, 0 to 121252\n",
            "Data columns (total 15 columns):\n",
            " #   Column                   Non-Null Count   Dtype  \n",
            "---  ------                   --------------   -----  \n",
            " 0   SalesOrderLineKey        121253 non-null  float64\n",
            " 1   ResellerKey              121253 non-null  float64\n",
            " 2   CustomerKey              121253 non-null  float64\n",
            " 3   ProductKey               121253 non-null  float64\n",
            " 4   OrderDateKey             121253 non-null  float64\n",
            " 5   DueDateKey               121253 non-null  float64\n",
            " 6   ShipDateKey              119140 non-null  float64\n",
            " 7   SalesTerritoryKey        121253 non-null  float64\n",
            " 8   Order Quantity           121253 non-null  float64\n",
            " 9   Unit Price               121253 non-null  float64\n",
            " 10  Extended Amount          121253 non-null  float64\n",
            " 11  Unit Price Discount Pct  121253 non-null  float64\n",
            " 12  Product Standard Cost    121253 non-null  float64\n",
            " 13  Total Product Cost       121253 non-null  float64\n",
            " 14  Sales Amount             121253 non-null  float64\n",
            "dtypes: float64(15)\n",
            "memory usage: 13.9 MB\n"
          ]
        }
      ],
      "source": [
        "df_sales.info()"
      ]
    },
    {
      "cell_type": "code",
      "execution_count": null,
      "metadata": {
        "colab": {
          "base_uri": "https://localhost:8080/"
        },
        "id": "ddm0YXztaCxP",
        "outputId": "082c3eaf-805b-487e-9356-4ce51594d1a7"
      },
      "outputs": [
        {
          "output_type": "stream",
          "name": "stdout",
          "text": [
            "<class 'pandas.core.frame.DataFrame'>\n",
            "RangeIndex: 121253 entries, 0 to 121252\n",
            "Data columns (total 4 columns):\n",
            " #   Column             Non-Null Count   Dtype  \n",
            "---  ------             --------------   -----  \n",
            " 0   Channel            121253 non-null  object \n",
            " 1   SalesOrderLineKey  121253 non-null  float64\n",
            " 2   Sales Order        121253 non-null  object \n",
            " 3   Sales Order Line   121253 non-null  object \n",
            "dtypes: float64(1), object(3)\n",
            "memory usage: 3.7+ MB\n"
          ]
        }
      ],
      "source": [
        "df_sales_order.info()"
      ]
    },
    {
      "cell_type": "code",
      "execution_count": null,
      "metadata": {
        "colab": {
          "base_uri": "https://localhost:8080/"
        },
        "id": "wxygpcbnaFPs",
        "outputId": "5b207f06-df52-42c6-b3f0-d6ba0397e4c5"
      },
      "outputs": [
        {
          "output_type": "stream",
          "name": "stdout",
          "text": [
            "<class 'pandas.core.frame.DataFrame'>\n",
            "RangeIndex: 1461 entries, 0 to 1460\n",
            "Data columns (total 7 columns):\n",
            " #   Column          Non-Null Count  Dtype         \n",
            "---  ------          --------------  -----         \n",
            " 0   OrderDateKey    1461 non-null   float64       \n",
            " 1   Date            1461 non-null   datetime64[ns]\n",
            " 2   Fiscal Year     1461 non-null   object        \n",
            " 3   Fiscal Quarter  1461 non-null   object        \n",
            " 4   Month           1461 non-null   object        \n",
            " 5   Full Date       1461 non-null   object        \n",
            " 6   MonthKey        1461 non-null   float64       \n",
            "dtypes: datetime64[ns](1), float64(2), object(4)\n",
            "memory usage: 80.0+ KB\n"
          ]
        }
      ],
      "source": [
        "df_date.info()"
      ]
    },
    {
      "cell_type": "code",
      "execution_count": null,
      "metadata": {
        "colab": {
          "base_uri": "https://localhost:8080/"
        },
        "id": "4wcEFxUxaOVs",
        "outputId": "e7bad14a-bad0-4aab-e403-ea6a8c95d7b7"
      },
      "outputs": [
        {
          "output_type": "stream",
          "name": "stdout",
          "text": [
            "<class 'pandas.core.frame.DataFrame'>\n",
            "RangeIndex: 397 entries, 0 to 396\n",
            "Data columns (total 9 columns):\n",
            " #   Column         Non-Null Count  Dtype  \n",
            "---  ------         --------------  -----  \n",
            " 0   ProductKey     397 non-null    float64\n",
            " 1   SKU            397 non-null    object \n",
            " 2   Product        397 non-null    object \n",
            " 3   Standard Cost  397 non-null    float64\n",
            " 4   Color          341 non-null    object \n",
            " 5   List Price     397 non-null    float64\n",
            " 6   Model          397 non-null    object \n",
            " 7   Subcategory    397 non-null    object \n",
            " 8   Category       397 non-null    object \n",
            "dtypes: float64(3), object(6)\n",
            "memory usage: 28.0+ KB\n"
          ]
        }
      ],
      "source": [
        "df_product.info()"
      ]
    },
    {
      "cell_type": "code",
      "execution_count": null,
      "metadata": {
        "colab": {
          "base_uri": "https://localhost:8080/"
        },
        "id": "JUdhptGRaS7v",
        "outputId": "33249726-c33b-46d9-8a80-1b7bc1e7f1a8"
      },
      "outputs": [
        {
          "output_type": "stream",
          "name": "stdout",
          "text": [
            "<class 'pandas.core.frame.DataFrame'>\n",
            "RangeIndex: 18485 entries, 0 to 18484\n",
            "Data columns (total 7 columns):\n",
            " #   Column          Non-Null Count  Dtype  \n",
            "---  ------          --------------  -----  \n",
            " 0   CustomerKey     18485 non-null  float64\n",
            " 1   Customer ID     18485 non-null  object \n",
            " 2   Customer        18485 non-null  object \n",
            " 3   City            18485 non-null  object \n",
            " 4   State-Province  18485 non-null  object \n",
            " 5   Country-Region  18485 non-null  object \n",
            " 6   Postal Code     18485 non-null  object \n",
            "dtypes: float64(1), object(6)\n",
            "memory usage: 1011.0+ KB\n"
          ]
        }
      ],
      "source": [
        "df_customer.info()"
      ]
    },
    {
      "cell_type": "code",
      "execution_count": null,
      "metadata": {
        "colab": {
          "base_uri": "https://localhost:8080/"
        },
        "id": "MWyrcz7payQs",
        "outputId": "39a85d5d-19a0-491a-ece4-95a845beac96"
      },
      "outputs": [
        {
          "output_type": "stream",
          "name": "stdout",
          "text": [
            "<class 'pandas.core.frame.DataFrame'>\n",
            "RangeIndex: 11 entries, 0 to 10\n",
            "Data columns (total 4 columns):\n",
            " #   Column             Non-Null Count  Dtype  \n",
            "---  ------             --------------  -----  \n",
            " 0   SalesTerritoryKey  11 non-null     float64\n",
            " 1   Region             11 non-null     object \n",
            " 2   Country            11 non-null     object \n",
            " 3   Group              11 non-null     object \n",
            "dtypes: float64(1), object(3)\n",
            "memory usage: 480.0+ bytes\n"
          ]
        }
      ],
      "source": [
        "df_territory.info()"
      ]
    },
    {
      "cell_type": "code",
      "execution_count": null,
      "metadata": {
        "colab": {
          "base_uri": "https://localhost:8080/"
        },
        "id": "fr-tpWn1a2DD",
        "outputId": "bbf07d8e-e37c-43d6-8c78-39de5140f27a"
      },
      "outputs": [
        {
          "output_type": "stream",
          "name": "stdout",
          "text": [
            "<class 'pandas.core.frame.DataFrame'>\n",
            "RangeIndex: 702 entries, 0 to 701\n",
            "Data columns (total 8 columns):\n",
            " #   Column          Non-Null Count  Dtype  \n",
            "---  ------          --------------  -----  \n",
            " 0   ResellerKey     702 non-null    float64\n",
            " 1   Reseller ID     702 non-null    object \n",
            " 2   Business Type   702 non-null    object \n",
            " 3   Reseller        702 non-null    object \n",
            " 4   City            702 non-null    object \n",
            " 5   State-Province  702 non-null    object \n",
            " 6   Country-Region  702 non-null    object \n",
            " 7   Postal Code     702 non-null    object \n",
            "dtypes: float64(1), object(7)\n",
            "memory usage: 44.0+ KB\n"
          ]
        }
      ],
      "source": [
        "df_reseller.info()"
      ]
    },
    {
      "cell_type": "code",
      "execution_count": null,
      "metadata": {
        "id": "zmOEDUIqzXG1"
      },
      "outputs": [],
      "source": [
        "df_merge = df_sales.merge(df_sales_order, on='SalesOrderLineKey', how='left')\n",
        "df_merge = df_merge.merge(df_date, on='OrderDateKey', how = 'left')\n",
        "df_merge = df_merge.merge(df_product, on='ProductKey', how = 'left')\n",
        "df_merge = df_merge.merge(df_customer, on='CustomerKey', how = 'left')\n",
        "df_merge = df_merge.merge(df_territory, on='SalesTerritoryKey', how = 'left')\n",
        "df_merge = df_merge.merge(df_reseller, on='ResellerKey', how = 'left')"
      ]
    },
    {
      "cell_type": "code",
      "execution_count": null,
      "metadata": {
        "id": "MHHs3cDrC15L"
      },
      "outputs": [],
      "source": [
        "df_merge = df_merge.drop(columns =['City_y','State-Province_y','Country-Region_y','Postal Code_y']).rename(columns = {'City_x':'City', 'State-Province_x' : 'State-Province'\n",
        ", 'Country-Region_x':'Country-Region', 'Postal Code_x':'Postal Code'})"
      ]
    },
    {
      "cell_type": "markdown",
      "metadata": {
        "id": "0tNrqzGB8Lls"
      },
      "source": [
        "## **Data Colection**"
      ]
    },
    {
      "cell_type": "code",
      "execution_count": null,
      "metadata": {
        "colab": {
          "base_uri": "https://localhost:8080/"
        },
        "id": "E9yMjELk0Twn",
        "outputId": "c1fffe26-046f-4a91-bfca-7469ad90251c"
      },
      "outputs": [
        {
          "output_type": "stream",
          "name": "stdout",
          "text": [
            "<class 'pandas.core.frame.DataFrame'>\n",
            "Int64Index: 121253 entries, 0 to 121252\n",
            "Data columns (total 44 columns):\n",
            " #   Column                   Non-Null Count   Dtype         \n",
            "---  ------                   --------------   -----         \n",
            " 0   SalesOrderLineKey        121253 non-null  float64       \n",
            " 1   ResellerKey              121253 non-null  float64       \n",
            " 2   CustomerKey              121253 non-null  float64       \n",
            " 3   ProductKey               121253 non-null  float64       \n",
            " 4   OrderDateKey             121253 non-null  float64       \n",
            " 5   DueDateKey               121253 non-null  float64       \n",
            " 6   ShipDateKey              119140 non-null  float64       \n",
            " 7   SalesTerritoryKey        121253 non-null  float64       \n",
            " 8   Order Quantity           121253 non-null  float64       \n",
            " 9   Unit Price               121253 non-null  float64       \n",
            " 10  Extended Amount          121253 non-null  float64       \n",
            " 11  Unit Price Discount Pct  121253 non-null  float64       \n",
            " 12  Product Standard Cost    121253 non-null  float64       \n",
            " 13  Total Product Cost       121253 non-null  float64       \n",
            " 14  Sales Amount             121253 non-null  float64       \n",
            " 15  Channel                  121253 non-null  object        \n",
            " 16  Sales Order              121253 non-null  object        \n",
            " 17  Sales Order Line         121253 non-null  object        \n",
            " 18  Date                     121253 non-null  datetime64[ns]\n",
            " 19  Fiscal Year              121253 non-null  object        \n",
            " 20  Fiscal Quarter           121253 non-null  object        \n",
            " 21  Month                    121253 non-null  object        \n",
            " 22  Full Date                121253 non-null  object        \n",
            " 23  MonthKey                 121253 non-null  float64       \n",
            " 24  SKU                      121253 non-null  object        \n",
            " 25  Product                  121253 non-null  object        \n",
            " 26  Standard Cost            121253 non-null  float64       \n",
            " 27  Color                    87109 non-null   object        \n",
            " 28  List Price               121253 non-null  float64       \n",
            " 29  Model                    121253 non-null  object        \n",
            " 30  Subcategory              121253 non-null  object        \n",
            " 31  Category                 121253 non-null  object        \n",
            " 32  Customer ID              121253 non-null  object        \n",
            " 33  Customer                 121253 non-null  object        \n",
            " 34  City                     121253 non-null  object        \n",
            " 35  State-Province           121253 non-null  object        \n",
            " 36  Country-Region           121253 non-null  object        \n",
            " 37  Postal Code              121253 non-null  object        \n",
            " 38  Region                   121253 non-null  object        \n",
            " 39  Country                  121253 non-null  object        \n",
            " 40  Group                    121253 non-null  object        \n",
            " 41  Reseller ID              121253 non-null  object        \n",
            " 42  Business Type            121253 non-null  object        \n",
            " 43  Reseller                 121253 non-null  object        \n",
            "dtypes: datetime64[ns](1), float64(18), object(25)\n",
            "memory usage: 41.6+ MB\n"
          ]
        }
      ],
      "source": [
        "df_merge.info()"
      ]
    },
    {
      "cell_type": "code",
      "execution_count": null,
      "metadata": {
        "colab": {
          "base_uri": "https://localhost:8080/",
          "height": 416
        },
        "id": "OpqTXDewz446",
        "outputId": "38cd16c6-4a60-4aba-defb-1cf1823467e2"
      },
      "outputs": [
        {
          "output_type": "execute_result",
          "data": {
            "text/plain": [
              "       SalesOrderLineKey    ResellerKey    CustomerKey     ProductKey  \\\n",
              "count       1.212530e+05  121253.000000  121253.000000  121253.000000   \n",
              "mean        5.782642e+07     170.043430    9384.833868     424.884094   \n",
              "std         9.009990e+06     224.536697   10171.582167     116.978898   \n",
              "min         4.365900e+07      -1.000000      -1.000000     212.000000   \n",
              "25%         4.987905e+07      -1.000000      -1.000000     339.000000   \n",
              "50%         5.702800e+07       3.000000      -1.000000     470.000000   \n",
              "75%         6.549000e+07     327.000000   18116.000000     528.000000   \n",
              "max         7.512300e+07     701.000000   29483.000000     606.000000   \n",
              "\n",
              "       OrderDateKey    DueDateKey   ShipDateKey  SalesTerritoryKey  \\\n",
              "count  1.212530e+05  1.212530e+05  1.191400e+05      121253.000000   \n",
              "mean   2.019158e+07  2.019183e+07  2.019159e+07           5.410035   \n",
              "std    7.981850e+03  8.021172e+03  7.990125e+03           2.835858   \n",
              "min    2.017070e+07  2.017071e+07  2.017071e+07           1.000000   \n",
              "25%    2.019041e+07  2.019042e+07  2.019041e+07           4.000000   \n",
              "50%    2.019101e+07  2.019102e+07  2.019101e+07           6.000000   \n",
              "75%    2.020022e+07  2.020030e+07  2.020022e+07           8.000000   \n",
              "max    2.020062e+07  2.020062e+07  2.020062e+07          10.000000   \n",
              "\n",
              "       Order Quantity     Unit Price  Extended Amount  \\\n",
              "count   121253.000000  121253.000000    121253.000000   \n",
              "mean         2.266138     465.180515       909.971564   \n",
              "std          2.491806     752.041893      1705.565586   \n",
              "min          1.000000       1.328200         1.374000   \n",
              "25%          1.000000      21.490000        24.990000   \n",
              "50%          1.000000      49.990000       134.982000   \n",
              "75%          3.000000     602.346000      1120.490000   \n",
              "max         44.000000    3578.270000     30992.910000   \n",
              "\n",
              "       Unit Price Discount Pct  Product Standard Cost  Total Product Cost  \\\n",
              "count                 121253.0          121253.000000       121253.000000   \n",
              "mean                       0.0             362.643598          802.107230   \n",
              "std                        0.0             541.688873         1660.416044   \n",
              "min                        0.0               0.856500            0.856500   \n",
              "25%                        0.0               9.159300           10.842300   \n",
              "50%                        0.0              38.492300           98.983600   \n",
              "75%                        0.0             486.706600          999.259500   \n",
              "max                        0.0            2171.294200        38530.385400   \n",
              "\n",
              "        Sales Amount       MonthKey  Standard Cost     List Price  \n",
              "count  121253.000000  121253.000000  121253.000000  121253.000000  \n",
              "mean      905.621091  201915.636124     362.643598     619.342984  \n",
              "std      1693.746343      79.824722     541.688873     913.694200  \n",
              "min         1.374000  201707.000000       0.856500       2.290000  \n",
              "25%        24.990000  201904.000000       9.159300      24.490000  \n",
              "50%       134.982000  201910.000000      38.492300      63.500000  \n",
              "75%      1120.490000  202002.000000     486.706600     782.990000  \n",
              "max     27893.619000  202006.000000    2171.294200    3578.270000  "
            ],
            "text/html": [
              "\n",
              "  <div id=\"df-25654af9-55b7-4a0c-841c-fd094dec8bfb\">\n",
              "    <div class=\"colab-df-container\">\n",
              "      <div>\n",
              "<style scoped>\n",
              "    .dataframe tbody tr th:only-of-type {\n",
              "        vertical-align: middle;\n",
              "    }\n",
              "\n",
              "    .dataframe tbody tr th {\n",
              "        vertical-align: top;\n",
              "    }\n",
              "\n",
              "    .dataframe thead th {\n",
              "        text-align: right;\n",
              "    }\n",
              "</style>\n",
              "<table border=\"1\" class=\"dataframe\">\n",
              "  <thead>\n",
              "    <tr style=\"text-align: right;\">\n",
              "      <th></th>\n",
              "      <th>SalesOrderLineKey</th>\n",
              "      <th>ResellerKey</th>\n",
              "      <th>CustomerKey</th>\n",
              "      <th>ProductKey</th>\n",
              "      <th>OrderDateKey</th>\n",
              "      <th>DueDateKey</th>\n",
              "      <th>ShipDateKey</th>\n",
              "      <th>SalesTerritoryKey</th>\n",
              "      <th>Order Quantity</th>\n",
              "      <th>Unit Price</th>\n",
              "      <th>Extended Amount</th>\n",
              "      <th>Unit Price Discount Pct</th>\n",
              "      <th>Product Standard Cost</th>\n",
              "      <th>Total Product Cost</th>\n",
              "      <th>Sales Amount</th>\n",
              "      <th>MonthKey</th>\n",
              "      <th>Standard Cost</th>\n",
              "      <th>List Price</th>\n",
              "    </tr>\n",
              "  </thead>\n",
              "  <tbody>\n",
              "    <tr>\n",
              "      <th>count</th>\n",
              "      <td>1.212530e+05</td>\n",
              "      <td>121253.000000</td>\n",
              "      <td>121253.000000</td>\n",
              "      <td>121253.000000</td>\n",
              "      <td>1.212530e+05</td>\n",
              "      <td>1.212530e+05</td>\n",
              "      <td>1.191400e+05</td>\n",
              "      <td>121253.000000</td>\n",
              "      <td>121253.000000</td>\n",
              "      <td>121253.000000</td>\n",
              "      <td>121253.000000</td>\n",
              "      <td>121253.0</td>\n",
              "      <td>121253.000000</td>\n",
              "      <td>121253.000000</td>\n",
              "      <td>121253.000000</td>\n",
              "      <td>121253.000000</td>\n",
              "      <td>121253.000000</td>\n",
              "      <td>121253.000000</td>\n",
              "    </tr>\n",
              "    <tr>\n",
              "      <th>mean</th>\n",
              "      <td>5.782642e+07</td>\n",
              "      <td>170.043430</td>\n",
              "      <td>9384.833868</td>\n",
              "      <td>424.884094</td>\n",
              "      <td>2.019158e+07</td>\n",
              "      <td>2.019183e+07</td>\n",
              "      <td>2.019159e+07</td>\n",
              "      <td>5.410035</td>\n",
              "      <td>2.266138</td>\n",
              "      <td>465.180515</td>\n",
              "      <td>909.971564</td>\n",
              "      <td>0.0</td>\n",
              "      <td>362.643598</td>\n",
              "      <td>802.107230</td>\n",
              "      <td>905.621091</td>\n",
              "      <td>201915.636124</td>\n",
              "      <td>362.643598</td>\n",
              "      <td>619.342984</td>\n",
              "    </tr>\n",
              "    <tr>\n",
              "      <th>std</th>\n",
              "      <td>9.009990e+06</td>\n",
              "      <td>224.536697</td>\n",
              "      <td>10171.582167</td>\n",
              "      <td>116.978898</td>\n",
              "      <td>7.981850e+03</td>\n",
              "      <td>8.021172e+03</td>\n",
              "      <td>7.990125e+03</td>\n",
              "      <td>2.835858</td>\n",
              "      <td>2.491806</td>\n",
              "      <td>752.041893</td>\n",
              "      <td>1705.565586</td>\n",
              "      <td>0.0</td>\n",
              "      <td>541.688873</td>\n",
              "      <td>1660.416044</td>\n",
              "      <td>1693.746343</td>\n",
              "      <td>79.824722</td>\n",
              "      <td>541.688873</td>\n",
              "      <td>913.694200</td>\n",
              "    </tr>\n",
              "    <tr>\n",
              "      <th>min</th>\n",
              "      <td>4.365900e+07</td>\n",
              "      <td>-1.000000</td>\n",
              "      <td>-1.000000</td>\n",
              "      <td>212.000000</td>\n",
              "      <td>2.017070e+07</td>\n",
              "      <td>2.017071e+07</td>\n",
              "      <td>2.017071e+07</td>\n",
              "      <td>1.000000</td>\n",
              "      <td>1.000000</td>\n",
              "      <td>1.328200</td>\n",
              "      <td>1.374000</td>\n",
              "      <td>0.0</td>\n",
              "      <td>0.856500</td>\n",
              "      <td>0.856500</td>\n",
              "      <td>1.374000</td>\n",
              "      <td>201707.000000</td>\n",
              "      <td>0.856500</td>\n",
              "      <td>2.290000</td>\n",
              "    </tr>\n",
              "    <tr>\n",
              "      <th>25%</th>\n",
              "      <td>4.987905e+07</td>\n",
              "      <td>-1.000000</td>\n",
              "      <td>-1.000000</td>\n",
              "      <td>339.000000</td>\n",
              "      <td>2.019041e+07</td>\n",
              "      <td>2.019042e+07</td>\n",
              "      <td>2.019041e+07</td>\n",
              "      <td>4.000000</td>\n",
              "      <td>1.000000</td>\n",
              "      <td>21.490000</td>\n",
              "      <td>24.990000</td>\n",
              "      <td>0.0</td>\n",
              "      <td>9.159300</td>\n",
              "      <td>10.842300</td>\n",
              "      <td>24.990000</td>\n",
              "      <td>201904.000000</td>\n",
              "      <td>9.159300</td>\n",
              "      <td>24.490000</td>\n",
              "    </tr>\n",
              "    <tr>\n",
              "      <th>50%</th>\n",
              "      <td>5.702800e+07</td>\n",
              "      <td>3.000000</td>\n",
              "      <td>-1.000000</td>\n",
              "      <td>470.000000</td>\n",
              "      <td>2.019101e+07</td>\n",
              "      <td>2.019102e+07</td>\n",
              "      <td>2.019101e+07</td>\n",
              "      <td>6.000000</td>\n",
              "      <td>1.000000</td>\n",
              "      <td>49.990000</td>\n",
              "      <td>134.982000</td>\n",
              "      <td>0.0</td>\n",
              "      <td>38.492300</td>\n",
              "      <td>98.983600</td>\n",
              "      <td>134.982000</td>\n",
              "      <td>201910.000000</td>\n",
              "      <td>38.492300</td>\n",
              "      <td>63.500000</td>\n",
              "    </tr>\n",
              "    <tr>\n",
              "      <th>75%</th>\n",
              "      <td>6.549000e+07</td>\n",
              "      <td>327.000000</td>\n",
              "      <td>18116.000000</td>\n",
              "      <td>528.000000</td>\n",
              "      <td>2.020022e+07</td>\n",
              "      <td>2.020030e+07</td>\n",
              "      <td>2.020022e+07</td>\n",
              "      <td>8.000000</td>\n",
              "      <td>3.000000</td>\n",
              "      <td>602.346000</td>\n",
              "      <td>1120.490000</td>\n",
              "      <td>0.0</td>\n",
              "      <td>486.706600</td>\n",
              "      <td>999.259500</td>\n",
              "      <td>1120.490000</td>\n",
              "      <td>202002.000000</td>\n",
              "      <td>486.706600</td>\n",
              "      <td>782.990000</td>\n",
              "    </tr>\n",
              "    <tr>\n",
              "      <th>max</th>\n",
              "      <td>7.512300e+07</td>\n",
              "      <td>701.000000</td>\n",
              "      <td>29483.000000</td>\n",
              "      <td>606.000000</td>\n",
              "      <td>2.020062e+07</td>\n",
              "      <td>2.020062e+07</td>\n",
              "      <td>2.020062e+07</td>\n",
              "      <td>10.000000</td>\n",
              "      <td>44.000000</td>\n",
              "      <td>3578.270000</td>\n",
              "      <td>30992.910000</td>\n",
              "      <td>0.0</td>\n",
              "      <td>2171.294200</td>\n",
              "      <td>38530.385400</td>\n",
              "      <td>27893.619000</td>\n",
              "      <td>202006.000000</td>\n",
              "      <td>2171.294200</td>\n",
              "      <td>3578.270000</td>\n",
              "    </tr>\n",
              "  </tbody>\n",
              "</table>\n",
              "</div>\n",
              "      <button class=\"colab-df-convert\" onclick=\"convertToInteractive('df-25654af9-55b7-4a0c-841c-fd094dec8bfb')\"\n",
              "              title=\"Convert this dataframe to an interactive table.\"\n",
              "              style=\"display:none;\">\n",
              "        \n",
              "  <svg xmlns=\"http://www.w3.org/2000/svg\" height=\"24px\"viewBox=\"0 0 24 24\"\n",
              "       width=\"24px\">\n",
              "    <path d=\"M0 0h24v24H0V0z\" fill=\"none\"/>\n",
              "    <path d=\"M18.56 5.44l.94 2.06.94-2.06 2.06-.94-2.06-.94-.94-2.06-.94 2.06-2.06.94zm-11 1L8.5 8.5l.94-2.06 2.06-.94-2.06-.94L8.5 2.5l-.94 2.06-2.06.94zm10 10l.94 2.06.94-2.06 2.06-.94-2.06-.94-.94-2.06-.94 2.06-2.06.94z\"/><path d=\"M17.41 7.96l-1.37-1.37c-.4-.4-.92-.59-1.43-.59-.52 0-1.04.2-1.43.59L10.3 9.45l-7.72 7.72c-.78.78-.78 2.05 0 2.83L4 21.41c.39.39.9.59 1.41.59.51 0 1.02-.2 1.41-.59l7.78-7.78 2.81-2.81c.8-.78.8-2.07 0-2.86zM5.41 20L4 18.59l7.72-7.72 1.47 1.35L5.41 20z\"/>\n",
              "  </svg>\n",
              "      </button>\n",
              "      \n",
              "  <style>\n",
              "    .colab-df-container {\n",
              "      display:flex;\n",
              "      flex-wrap:wrap;\n",
              "      gap: 12px;\n",
              "    }\n",
              "\n",
              "    .colab-df-convert {\n",
              "      background-color: #E8F0FE;\n",
              "      border: none;\n",
              "      border-radius: 50%;\n",
              "      cursor: pointer;\n",
              "      display: none;\n",
              "      fill: #1967D2;\n",
              "      height: 32px;\n",
              "      padding: 0 0 0 0;\n",
              "      width: 32px;\n",
              "    }\n",
              "\n",
              "    .colab-df-convert:hover {\n",
              "      background-color: #E2EBFA;\n",
              "      box-shadow: 0px 1px 2px rgba(60, 64, 67, 0.3), 0px 1px 3px 1px rgba(60, 64, 67, 0.15);\n",
              "      fill: #174EA6;\n",
              "    }\n",
              "\n",
              "    [theme=dark] .colab-df-convert {\n",
              "      background-color: #3B4455;\n",
              "      fill: #D2E3FC;\n",
              "    }\n",
              "\n",
              "    [theme=dark] .colab-df-convert:hover {\n",
              "      background-color: #434B5C;\n",
              "      box-shadow: 0px 1px 3px 1px rgba(0, 0, 0, 0.15);\n",
              "      filter: drop-shadow(0px 1px 2px rgba(0, 0, 0, 0.3));\n",
              "      fill: #FFFFFF;\n",
              "    }\n",
              "  </style>\n",
              "\n",
              "      <script>\n",
              "        const buttonEl =\n",
              "          document.querySelector('#df-25654af9-55b7-4a0c-841c-fd094dec8bfb button.colab-df-convert');\n",
              "        buttonEl.style.display =\n",
              "          google.colab.kernel.accessAllowed ? 'block' : 'none';\n",
              "\n",
              "        async function convertToInteractive(key) {\n",
              "          const element = document.querySelector('#df-25654af9-55b7-4a0c-841c-fd094dec8bfb');\n",
              "          const dataTable =\n",
              "            await google.colab.kernel.invokeFunction('convertToInteractive',\n",
              "                                                     [key], {});\n",
              "          if (!dataTable) return;\n",
              "\n",
              "          const docLinkHtml = 'Like what you see? Visit the ' +\n",
              "            '<a target=\"_blank\" href=https://colab.research.google.com/notebooks/data_table.ipynb>data table notebook</a>'\n",
              "            + ' to learn more about interactive tables.';\n",
              "          element.innerHTML = '';\n",
              "          dataTable['output_type'] = 'display_data';\n",
              "          await google.colab.output.renderOutput(dataTable, element);\n",
              "          const docLink = document.createElement('div');\n",
              "          docLink.innerHTML = docLinkHtml;\n",
              "          element.appendChild(docLink);\n",
              "        }\n",
              "      </script>\n",
              "    </div>\n",
              "  </div>\n",
              "  "
            ]
          },
          "metadata": {},
          "execution_count": 15
        }
      ],
      "source": [
        "df_merge.describe()"
      ]
    },
    {
      "cell_type": "code",
      "execution_count": null,
      "metadata": {
        "colab": {
          "base_uri": "https://localhost:8080/",
          "height": 206
        },
        "id": "a5vjND4e7ygk",
        "outputId": "4c5e55c8-8346-4829-c251-f584e3651853"
      },
      "outputs": [
        {
          "output_type": "execute_result",
          "data": {
            "text/plain": [
              "        Date Sales Order  Sales Amount\n",
              "0 2017-07-02     SO43659      2024.994\n",
              "1 2017-07-02     SO43659      6074.982\n",
              "2 2017-07-02     SO43659      2024.994\n",
              "3 2017-07-02     SO43659      2039.994\n",
              "4 2017-07-02     SO43659      2039.994"
            ],
            "text/html": [
              "\n",
              "  <div id=\"df-0efb11ed-dd1b-422e-b5f2-105382f2f00a\">\n",
              "    <div class=\"colab-df-container\">\n",
              "      <div>\n",
              "<style scoped>\n",
              "    .dataframe tbody tr th:only-of-type {\n",
              "        vertical-align: middle;\n",
              "    }\n",
              "\n",
              "    .dataframe tbody tr th {\n",
              "        vertical-align: top;\n",
              "    }\n",
              "\n",
              "    .dataframe thead th {\n",
              "        text-align: right;\n",
              "    }\n",
              "</style>\n",
              "<table border=\"1\" class=\"dataframe\">\n",
              "  <thead>\n",
              "    <tr style=\"text-align: right;\">\n",
              "      <th></th>\n",
              "      <th>Date</th>\n",
              "      <th>Sales Order</th>\n",
              "      <th>Sales Amount</th>\n",
              "    </tr>\n",
              "  </thead>\n",
              "  <tbody>\n",
              "    <tr>\n",
              "      <th>0</th>\n",
              "      <td>2017-07-02</td>\n",
              "      <td>SO43659</td>\n",
              "      <td>2024.994</td>\n",
              "    </tr>\n",
              "    <tr>\n",
              "      <th>1</th>\n",
              "      <td>2017-07-02</td>\n",
              "      <td>SO43659</td>\n",
              "      <td>6074.982</td>\n",
              "    </tr>\n",
              "    <tr>\n",
              "      <th>2</th>\n",
              "      <td>2017-07-02</td>\n",
              "      <td>SO43659</td>\n",
              "      <td>2024.994</td>\n",
              "    </tr>\n",
              "    <tr>\n",
              "      <th>3</th>\n",
              "      <td>2017-07-02</td>\n",
              "      <td>SO43659</td>\n",
              "      <td>2039.994</td>\n",
              "    </tr>\n",
              "    <tr>\n",
              "      <th>4</th>\n",
              "      <td>2017-07-02</td>\n",
              "      <td>SO43659</td>\n",
              "      <td>2039.994</td>\n",
              "    </tr>\n",
              "  </tbody>\n",
              "</table>\n",
              "</div>\n",
              "      <button class=\"colab-df-convert\" onclick=\"convertToInteractive('df-0efb11ed-dd1b-422e-b5f2-105382f2f00a')\"\n",
              "              title=\"Convert this dataframe to an interactive table.\"\n",
              "              style=\"display:none;\">\n",
              "        \n",
              "  <svg xmlns=\"http://www.w3.org/2000/svg\" height=\"24px\"viewBox=\"0 0 24 24\"\n",
              "       width=\"24px\">\n",
              "    <path d=\"M0 0h24v24H0V0z\" fill=\"none\"/>\n",
              "    <path d=\"M18.56 5.44l.94 2.06.94-2.06 2.06-.94-2.06-.94-.94-2.06-.94 2.06-2.06.94zm-11 1L8.5 8.5l.94-2.06 2.06-.94-2.06-.94L8.5 2.5l-.94 2.06-2.06.94zm10 10l.94 2.06.94-2.06 2.06-.94-2.06-.94-.94-2.06-.94 2.06-2.06.94z\"/><path d=\"M17.41 7.96l-1.37-1.37c-.4-.4-.92-.59-1.43-.59-.52 0-1.04.2-1.43.59L10.3 9.45l-7.72 7.72c-.78.78-.78 2.05 0 2.83L4 21.41c.39.39.9.59 1.41.59.51 0 1.02-.2 1.41-.59l7.78-7.78 2.81-2.81c.8-.78.8-2.07 0-2.86zM5.41 20L4 18.59l7.72-7.72 1.47 1.35L5.41 20z\"/>\n",
              "  </svg>\n",
              "      </button>\n",
              "      \n",
              "  <style>\n",
              "    .colab-df-container {\n",
              "      display:flex;\n",
              "      flex-wrap:wrap;\n",
              "      gap: 12px;\n",
              "    }\n",
              "\n",
              "    .colab-df-convert {\n",
              "      background-color: #E8F0FE;\n",
              "      border: none;\n",
              "      border-radius: 50%;\n",
              "      cursor: pointer;\n",
              "      display: none;\n",
              "      fill: #1967D2;\n",
              "      height: 32px;\n",
              "      padding: 0 0 0 0;\n",
              "      width: 32px;\n",
              "    }\n",
              "\n",
              "    .colab-df-convert:hover {\n",
              "      background-color: #E2EBFA;\n",
              "      box-shadow: 0px 1px 2px rgba(60, 64, 67, 0.3), 0px 1px 3px 1px rgba(60, 64, 67, 0.15);\n",
              "      fill: #174EA6;\n",
              "    }\n",
              "\n",
              "    [theme=dark] .colab-df-convert {\n",
              "      background-color: #3B4455;\n",
              "      fill: #D2E3FC;\n",
              "    }\n",
              "\n",
              "    [theme=dark] .colab-df-convert:hover {\n",
              "      background-color: #434B5C;\n",
              "      box-shadow: 0px 1px 3px 1px rgba(0, 0, 0, 0.15);\n",
              "      filter: drop-shadow(0px 1px 2px rgba(0, 0, 0, 0.3));\n",
              "      fill: #FFFFFF;\n",
              "    }\n",
              "  </style>\n",
              "\n",
              "      <script>\n",
              "        const buttonEl =\n",
              "          document.querySelector('#df-0efb11ed-dd1b-422e-b5f2-105382f2f00a button.colab-df-convert');\n",
              "        buttonEl.style.display =\n",
              "          google.colab.kernel.accessAllowed ? 'block' : 'none';\n",
              "\n",
              "        async function convertToInteractive(key) {\n",
              "          const element = document.querySelector('#df-0efb11ed-dd1b-422e-b5f2-105382f2f00a');\n",
              "          const dataTable =\n",
              "            await google.colab.kernel.invokeFunction('convertToInteractive',\n",
              "                                                     [key], {});\n",
              "          if (!dataTable) return;\n",
              "\n",
              "          const docLinkHtml = 'Like what you see? Visit the ' +\n",
              "            '<a target=\"_blank\" href=https://colab.research.google.com/notebooks/data_table.ipynb>data table notebook</a>'\n",
              "            + ' to learn more about interactive tables.';\n",
              "          element.innerHTML = '';\n",
              "          dataTable['output_type'] = 'display_data';\n",
              "          await google.colab.output.renderOutput(dataTable, element);\n",
              "          const docLink = document.createElement('div');\n",
              "          docLink.innerHTML = docLinkHtml;\n",
              "          element.appendChild(docLink);\n",
              "        }\n",
              "      </script>\n",
              "    </div>\n",
              "  </div>\n",
              "  "
            ]
          },
          "metadata": {},
          "execution_count": 16
        }
      ],
      "source": [
        "df_rfm = df_merge.iloc[:,[18,16,14]]\n",
        "df_rfm.head()"
      ]
    },
    {
      "cell_type": "code",
      "execution_count": null,
      "metadata": {
        "colab": {
          "base_uri": "https://localhost:8080/"
        },
        "id": "UNM1-BblV4s5",
        "outputId": "c4e18956-aa31-478f-eb4a-149c4cf18840"
      },
      "outputs": [
        {
          "output_type": "stream",
          "name": "stdout",
          "text": [
            "<class 'pandas.core.frame.DataFrame'>\n",
            "Int64Index: 121253 entries, 0 to 121252\n",
            "Data columns (total 3 columns):\n",
            " #   Column        Non-Null Count   Dtype         \n",
            "---  ------        --------------   -----         \n",
            " 0   Date          121253 non-null  datetime64[ns]\n",
            " 1   Sales Order   121253 non-null  object        \n",
            " 2   Sales Amount  121253 non-null  float64       \n",
            "dtypes: datetime64[ns](1), float64(1), object(1)\n",
            "memory usage: 3.7+ MB\n"
          ]
        }
      ],
      "source": [
        "df_rfm.info()"
      ]
    },
    {
      "cell_type": "markdown",
      "metadata": {
        "id": "oVBaBTHpEcXh"
      },
      "source": [
        "### Eliminate null data and NA"
      ]
    },
    {
      "cell_type": "code",
      "execution_count": null,
      "metadata": {
        "colab": {
          "base_uri": "https://localhost:8080/"
        },
        "id": "KbuaIWjPJUNF",
        "outputId": "52c776e1-bfd3-4025-d812-d132d2d5808d"
      },
      "outputs": [
        {
          "output_type": "stream",
          "name": "stdout",
          "text": [
            "<class 'pandas.core.frame.DataFrame'>\n",
            "Int64Index: 121253 entries, 0 to 121252\n",
            "Data columns (total 3 columns):\n",
            " #   Column        Non-Null Count   Dtype         \n",
            "---  ------        --------------   -----         \n",
            " 0   Date          121253 non-null  datetime64[ns]\n",
            " 1   Sales Order   121253 non-null  object        \n",
            " 2   Sales Amount  121253 non-null  float64       \n",
            "dtypes: datetime64[ns](1), float64(1), object(1)\n",
            "memory usage: 3.7+ MB\n"
          ]
        }
      ],
      "source": [
        "df_rfm = df_rfm.dropna()\n",
        "df_rfm.info()"
      ]
    },
    {
      "cell_type": "code",
      "execution_count": null,
      "metadata": {
        "colab": {
          "base_uri": "https://localhost:8080/"
        },
        "id": "74Fxp5AyKf_W",
        "outputId": "d2469575-edb6-42cb-e154-c1378dc98356"
      },
      "outputs": [
        {
          "output_type": "stream",
          "name": "stdout",
          "text": [
            "<class 'pandas.core.frame.DataFrame'>\n",
            "Int64Index: 121253 entries, 0 to 121252\n",
            "Data columns (total 3 columns):\n",
            " #   Column        Non-Null Count   Dtype\n",
            "---  ------        --------------   -----\n",
            " 0   Date          121253 non-null  bool \n",
            " 1   Sales Order   121253 non-null  bool \n",
            " 2   Sales Amount  121253 non-null  bool \n",
            "dtypes: bool(3)\n",
            "memory usage: 1.3 MB\n"
          ]
        }
      ],
      "source": [
        "df_rfm = df_rfm.isnull()\n",
        "df_rfm.info()"
      ]
    },
    {
      "cell_type": "code",
      "execution_count": null,
      "metadata": {
        "colab": {
          "base_uri": "https://localhost:8080/"
        },
        "id": "HGb8PR6Q1y0S",
        "outputId": "c705cc2f-6e4e-4269-a99d-00f006a4ea03"
      },
      "outputs": [
        {
          "output_type": "stream",
          "name": "stdout",
          "text": [
            "<class 'pandas.core.frame.DataFrame'>\n",
            "Int64Index: 60398 entries, 60855 to 121252\n",
            "Data columns (total 3 columns):\n",
            " #   Column        Non-Null Count  Dtype         \n",
            "---  ------        --------------  -----         \n",
            " 0   Date          60398 non-null  datetime64[ns]\n",
            " 1   Sales Order   60398 non-null  object        \n",
            " 2   Sales Amount  60398 non-null  float64       \n",
            "dtypes: datetime64[ns](1), float64(1), object(1)\n",
            "memory usage: 1.8+ MB\n"
          ]
        }
      ],
      "source": [
        "df_merge = df_merge[(df_merge['CustomerKey'] != -1)]\n",
        "df_rfm = df_merge.iloc[:,[18,16,14]]\n",
        "df_rfm.info()"
      ]
    },
    {
      "cell_type": "code",
      "execution_count": null,
      "metadata": {
        "colab": {
          "base_uri": "https://localhost:8080/",
          "height": 424
        },
        "id": "93pi11sqIiMZ",
        "outputId": "ce70253c-77d7-4d40-a315-21beff97f1b5"
      },
      "outputs": [
        {
          "output_type": "execute_result",
          "data": {
            "text/plain": [
              "       CustomerKey       Date\n",
              "60855      21768.0 2017-07-01\n",
              "60856      28389.0 2017-07-01\n",
              "60857      25863.0 2017-07-01\n",
              "60858      14501.0 2017-07-01\n",
              "60859      11003.0 2017-07-01\n",
              "...            ...        ...\n",
              "60950      16623.0 2017-07-12\n",
              "60951      11000.0 2017-07-12\n",
              "60952      11029.0 2017-07-12\n",
              "60953      27615.0 2017-07-13\n",
              "60954      17956.0 2017-07-13\n",
              "\n",
              "[100 rows x 2 columns]"
            ],
            "text/html": [
              "\n",
              "  <div id=\"df-dd846d46-a2f7-45f3-a1ca-f640bd66b3f2\">\n",
              "    <div class=\"colab-df-container\">\n",
              "      <div>\n",
              "<style scoped>\n",
              "    .dataframe tbody tr th:only-of-type {\n",
              "        vertical-align: middle;\n",
              "    }\n",
              "\n",
              "    .dataframe tbody tr th {\n",
              "        vertical-align: top;\n",
              "    }\n",
              "\n",
              "    .dataframe thead th {\n",
              "        text-align: right;\n",
              "    }\n",
              "</style>\n",
              "<table border=\"1\" class=\"dataframe\">\n",
              "  <thead>\n",
              "    <tr style=\"text-align: right;\">\n",
              "      <th></th>\n",
              "      <th>CustomerKey</th>\n",
              "      <th>Date</th>\n",
              "    </tr>\n",
              "  </thead>\n",
              "  <tbody>\n",
              "    <tr>\n",
              "      <th>60855</th>\n",
              "      <td>21768.0</td>\n",
              "      <td>2017-07-01</td>\n",
              "    </tr>\n",
              "    <tr>\n",
              "      <th>60856</th>\n",
              "      <td>28389.0</td>\n",
              "      <td>2017-07-01</td>\n",
              "    </tr>\n",
              "    <tr>\n",
              "      <th>60857</th>\n",
              "      <td>25863.0</td>\n",
              "      <td>2017-07-01</td>\n",
              "    </tr>\n",
              "    <tr>\n",
              "      <th>60858</th>\n",
              "      <td>14501.0</td>\n",
              "      <td>2017-07-01</td>\n",
              "    </tr>\n",
              "    <tr>\n",
              "      <th>60859</th>\n",
              "      <td>11003.0</td>\n",
              "      <td>2017-07-01</td>\n",
              "    </tr>\n",
              "    <tr>\n",
              "      <th>...</th>\n",
              "      <td>...</td>\n",
              "      <td>...</td>\n",
              "    </tr>\n",
              "    <tr>\n",
              "      <th>60950</th>\n",
              "      <td>16623.0</td>\n",
              "      <td>2017-07-12</td>\n",
              "    </tr>\n",
              "    <tr>\n",
              "      <th>60951</th>\n",
              "      <td>11000.0</td>\n",
              "      <td>2017-07-12</td>\n",
              "    </tr>\n",
              "    <tr>\n",
              "      <th>60952</th>\n",
              "      <td>11029.0</td>\n",
              "      <td>2017-07-12</td>\n",
              "    </tr>\n",
              "    <tr>\n",
              "      <th>60953</th>\n",
              "      <td>27615.0</td>\n",
              "      <td>2017-07-13</td>\n",
              "    </tr>\n",
              "    <tr>\n",
              "      <th>60954</th>\n",
              "      <td>17956.0</td>\n",
              "      <td>2017-07-13</td>\n",
              "    </tr>\n",
              "  </tbody>\n",
              "</table>\n",
              "<p>100 rows × 2 columns</p>\n",
              "</div>\n",
              "      <button class=\"colab-df-convert\" onclick=\"convertToInteractive('df-dd846d46-a2f7-45f3-a1ca-f640bd66b3f2')\"\n",
              "              title=\"Convert this dataframe to an interactive table.\"\n",
              "              style=\"display:none;\">\n",
              "        \n",
              "  <svg xmlns=\"http://www.w3.org/2000/svg\" height=\"24px\"viewBox=\"0 0 24 24\"\n",
              "       width=\"24px\">\n",
              "    <path d=\"M0 0h24v24H0V0z\" fill=\"none\"/>\n",
              "    <path d=\"M18.56 5.44l.94 2.06.94-2.06 2.06-.94-2.06-.94-.94-2.06-.94 2.06-2.06.94zm-11 1L8.5 8.5l.94-2.06 2.06-.94-2.06-.94L8.5 2.5l-.94 2.06-2.06.94zm10 10l.94 2.06.94-2.06 2.06-.94-2.06-.94-.94-2.06-.94 2.06-2.06.94z\"/><path d=\"M17.41 7.96l-1.37-1.37c-.4-.4-.92-.59-1.43-.59-.52 0-1.04.2-1.43.59L10.3 9.45l-7.72 7.72c-.78.78-.78 2.05 0 2.83L4 21.41c.39.39.9.59 1.41.59.51 0 1.02-.2 1.41-.59l7.78-7.78 2.81-2.81c.8-.78.8-2.07 0-2.86zM5.41 20L4 18.59l7.72-7.72 1.47 1.35L5.41 20z\"/>\n",
              "  </svg>\n",
              "      </button>\n",
              "      \n",
              "  <style>\n",
              "    .colab-df-container {\n",
              "      display:flex;\n",
              "      flex-wrap:wrap;\n",
              "      gap: 12px;\n",
              "    }\n",
              "\n",
              "    .colab-df-convert {\n",
              "      background-color: #E8F0FE;\n",
              "      border: none;\n",
              "      border-radius: 50%;\n",
              "      cursor: pointer;\n",
              "      display: none;\n",
              "      fill: #1967D2;\n",
              "      height: 32px;\n",
              "      padding: 0 0 0 0;\n",
              "      width: 32px;\n",
              "    }\n",
              "\n",
              "    .colab-df-convert:hover {\n",
              "      background-color: #E2EBFA;\n",
              "      box-shadow: 0px 1px 2px rgba(60, 64, 67, 0.3), 0px 1px 3px 1px rgba(60, 64, 67, 0.15);\n",
              "      fill: #174EA6;\n",
              "    }\n",
              "\n",
              "    [theme=dark] .colab-df-convert {\n",
              "      background-color: #3B4455;\n",
              "      fill: #D2E3FC;\n",
              "    }\n",
              "\n",
              "    [theme=dark] .colab-df-convert:hover {\n",
              "      background-color: #434B5C;\n",
              "      box-shadow: 0px 1px 3px 1px rgba(0, 0, 0, 0.15);\n",
              "      filter: drop-shadow(0px 1px 2px rgba(0, 0, 0, 0.3));\n",
              "      fill: #FFFFFF;\n",
              "    }\n",
              "  </style>\n",
              "\n",
              "      <script>\n",
              "        const buttonEl =\n",
              "          document.querySelector('#df-dd846d46-a2f7-45f3-a1ca-f640bd66b3f2 button.colab-df-convert');\n",
              "        buttonEl.style.display =\n",
              "          google.colab.kernel.accessAllowed ? 'block' : 'none';\n",
              "\n",
              "        async function convertToInteractive(key) {\n",
              "          const element = document.querySelector('#df-dd846d46-a2f7-45f3-a1ca-f640bd66b3f2');\n",
              "          const dataTable =\n",
              "            await google.colab.kernel.invokeFunction('convertToInteractive',\n",
              "                                                     [key], {});\n",
              "          if (!dataTable) return;\n",
              "\n",
              "          const docLinkHtml = 'Like what you see? Visit the ' +\n",
              "            '<a target=\"_blank\" href=https://colab.research.google.com/notebooks/data_table.ipynb>data table notebook</a>'\n",
              "            + ' to learn more about interactive tables.';\n",
              "          element.innerHTML = '';\n",
              "          dataTable['output_type'] = 'display_data';\n",
              "          await google.colab.output.renderOutput(dataTable, element);\n",
              "          const docLink = document.createElement('div');\n",
              "          docLink.innerHTML = docLinkHtml;\n",
              "          element.appendChild(docLink);\n",
              "        }\n",
              "      </script>\n",
              "    </div>\n",
              "  </div>\n",
              "  "
            ]
          },
          "metadata": {},
          "execution_count": 213
        }
      ],
      "source": [
        "df_retention = df_merge.iloc[:,[2,18]]\n",
        "df_retention.head(100)"
      ]
    },
    {
      "cell_type": "code",
      "execution_count": null,
      "metadata": {
        "id": "WJZqiPM9Dmju"
      },
      "outputs": [],
      "source": [
        "df_cohort = df_rfm.copy()"
      ]
    },
    {
      "cell_type": "markdown",
      "metadata": {
        "id": "Tr1xzOnCR3DT"
      },
      "source": [
        "# **Data visualization**"
      ]
    },
    {
      "cell_type": "code",
      "execution_count": null,
      "metadata": {
        "id": "tXupGat48__J"
      },
      "outputs": [],
      "source": [
        "df_eda = df_merge.iloc[:,[31, 36, 38, 39, 40, 42]]"
      ]
    },
    {
      "cell_type": "code",
      "execution_count": null,
      "metadata": {
        "colab": {
          "base_uri": "https://localhost:8080/"
        },
        "id": "U9htrKCHdp4v",
        "outputId": "bcd9bf25-037f-4582-be55-8bb5aa32fd4f"
      },
      "outputs": [
        {
          "output_type": "execute_result",
          "data": {
            "text/plain": [
              "Text(0.5, 1.0, 'Orders Quantity By Country')"
            ]
          },
          "metadata": {},
          "execution_count": 216
        },
        {
          "output_type": "display_data",
          "data": {
            "text/plain": [
              "<Figure size 1080x576 with 1 Axes>"
            ],
            "image/png": "[encoded data removed]"
          },
          "metadata": {}
        }
      ],
      "source": [
        "plt.figure(figsize=(15,8))\n",
        "countries_pie = df_eda['Country-Region'].value_counts()\n",
        "plt.pie(countries_pie, autopct='%.0f%%', labels = pd.unique(pd.Series(df_eda['Country-Region'].values)))\n",
        "plt.title('Orders Quantity By Country')"
      ]
    },
    {
      "cell_type": "code",
      "execution_count": null,
      "metadata": {
        "colab": {
          "base_uri": "https://localhost:8080/"
        },
        "id": "4RwGfkfzLkDk",
        "outputId": "b63f8933-4dcb-4a93-aca2-c763c90ed1b2"
      },
      "outputs": [
        {
          "output_type": "execute_result",
          "data": {
            "text/plain": [
              "Text(0.5, 1.0, 'Amount Of Each Category In Countries')"
            ]
          },
          "metadata": {},
          "execution_count": 217
        },
        {
          "output_type": "display_data",
          "data": {
            "text/plain": [
              "<Figure size 1080x576 with 1 Axes>"
            ],
            "image/png": "[encoded data removed]"
          },
          "metadata": {}
        }
      ],
      "source": [
        "plt.figure(figsize=(15,8))\n",
        "sns.countplot(x=df_eda['Category'], hue=df_eda['Country-Region'])\n",
        "plt.title('Amount Of Each Category In Countries')"
      ]
    },
    {
      "cell_type": "code",
      "execution_count": null,
      "metadata": {
        "colab": {
          "base_uri": "https://localhost:8080/"
        },
        "id": "v8-PAKDnO8KY",
        "outputId": "529462af-e434-4b20-c02d-f990aa66a15d"
      },
      "outputs": [
        {
          "output_type": "execute_result",
          "data": {
            "text/plain": [
              "Text(0.5, 1.0, 'Number of Orders Each Territory')"
            ]
          },
          "metadata": {},
          "execution_count": 218
        },
        {
          "output_type": "display_data",
          "data": {
            "text/plain": [
              "<Figure size 1080x576 with 1 Axes>"
            ],
            "image/png": "[encoded data removed]"
          },
          "metadata": {}
        }
      ],
      "source": [
        "  plt.figure(figsize=(15,8))\n",
        "  sns.countplot(x=df_eda['Region'], hue=df_eda['Country'])\n",
        "  plt.title('Number of Orders Each Territory')"
      ]
    },
    {
      "cell_type": "code",
      "execution_count": null,
      "metadata": {
        "colab": {
          "base_uri": "https://localhost:8080/"
        },
        "id": "Hs3HaCO8qdAF",
        "outputId": "fc0861ab-bb6e-40ea-b084-becab736fb31"
      },
      "outputs": [
        {
          "output_type": "display_data",
          "data": {
            "text/html": [
              "<html>\n",
              "<head><meta charset=\"utf-8\" /></head>\n",
              "<body>\n",
              "    <div>            <script src=\"https://cdnjs.cloudflare.com/ajax/libs/mathjax/2.7.5/MathJax.js?config=TeX-AMS-MML_SVG\"></script><script type=\"text/javascript\">if (window.MathJax) {MathJax.Hub.Config({SVG: {font: \"STIX-Web\"}});}</script>                <script type=\"text/javascript\">window.PlotlyConfig = {MathJaxConfig: 'local'};</script>\n",
              "        <script src=\"https://cdn.plot.ly/plotly-2.8.3.min.js\"></script>                <div id=\"d7f226d7-30f2-4944-9ab7-400c2c02299b\" class=\"plotly-graph-div\" style=\"height:525px; width:100%;\"></div>            <script type=\"text/javascript\">                                    window.PLOTLYENV=window.PLOTLYENV || {};                                    if (document.getElementById(\"d7f226d7-30f2-4944-9ab7-400c2c02299b\")) {                    Plotly.newPlot(                        \"d7f226d7-30f2-4944-9ab7-400c2c02299b\",                        [{\"alignmentgroup\":\"True\",\"hovertemplate\":\"Date=%{x}<br>Sales Order=%{y}<extra></extra>\",\"legendgroup\":\"\",\"marker\":{\"color\":\"#636efa\",\"pattern\":{\"shape\":\"\"}},\"name\":\"\",\"offsetgroup\":\"\",\"orientation\":\"v\",\"showlegend\":false,\"textposition\":\"auto\",\"x\":[\"2017-07-31T00:00:00\",\"2017-08-31T00:00:00\",\"2017-09-30T00:00:00\",\"2017-10-31T00:00:00\",\"2017-11-30T00:00:00\",\"2017-12-31T00:00:00\",\"2018-01-31T00:00:00\",\"2018-02-28T00:00:00\",\"2018-03-31T00:00:00\",\"2018-04-30T00:00:00\",\"2018-05-31T00:00:00\",\"2018-06-30T00:00:00\",\"2018-07-31T00:00:00\",\"2018-08-31T00:00:00\",\"2018-09-30T00:00:00\",\"2018-10-31T00:00:00\",\"2018-11-30T00:00:00\",\"2018-12-31T00:00:00\",\"2019-01-31T00:00:00\",\"2019-02-28T00:00:00\",\"2019-03-31T00:00:00\",\"2019-04-30T00:00:00\",\"2019-05-31T00:00:00\",\"2019-06-30T00:00:00\",\"2019-07-31T00:00:00\",\"2019-08-31T00:00:00\",\"2019-09-30T00:00:00\",\"2019-10-31T00:00:00\",\"2019-11-30T00:00:00\",\"2019-12-31T00:00:00\",\"2020-01-31T00:00:00\",\"2020-02-29T00:00:00\",\"2020-03-31T00:00:00\",\"2020-04-30T00:00:00\",\"2020-05-31T00:00:00\",\"2020-06-30T00:00:00\"],\"xaxis\":\"x\",\"y\":[289,159,161,174,230,188,193,177,219,202,222,245,281,206,221,204,319,244,298,246,307,322,356,1376,3819,4014,4017,4344,5100,4585,4920,4403,5308,5295,5624,2130],\"yaxis\":\"y\",\"type\":\"bar\"}],                        {\"template\":{\"data\":{\"bar\":[{\"error_x\":{\"color\":\"#2a3f5f\"},\"error_y\":{\"color\":\"#2a3f5f\"},\"marker\":{\"line\":{\"color\":\"#E5ECF6\",\"width\":0.5},\"pattern\":{\"fillmode\":\"overlay\",\"size\":10,\"solidity\":0.2}},\"type\":\"bar\"}],\"barpolar\":[{\"marker\":{\"line\":{\"color\":\"#E5ECF6\",\"width\":0.5},\"pattern\":{\"fillmode\":\"overlay\",\"size\":10,\"solidity\":0.2}},\"type\":\"barpolar\"}],\"carpet\":[{\"aaxis\":{\"endlinecolor\":\"#2a3f5f\",\"gridcolor\":\"white\",\"linecolor\":\"white\",\"minorgridcolor\":\"white\",\"startlinecolor\":\"#2a3f5f\"},\"baxis\":{\"endlinecolor\":\"#2a3f5f\",\"gridcolor\":\"white\",\"linecolor\":\"white\",\"minorgridcolor\":\"white\",\"startlinecolor\":\"#2a3f5f\"},\"type\":\"carpet\"}],\"choropleth\":[{\"colorbar\":{\"outlinewidth\":0,\"ticks\":\"\"},\"type\":\"choropleth\"}],\"contour\":[{\"colorbar\":{\"outlinewidth\":0,\"ticks\":\"\"},\"colorscale\":[[0.0,\"#0d0887\"],[0.1111111111111111,\"#46039f\"],[0.2222222222222222,\"#7201a8\"],[0.3333333333333333,\"#9c179e\"],[0.4444444444444444,\"#bd3786\"],[0.5555555555555556,\"#d8576b\"],[0.6666666666666666,\"#ed7953\"],[0.7777777777777778,\"#fb9f3a\"],[0.8888888888888888,\"#fdca26\"],[1.0,\"#f0f921\"]],\"type\":\"contour\"}],\"contourcarpet\":[{\"colorbar\":{\"outlinewidth\":0,\"ticks\":\"\"},\"type\":\"contourcarpet\"}],\"heatmap\":[{\"colorbar\":{\"outlinewidth\":0,\"ticks\":\"\"},\"colorscale\":[[0.0,\"#0d0887\"],[0.1111111111111111,\"#46039f\"],[0.2222222222222222,\"#7201a8\"],[0.3333333333333333,\"#9c179e\"],[0.4444444444444444,\"#bd3786\"],[0.5555555555555556,\"#d8576b\"],[0.6666666666666666,\"#ed7953\"],[0.7777777777777778,\"#fb9f3a\"],[0.8888888888888888,\"#fdca26\"],[1.0,\"#f0f921\"]],\"type\":\"heatmap\"}],\"heatmapgl\":[{\"colorbar\":{\"outlinewidth\":0,\"ticks\":\"\"},\"colorscale\":[[0.0,\"#0d0887\"],[0.1111111111111111,\"#46039f\"],[0.2222222222222222,\"#7201a8\"],[0.3333333333333333,\"#9c179e\"],[0.4444444444444444,\"#bd3786\"],[0.5555555555555556,\"#d8576b\"],[0.6666666666666666,\"#ed7953\"],[0.7777777777777778,\"#fb9f3a\"],[0.8888888888888888,\"#fdca26\"],[1.0,\"#f0f921\"]],\"type\":\"heatmapgl\"}],\"histogram\":[{\"marker\":{\"pattern\":{\"fillmode\":\"overlay\",\"size\":10,\"solidity\":0.2}},\"type\":\"histogram\"}],\"histogram2d\":[{\"colorbar\":{\"outlinewidth\":0,\"ticks\":\"\"},\"colorscale\":[[0.0,\"#0d0887\"],[0.1111111111111111,\"#46039f\"],[0.2222222222222222,\"#7201a8\"],[0.3333333333333333,\"#9c179e\"],[0.4444444444444444,\"#bd3786\"],[0.5555555555555556,\"#d8576b\"],[0.6666666666666666,\"#ed7953\"],[0.7777777777777778,\"#fb9f3a\"],[0.8888888888888888,\"#fdca26\"],[1.0,\"#f0f921\"]],\"type\":\"histogram2d\"}],\"histogram2dcontour\":[{\"colorbar\":{\"outlinewidth\":0,\"ticks\":\"\"},\"colorscale\":[[0.0,\"#0d0887\"],[0.1111111111111111,\"#46039f\"],[0.2222222222222222,\"#7201a8\"],[0.3333333333333333,\"#9c179e\"],[0.4444444444444444,\"#bd3786\"],[0.5555555555555556,\"#d8576b\"],[0.6666666666666666,\"#ed7953\"],[0.7777777777777778,\"#fb9f3a\"],[0.8888888888888888,\"#fdca26\"],[1.0,\"#f0f921\"]],\"type\":\"histogram2dcontour\"}],\"mesh3d\":[{\"colorbar\":{\"outlinewidth\":0,\"ticks\":\"\"},\"type\":\"mesh3d\"}],\"parcoords\":[{\"line\":{\"colorbar\":{\"outlinewidth\":0,\"ticks\":\"\"}},\"type\":\"parcoords\"}],\"pie\":[{\"automargin\":true,\"type\":\"pie\"}],\"scatter\":[{\"marker\":{\"colorbar\":{\"outlinewidth\":0,\"ticks\":\"\"}},\"type\":\"scatter\"}],\"scatter3d\":[{\"line\":{\"colorbar\":{\"outlinewidth\":0,\"ticks\":\"\"}},\"marker\":{\"colorbar\":{\"outlinewidth\":0,\"ticks\":\"\"}},\"type\":\"scatter3d\"}],\"scattercarpet\":[{\"marker\":{\"colorbar\":{\"outlinewidth\":0,\"ticks\":\"\"}},\"type\":\"scattercarpet\"}],\"scattergeo\":[{\"marker\":{\"colorbar\":{\"outlinewidth\":0,\"ticks\":\"\"}},\"type\":\"scattergeo\"}],\"scattergl\":[{\"marker\":{\"colorbar\":{\"outlinewidth\":0,\"ticks\":\"\"}},\"type\":\"scattergl\"}],\"scattermapbox\":[{\"marker\":{\"colorbar\":{\"outlinewidth\":0,\"ticks\":\"\"}},\"type\":\"scattermapbox\"}],\"scatterpolar\":[{\"marker\":{\"colorbar\":{\"outlinewidth\":0,\"ticks\":\"\"}},\"type\":\"scatterpolar\"}],\"scatterpolargl\":[{\"marker\":{\"colorbar\":{\"outlinewidth\":0,\"ticks\":\"\"}},\"type\":\"scatterpolargl\"}],\"scatterternary\":[{\"marker\":{\"colorbar\":{\"outlinewidth\":0,\"ticks\":\"\"}},\"type\":\"scatterternary\"}],\"surface\":[{\"colorbar\":{\"outlinewidth\":0,\"ticks\":\"\"},\"colorscale\":[[0.0,\"#0d0887\"],[0.1111111111111111,\"#46039f\"],[0.2222222222222222,\"#7201a8\"],[0.3333333333333333,\"#9c179e\"],[0.4444444444444444,\"#bd3786\"],[0.5555555555555556,\"#d8576b\"],[0.6666666666666666,\"#ed7953\"],[0.7777777777777778,\"#fb9f3a\"],[0.8888888888888888,\"#fdca26\"],[1.0,\"#f0f921\"]],\"type\":\"surface\"}],\"table\":[{\"cells\":{\"fill\":{\"color\":\"#EBF0F8\"},\"line\":{\"color\":\"white\"}},\"header\":{\"fill\":{\"color\":\"#C8D4E3\"},\"line\":{\"color\":\"white\"}},\"type\":\"table\"}]},\"layout\":{\"annotationdefaults\":{\"arrowcolor\":\"#2a3f5f\",\"arrowhead\":0,\"arrowwidth\":1},\"autotypenumbers\":\"strict\",\"coloraxis\":{\"colorbar\":{\"outlinewidth\":0,\"ticks\":\"\"}},\"colorscale\":{\"diverging\":[[0,\"#8e0152\"],[0.1,\"#c51b7d\"],[0.2,\"#de77ae\"],[0.3,\"#f1b6da\"],[0.4,\"#fde0ef\"],[0.5,\"#f7f7f7\"],[0.6,\"#e6f5d0\"],[0.7,\"#b8e186\"],[0.8,\"#7fbc41\"],[0.9,\"#4d9221\"],[1,\"#276419\"]],\"sequential\":[[0.0,\"#0d0887\"],[0.1111111111111111,\"#46039f\"],[0.2222222222222222,\"#7201a8\"],[0.3333333333333333,\"#9c179e\"],[0.4444444444444444,\"#bd3786\"],[0.5555555555555556,\"#d8576b\"],[0.6666666666666666,\"#ed7953\"],[0.7777777777777778,\"#fb9f3a\"],[0.8888888888888888,\"#fdca26\"],[1.0,\"#f0f921\"]],\"sequentialminus\":[[0.0,\"#0d0887\"],[0.1111111111111111,\"#46039f\"],[0.2222222222222222,\"#7201a8\"],[0.3333333333333333,\"#9c179e\"],[0.4444444444444444,\"#bd3786\"],[0.5555555555555556,\"#d8576b\"],[0.6666666666666666,\"#ed7953\"],[0.7777777777777778,\"#fb9f3a\"],[0.8888888888888888,\"#fdca26\"],[1.0,\"#f0f921\"]]},\"colorway\":[\"#636efa\",\"#EF553B\",\"#00cc96\",\"#ab63fa\",\"#FFA15A\",\"#19d3f3\",\"#FF6692\",\"#B6E880\",\"#FF97FF\",\"#FECB52\"],\"font\":{\"color\":\"#2a3f5f\"},\"geo\":{\"bgcolor\":\"white\",\"lakecolor\":\"white\",\"landcolor\":\"#E5ECF6\",\"showlakes\":true,\"showland\":true,\"subunitcolor\":\"white\"},\"hoverlabel\":{\"align\":\"left\"},\"hovermode\":\"closest\",\"mapbox\":{\"style\":\"light\"},\"paper_bgcolor\":\"white\",\"plot_bgcolor\":\"#E5ECF6\",\"polar\":{\"angularaxis\":{\"gridcolor\":\"white\",\"linecolor\":\"white\",\"ticks\":\"\"},\"bgcolor\":\"#E5ECF6\",\"radialaxis\":{\"gridcolor\":\"white\",\"linecolor\":\"white\",\"ticks\":\"\"}},\"scene\":{\"xaxis\":{\"backgroundcolor\":\"#E5ECF6\",\"gridcolor\":\"white\",\"gridwidth\":2,\"linecolor\":\"white\",\"showbackground\":true,\"ticks\":\"\",\"zerolinecolor\":\"white\"},\"yaxis\":{\"backgroundcolor\":\"#E5ECF6\",\"gridcolor\":\"white\",\"gridwidth\":2,\"linecolor\":\"white\",\"showbackground\":true,\"ticks\":\"\",\"zerolinecolor\":\"white\"},\"zaxis\":{\"backgroundcolor\":\"#E5ECF6\",\"gridcolor\":\"white\",\"gridwidth\":2,\"linecolor\":\"white\",\"showbackground\":true,\"ticks\":\"\",\"zerolinecolor\":\"white\"}},\"shapedefaults\":{\"line\":{\"color\":\"#2a3f5f\"}},\"ternary\":{\"aaxis\":{\"gridcolor\":\"white\",\"linecolor\":\"white\",\"ticks\":\"\"},\"baxis\":{\"gridcolor\":\"white\",\"linecolor\":\"white\",\"ticks\":\"\"},\"bgcolor\":\"#E5ECF6\",\"caxis\":{\"gridcolor\":\"white\",\"linecolor\":\"white\",\"ticks\":\"\"}},\"title\":{\"x\":0.05},\"xaxis\":{\"automargin\":true,\"gridcolor\":\"white\",\"linecolor\":\"white\",\"ticks\":\"\",\"title\":{\"standoff\":15},\"zerolinecolor\":\"white\",\"zerolinewidth\":2},\"yaxis\":{\"automargin\":true,\"gridcolor\":\"white\",\"linecolor\":\"white\",\"ticks\":\"\",\"title\":{\"standoff\":15},\"zerolinecolor\":\"white\",\"zerolinewidth\":2}}},\"xaxis\":{\"anchor\":\"y\",\"domain\":[0.0,1.0],\"title\":{\"text\":\"Date\"}},\"yaxis\":{\"anchor\":\"x\",\"domain\":[0.0,1.0],\"title\":{\"text\":\"Sales Order\"}},\"legend\":{\"tracegroupgap\":0},\"title\":{\"text\":\"Number of Sales Order per month\"},\"barmode\":\"relative\"},                        {\"responsive\": true}                    ).then(function(){\n",
              "                            \n",
              "var gd = document.getElementById('d7f226d7-30f2-4944-9ab7-400c2c02299b');\n",
              "var x = new MutationObserver(function (mutations, observer) {{\n",
              "        var display = window.getComputedStyle(gd).display;\n",
              "        if (!display || display === 'none') {{\n",
              "            console.log([gd, 'removed!']);\n",
              "            Plotly.purge(gd);\n",
              "            observer.disconnect();\n",
              "        }}\n",
              "}});\n",
              "\n",
              "// Listen for the removal of the full notebook cells\n",
              "var notebookContainer = gd.closest('#notebook-container');\n",
              "if (notebookContainer) {{\n",
              "    x.observe(notebookContainer, {childList: true});\n",
              "}}\n",
              "\n",
              "// Listen for the clearing of the current output cell\n",
              "var outputEl = gd.closest('.output');\n",
              "if (outputEl) {{\n",
              "    x.observe(outputEl, {childList: true});\n",
              "}}\n",
              "\n",
              "                        })                };                            </script>        </div>\n",
              "</body>\n",
              "</html>"
            ]
          },
          "metadata": {}
        }
      ],
      "source": [
        "fig1 = px.bar(df_merge[['Date','Sales Order']].set_index('Date').resample('M').count().reset_index(),\n",
        "       x='Date', y='Sales Order', title = 'Number of Sales Order per month')\n",
        "fig1.show()"
      ]
    },
    {
      "cell_type": "code",
      "execution_count": null,
      "metadata": {
        "colab": {
          "base_uri": "https://localhost:8080/"
        },
        "id": "AzqPlXB4S15x",
        "outputId": "331d2087-95fa-4712-94d3-c4d217746a4b"
      },
      "outputs": [
        {
          "output_type": "display_data",
          "data": {
            "text/html": [
              "<html>\n",
              "<head><meta charset=\"utf-8\" /></head>\n",
              "<body>\n",
              "    <div>            <script src=\"https://cdnjs.cloudflare.com/ajax/libs/mathjax/2.7.5/MathJax.js?config=TeX-AMS-MML_SVG\"></script><script type=\"text/javascript\">if (window.MathJax) {MathJax.Hub.Config({SVG: {font: \"STIX-Web\"}});}</script>                <script type=\"text/javascript\">window.PlotlyConfig = {MathJaxConfig: 'local'};</script>\n",
              "        <script src=\"https://cdn.plot.ly/plotly-2.8.3.min.js\"></script>                <div id=\"c7dab3c8-ab7d-4157-9656-53c5a8122b2c\" class=\"plotly-graph-div\" style=\"height:525px; width:100%;\"></div>            <script type=\"text/javascript\">                                    window.PLOTLYENV=window.PLOTLYENV || {};                                    if (document.getElementById(\"c7dab3c8-ab7d-4157-9656-53c5a8122b2c\")) {                    Plotly.newPlot(                        \"c7dab3c8-ab7d-4157-9656-53c5a8122b2c\",                        [{\"hovertemplate\":\"Date=%{x}<br>Sales Amount=%{y}<extra></extra>\",\"legendgroup\":\"\",\"line\":{\"color\":\"#636efa\",\"dash\":\"solid\"},\"marker\":{\"symbol\":\"circle\"},\"mode\":\"lines+markers\",\"name\":\"\",\"orientation\":\"v\",\"showlegend\":false,\"x\":[\"2017-07-31T00:00:00\",\"2017-08-31T00:00:00\",\"2017-09-30T00:00:00\",\"2017-10-31T00:00:00\",\"2017-11-30T00:00:00\",\"2017-12-31T00:00:00\",\"2018-01-31T00:00:00\",\"2018-02-28T00:00:00\",\"2018-03-31T00:00:00\",\"2018-04-30T00:00:00\",\"2018-05-31T00:00:00\",\"2018-06-30T00:00:00\",\"2018-07-31T00:00:00\",\"2018-08-31T00:00:00\",\"2018-09-30T00:00:00\",\"2018-10-31T00:00:00\",\"2018-11-30T00:00:00\",\"2018-12-31T00:00:00\",\"2019-01-31T00:00:00\",\"2019-02-28T00:00:00\",\"2019-03-31T00:00:00\",\"2019-04-30T00:00:00\",\"2019-05-31T00:00:00\",\"2019-06-30T00:00:00\",\"2019-07-31T00:00:00\",\"2019-08-31T00:00:00\",\"2019-09-30T00:00:00\",\"2019-10-31T00:00:00\",\"2019-11-30T00:00:00\",\"2019-12-31T00:00:00\",\"2020-01-31T00:00:00\",\"2020-02-29T00:00:00\",\"2020-03-31T00:00:00\",\"2020-04-30T00:00:00\",\"2020-05-31T00:00:00\",\"2020-06-30T00:00:00\"],\"xaxis\":\"x\",\"y\":[934028.7442,519494.1412,513329.474,561681.4758,737839.8214,596746.5568,614557.9349999999,580393.9612,700873.1832,636375.3014,691261.3806,485867.424,546001.4708,363610.4897,402246.7348,355133.1865,557275.9024,438865.1718,530150.0785,444515.0494,528479.2708,540692.5591,578691.3581,862776.71,847413.51,1034193.82,1056513.89,1260033.7,1668735.18,1340244.95,1572639.91,1370745.0999999999,1691178.91,1795889.13,1951195.9,49005.840000000004],\"yaxis\":\"y\",\"type\":\"scatter\"}],                        {\"template\":{\"data\":{\"bar\":[{\"error_x\":{\"color\":\"#2a3f5f\"},\"error_y\":{\"color\":\"#2a3f5f\"},\"marker\":{\"line\":{\"color\":\"#E5ECF6\",\"width\":0.5},\"pattern\":{\"fillmode\":\"overlay\",\"size\":10,\"solidity\":0.2}},\"type\":\"bar\"}],\"barpolar\":[{\"marker\":{\"line\":{\"color\":\"#E5ECF6\",\"width\":0.5},\"pattern\":{\"fillmode\":\"overlay\",\"size\":10,\"solidity\":0.2}},\"type\":\"barpolar\"}],\"carpet\":[{\"aaxis\":{\"endlinecolor\":\"#2a3f5f\",\"gridcolor\":\"white\",\"linecolor\":\"white\",\"minorgridcolor\":\"white\",\"startlinecolor\":\"#2a3f5f\"},\"baxis\":{\"endlinecolor\":\"#2a3f5f\",\"gridcolor\":\"white\",\"linecolor\":\"white\",\"minorgridcolor\":\"white\",\"startlinecolor\":\"#2a3f5f\"},\"type\":\"carpet\"}],\"choropleth\":[{\"colorbar\":{\"outlinewidth\":0,\"ticks\":\"\"},\"type\":\"choropleth\"}],\"contour\":[{\"colorbar\":{\"outlinewidth\":0,\"ticks\":\"\"},\"colorscale\":[[0.0,\"#0d0887\"],[0.1111111111111111,\"#46039f\"],[0.2222222222222222,\"#7201a8\"],[0.3333333333333333,\"#9c179e\"],[0.4444444444444444,\"#bd3786\"],[0.5555555555555556,\"#d8576b\"],[0.6666666666666666,\"#ed7953\"],[0.7777777777777778,\"#fb9f3a\"],[0.8888888888888888,\"#fdca26\"],[1.0,\"#f0f921\"]],\"type\":\"contour\"}],\"contourcarpet\":[{\"colorbar\":{\"outlinewidth\":0,\"ticks\":\"\"},\"type\":\"contourcarpet\"}],\"heatmap\":[{\"colorbar\":{\"outlinewidth\":0,\"ticks\":\"\"},\"colorscale\":[[0.0,\"#0d0887\"],[0.1111111111111111,\"#46039f\"],[0.2222222222222222,\"#7201a8\"],[0.3333333333333333,\"#9c179e\"],[0.4444444444444444,\"#bd3786\"],[0.5555555555555556,\"#d8576b\"],[0.6666666666666666,\"#ed7953\"],[0.7777777777777778,\"#fb9f3a\"],[0.8888888888888888,\"#fdca26\"],[1.0,\"#f0f921\"]],\"type\":\"heatmap\"}],\"heatmapgl\":[{\"colorbar\":{\"outlinewidth\":0,\"ticks\":\"\"},\"colorscale\":[[0.0,\"#0d0887\"],[0.1111111111111111,\"#46039f\"],[0.2222222222222222,\"#7201a8\"],[0.3333333333333333,\"#9c179e\"],[0.4444444444444444,\"#bd3786\"],[0.5555555555555556,\"#d8576b\"],[0.6666666666666666,\"#ed7953\"],[0.7777777777777778,\"#fb9f3a\"],[0.8888888888888888,\"#fdca26\"],[1.0,\"#f0f921\"]],\"type\":\"heatmapgl\"}],\"histogram\":[{\"marker\":{\"pattern\":{\"fillmode\":\"overlay\",\"size\":10,\"solidity\":0.2}},\"type\":\"histogram\"}],\"histogram2d\":[{\"colorbar\":{\"outlinewidth\":0,\"ticks\":\"\"},\"colorscale\":[[0.0,\"#0d0887\"],[0.1111111111111111,\"#46039f\"],[0.2222222222222222,\"#7201a8\"],[0.3333333333333333,\"#9c179e\"],[0.4444444444444444,\"#bd3786\"],[0.5555555555555556,\"#d8576b\"],[0.6666666666666666,\"#ed7953\"],[0.7777777777777778,\"#fb9f3a\"],[0.8888888888888888,\"#fdca26\"],[1.0,\"#f0f921\"]],\"type\":\"histogram2d\"}],\"histogram2dcontour\":[{\"colorbar\":{\"outlinewidth\":0,\"ticks\":\"\"},\"colorscale\":[[0.0,\"#0d0887\"],[0.1111111111111111,\"#46039f\"],[0.2222222222222222,\"#7201a8\"],[0.3333333333333333,\"#9c179e\"],[0.4444444444444444,\"#bd3786\"],[0.5555555555555556,\"#d8576b\"],[0.6666666666666666,\"#ed7953\"],[0.7777777777777778,\"#fb9f3a\"],[0.8888888888888888,\"#fdca26\"],[1.0,\"#f0f921\"]],\"type\":\"histogram2dcontour\"}],\"mesh3d\":[{\"colorbar\":{\"outlinewidth\":0,\"ticks\":\"\"},\"type\":\"mesh3d\"}],\"parcoords\":[{\"line\":{\"colorbar\":{\"outlinewidth\":0,\"ticks\":\"\"}},\"type\":\"parcoords\"}],\"pie\":[{\"automargin\":true,\"type\":\"pie\"}],\"scatter\":[{\"marker\":{\"colorbar\":{\"outlinewidth\":0,\"ticks\":\"\"}},\"type\":\"scatter\"}],\"scatter3d\":[{\"line\":{\"colorbar\":{\"outlinewidth\":0,\"ticks\":\"\"}},\"marker\":{\"colorbar\":{\"outlinewidth\":0,\"ticks\":\"\"}},\"type\":\"scatter3d\"}],\"scattercarpet\":[{\"marker\":{\"colorbar\":{\"outlinewidth\":0,\"ticks\":\"\"}},\"type\":\"scattercarpet\"}],\"scattergeo\":[{\"marker\":{\"colorbar\":{\"outlinewidth\":0,\"ticks\":\"\"}},\"type\":\"scattergeo\"}],\"scattergl\":[{\"marker\":{\"colorbar\":{\"outlinewidth\":0,\"ticks\":\"\"}},\"type\":\"scattergl\"}],\"scattermapbox\":[{\"marker\":{\"colorbar\":{\"outlinewidth\":0,\"ticks\":\"\"}},\"type\":\"scattermapbox\"}],\"scatterpolar\":[{\"marker\":{\"colorbar\":{\"outlinewidth\":0,\"ticks\":\"\"}},\"type\":\"scatterpolar\"}],\"scatterpolargl\":[{\"marker\":{\"colorbar\":{\"outlinewidth\":0,\"ticks\":\"\"}},\"type\":\"scatterpolargl\"}],\"scatterternary\":[{\"marker\":{\"colorbar\":{\"outlinewidth\":0,\"ticks\":\"\"}},\"type\":\"scatterternary\"}],\"surface\":[{\"colorbar\":{\"outlinewidth\":0,\"ticks\":\"\"},\"colorscale\":[[0.0,\"#0d0887\"],[0.1111111111111111,\"#46039f\"],[0.2222222222222222,\"#7201a8\"],[0.3333333333333333,\"#9c179e\"],[0.4444444444444444,\"#bd3786\"],[0.5555555555555556,\"#d8576b\"],[0.6666666666666666,\"#ed7953\"],[0.7777777777777778,\"#fb9f3a\"],[0.8888888888888888,\"#fdca26\"],[1.0,\"#f0f921\"]],\"type\":\"surface\"}],\"table\":[{\"cells\":{\"fill\":{\"color\":\"#EBF0F8\"},\"line\":{\"color\":\"white\"}},\"header\":{\"fill\":{\"color\":\"#C8D4E3\"},\"line\":{\"color\":\"white\"}},\"type\":\"table\"}]},\"layout\":{\"annotationdefaults\":{\"arrowcolor\":\"#2a3f5f\",\"arrowhead\":0,\"arrowwidth\":1},\"autotypenumbers\":\"strict\",\"coloraxis\":{\"colorbar\":{\"outlinewidth\":0,\"ticks\":\"\"}},\"colorscale\":{\"diverging\":[[0,\"#8e0152\"],[0.1,\"#c51b7d\"],[0.2,\"#de77ae\"],[0.3,\"#f1b6da\"],[0.4,\"#fde0ef\"],[0.5,\"#f7f7f7\"],[0.6,\"#e6f5d0\"],[0.7,\"#b8e186\"],[0.8,\"#7fbc41\"],[0.9,\"#4d9221\"],[1,\"#276419\"]],\"sequential\":[[0.0,\"#0d0887\"],[0.1111111111111111,\"#46039f\"],[0.2222222222222222,\"#7201a8\"],[0.3333333333333333,\"#9c179e\"],[0.4444444444444444,\"#bd3786\"],[0.5555555555555556,\"#d8576b\"],[0.6666666666666666,\"#ed7953\"],[0.7777777777777778,\"#fb9f3a\"],[0.8888888888888888,\"#fdca26\"],[1.0,\"#f0f921\"]],\"sequentialminus\":[[0.0,\"#0d0887\"],[0.1111111111111111,\"#46039f\"],[0.2222222222222222,\"#7201a8\"],[0.3333333333333333,\"#9c179e\"],[0.4444444444444444,\"#bd3786\"],[0.5555555555555556,\"#d8576b\"],[0.6666666666666666,\"#ed7953\"],[0.7777777777777778,\"#fb9f3a\"],[0.8888888888888888,\"#fdca26\"],[1.0,\"#f0f921\"]]},\"colorway\":[\"#636efa\",\"#EF553B\",\"#00cc96\",\"#ab63fa\",\"#FFA15A\",\"#19d3f3\",\"#FF6692\",\"#B6E880\",\"#FF97FF\",\"#FECB52\"],\"font\":{\"color\":\"#2a3f5f\"},\"geo\":{\"bgcolor\":\"white\",\"lakecolor\":\"white\",\"landcolor\":\"#E5ECF6\",\"showlakes\":true,\"showland\":true,\"subunitcolor\":\"white\"},\"hoverlabel\":{\"align\":\"left\"},\"hovermode\":\"closest\",\"mapbox\":{\"style\":\"light\"},\"paper_bgcolor\":\"white\",\"plot_bgcolor\":\"#E5ECF6\",\"polar\":{\"angularaxis\":{\"gridcolor\":\"white\",\"linecolor\":\"white\",\"ticks\":\"\"},\"bgcolor\":\"#E5ECF6\",\"radialaxis\":{\"gridcolor\":\"white\",\"linecolor\":\"white\",\"ticks\":\"\"}},\"scene\":{\"xaxis\":{\"backgroundcolor\":\"#E5ECF6\",\"gridcolor\":\"white\",\"gridwidth\":2,\"linecolor\":\"white\",\"showbackground\":true,\"ticks\":\"\",\"zerolinecolor\":\"white\"},\"yaxis\":{\"backgroundcolor\":\"#E5ECF6\",\"gridcolor\":\"white\",\"gridwidth\":2,\"linecolor\":\"white\",\"showbackground\":true,\"ticks\":\"\",\"zerolinecolor\":\"white\"},\"zaxis\":{\"backgroundcolor\":\"#E5ECF6\",\"gridcolor\":\"white\",\"gridwidth\":2,\"linecolor\":\"white\",\"showbackground\":true,\"ticks\":\"\",\"zerolinecolor\":\"white\"}},\"shapedefaults\":{\"line\":{\"color\":\"#2a3f5f\"}},\"ternary\":{\"aaxis\":{\"gridcolor\":\"white\",\"linecolor\":\"white\",\"ticks\":\"\"},\"baxis\":{\"gridcolor\":\"white\",\"linecolor\":\"white\",\"ticks\":\"\"},\"bgcolor\":\"#E5ECF6\",\"caxis\":{\"gridcolor\":\"white\",\"linecolor\":\"white\",\"ticks\":\"\"}},\"title\":{\"x\":0.05},\"xaxis\":{\"automargin\":true,\"gridcolor\":\"white\",\"linecolor\":\"white\",\"ticks\":\"\",\"title\":{\"standoff\":15},\"zerolinecolor\":\"white\",\"zerolinewidth\":2},\"yaxis\":{\"automargin\":true,\"gridcolor\":\"white\",\"linecolor\":\"white\",\"ticks\":\"\",\"title\":{\"standoff\":15},\"zerolinecolor\":\"white\",\"zerolinewidth\":2}}},\"xaxis\":{\"anchor\":\"y\",\"domain\":[0.0,1.0],\"title\":{\"text\":\"Date\"}},\"yaxis\":{\"anchor\":\"x\",\"domain\":[0.0,1.0],\"title\":{\"text\":\"Sales Amount\"}},\"legend\":{\"tracegroupgap\":0},\"title\":{\"text\":\"Total of Sales Amount per month\"}},                        {\"responsive\": true}                    ).then(function(){\n",
              "                            \n",
              "var gd = document.getElementById('c7dab3c8-ab7d-4157-9656-53c5a8122b2c');\n",
              "var x = new MutationObserver(function (mutations, observer) {{\n",
              "        var display = window.getComputedStyle(gd).display;\n",
              "        if (!display || display === 'none') {{\n",
              "            console.log([gd, 'removed!']);\n",
              "            Plotly.purge(gd);\n",
              "            observer.disconnect();\n",
              "        }}\n",
              "}});\n",
              "\n",
              "// Listen for the removal of the full notebook cells\n",
              "var notebookContainer = gd.closest('#notebook-container');\n",
              "if (notebookContainer) {{\n",
              "    x.observe(notebookContainer, {childList: true});\n",
              "}}\n",
              "\n",
              "// Listen for the clearing of the current output cell\n",
              "var outputEl = gd.closest('.output');\n",
              "if (outputEl) {{\n",
              "    x.observe(outputEl, {childList: true});\n",
              "}}\n",
              "\n",
              "                        })                };                            </script>        </div>\n",
              "</body>\n",
              "</html>"
            ]
          },
          "metadata": {}
        }
      ],
      "source": [
        "fig2 = px.line(df_merge[['Date','Sales Amount']].set_index('Date').resample('M').sum().reset_index(),\n",
        "       x='Date', y='Sales Amount', title = 'Total of Sales Amount per month', markers=True)\n",
        "fig2.show()"
      ]
    },
    {
      "cell_type": "markdown",
      "metadata": {
        "id": "wvo0bFOxcp0x"
      },
      "source": [
        "# **Calculating RFM**"
      ]
    },
    {
      "cell_type": "code",
      "execution_count": null,
      "metadata": {
        "id": "FvCYVtw0UfLL"
      },
      "outputs": [],
      "source": [
        "current_date = max(df_merge['Date']) + dt.timedelta(days=1)\n",
        "\n",
        "df_rfm = df_merge.groupby(['CustomerKey']).agg(\n",
        "    {'Date': lambda x: (current_date- x.max()).days,\n",
        "     'Sales Order':pd.Series.nunique,\n",
        "     'Sales Amount':'sum'\n",
        "     }\n",
        ")"
      ]
    },
    {
      "cell_type": "code",
      "execution_count": null,
      "metadata": {
        "id": "_iGy6h2RW3ww"
      },
      "outputs": [],
      "source": [
        "df_rfm = df_rfm.rename(columns = {'Date':'Recency',\n",
        "                         'Sales Order': 'Frequency',\n",
        "                         'Sales Amount': 'Monetary'})"
      ]
    },
    {
      "cell_type": "code",
      "execution_count": null,
      "metadata": {
        "colab": {
          "base_uri": "https://localhost:8080/",
          "height": 394
        },
        "id": "8lkCMxxN0tFu",
        "outputId": "73f4705f-a0c5-4370-979d-b41446c5328c"
      },
      "outputs": [
        {
          "output_type": "execute_result",
          "data": {
            "text/plain": [
              "             Recency  Frequency  Monetary\n",
              "CustomerKey                              \n",
              "11000.0          256          3   8248.99\n",
              "11001.0           35          3   6383.88\n",
              "11002.0          325          3   8114.04\n",
              "11003.0          249          3   8139.29\n",
              "11004.0          258          3   8196.01\n",
              "11005.0          257          3   8121.33\n",
              "11006.0          245          3   8119.03\n",
              "11007.0          301          3   8211.00\n",
              "11008.0          318          3   8106.31\n",
              "11009.0          250          3   8091.33"
            ],
            "text/html": [
              "\n",
              "  <div id=\"df-c2c23e98-fdb7-4d8b-baab-6074bb3e1185\">\n",
              "    <div class=\"colab-df-container\">\n",
              "      <div>\n",
              "<style scoped>\n",
              "    .dataframe tbody tr th:only-of-type {\n",
              "        vertical-align: middle;\n",
              "    }\n",
              "\n",
              "    .dataframe tbody tr th {\n",
              "        vertical-align: top;\n",
              "    }\n",
              "\n",
              "    .dataframe thead th {\n",
              "        text-align: right;\n",
              "    }\n",
              "</style>\n",
              "<table border=\"1\" class=\"dataframe\">\n",
              "  <thead>\n",
              "    <tr style=\"text-align: right;\">\n",
              "      <th></th>\n",
              "      <th>Recency</th>\n",
              "      <th>Frequency</th>\n",
              "      <th>Monetary</th>\n",
              "    </tr>\n",
              "    <tr>\n",
              "      <th>CustomerKey</th>\n",
              "      <th></th>\n",
              "      <th></th>\n",
              "      <th></th>\n",
              "    </tr>\n",
              "  </thead>\n",
              "  <tbody>\n",
              "    <tr>\n",
              "      <th>11000.0</th>\n",
              "      <td>256</td>\n",
              "      <td>3</td>\n",
              "      <td>8248.99</td>\n",
              "    </tr>\n",
              "    <tr>\n",
              "      <th>11001.0</th>\n",
              "      <td>35</td>\n",
              "      <td>3</td>\n",
              "      <td>6383.88</td>\n",
              "    </tr>\n",
              "    <tr>\n",
              "      <th>11002.0</th>\n",
              "      <td>325</td>\n",
              "      <td>3</td>\n",
              "      <td>8114.04</td>\n",
              "    </tr>\n",
              "    <tr>\n",
              "      <th>11003.0</th>\n",
              "      <td>249</td>\n",
              "      <td>3</td>\n",
              "      <td>8139.29</td>\n",
              "    </tr>\n",
              "    <tr>\n",
              "      <th>11004.0</th>\n",
              "      <td>258</td>\n",
              "      <td>3</td>\n",
              "      <td>8196.01</td>\n",
              "    </tr>\n",
              "    <tr>\n",
              "      <th>11005.0</th>\n",
              "      <td>257</td>\n",
              "      <td>3</td>\n",
              "      <td>8121.33</td>\n",
              "    </tr>\n",
              "    <tr>\n",
              "      <th>11006.0</th>\n",
              "      <td>245</td>\n",
              "      <td>3</td>\n",
              "      <td>8119.03</td>\n",
              "    </tr>\n",
              "    <tr>\n",
              "      <th>11007.0</th>\n",
              "      <td>301</td>\n",
              "      <td>3</td>\n",
              "      <td>8211.00</td>\n",
              "    </tr>\n",
              "    <tr>\n",
              "      <th>11008.0</th>\n",
              "      <td>318</td>\n",
              "      <td>3</td>\n",
              "      <td>8106.31</td>\n",
              "    </tr>\n",
              "    <tr>\n",
              "      <th>11009.0</th>\n",
              "      <td>250</td>\n",
              "      <td>3</td>\n",
              "      <td>8091.33</td>\n",
              "    </tr>\n",
              "  </tbody>\n",
              "</table>\n",
              "</div>\n",
              "      <button class=\"colab-df-convert\" onclick=\"convertToInteractive('df-c2c23e98-fdb7-4d8b-baab-6074bb3e1185')\"\n",
              "              title=\"Convert this dataframe to an interactive table.\"\n",
              "              style=\"display:none;\">\n",
              "        \n",
              "  <svg xmlns=\"http://www.w3.org/2000/svg\" height=\"24px\"viewBox=\"0 0 24 24\"\n",
              "       width=\"24px\">\n",
              "    <path d=\"M0 0h24v24H0V0z\" fill=\"none\"/>\n",
              "    <path d=\"M18.56 5.44l.94 2.06.94-2.06 2.06-.94-2.06-.94-.94-2.06-.94 2.06-2.06.94zm-11 1L8.5 8.5l.94-2.06 2.06-.94-2.06-.94L8.5 2.5l-.94 2.06-2.06.94zm10 10l.94 2.06.94-2.06 2.06-.94-2.06-.94-.94-2.06-.94 2.06-2.06.94z\"/><path d=\"M17.41 7.96l-1.37-1.37c-.4-.4-.92-.59-1.43-.59-.52 0-1.04.2-1.43.59L10.3 9.45l-7.72 7.72c-.78.78-.78 2.05 0 2.83L4 21.41c.39.39.9.59 1.41.59.51 0 1.02-.2 1.41-.59l7.78-7.78 2.81-2.81c.8-.78.8-2.07 0-2.86zM5.41 20L4 18.59l7.72-7.72 1.47 1.35L5.41 20z\"/>\n",
              "  </svg>\n",
              "      </button>\n",
              "      \n",
              "  <style>\n",
              "    .colab-df-container {\n",
              "      display:flex;\n",
              "      flex-wrap:wrap;\n",
              "      gap: 12px;\n",
              "    }\n",
              "\n",
              "    .colab-df-convert {\n",
              "      background-color: #E8F0FE;\n",
              "      border: none;\n",
              "      border-radius: 50%;\n",
              "      cursor: pointer;\n",
              "      display: none;\n",
              "      fill: #1967D2;\n",
              "      height: 32px;\n",
              "      padding: 0 0 0 0;\n",
              "      width: 32px;\n",
              "    }\n",
              "\n",
              "    .colab-df-convert:hover {\n",
              "      background-color: #E2EBFA;\n",
              "      box-shadow: 0px 1px 2px rgba(60, 64, 67, 0.3), 0px 1px 3px 1px rgba(60, 64, 67, 0.15);\n",
              "      fill: #174EA6;\n",
              "    }\n",
              "\n",
              "    [theme=dark] .colab-df-convert {\n",
              "      background-color: #3B4455;\n",
              "      fill: #D2E3FC;\n",
              "    }\n",
              "\n",
              "    [theme=dark] .colab-df-convert:hover {\n",
              "      background-color: #434B5C;\n",
              "      box-shadow: 0px 1px 3px 1px rgba(0, 0, 0, 0.15);\n",
              "      filter: drop-shadow(0px 1px 2px rgba(0, 0, 0, 0.3));\n",
              "      fill: #FFFFFF;\n",
              "    }\n",
              "  </style>\n",
              "\n",
              "      <script>\n",
              "        const buttonEl =\n",
              "          document.querySelector('#df-c2c23e98-fdb7-4d8b-baab-6074bb3e1185 button.colab-df-convert');\n",
              "        buttonEl.style.display =\n",
              "          google.colab.kernel.accessAllowed ? 'block' : 'none';\n",
              "\n",
              "        async function convertToInteractive(key) {\n",
              "          const element = document.querySelector('#df-c2c23e98-fdb7-4d8b-baab-6074bb3e1185');\n",
              "          const dataTable =\n",
              "            await google.colab.kernel.invokeFunction('convertToInteractive',\n",
              "                                                     [key], {});\n",
              "          if (!dataTable) return;\n",
              "\n",
              "          const docLinkHtml = 'Like what you see? Visit the ' +\n",
              "            '<a target=\"_blank\" href=https://colab.research.google.com/notebooks/data_table.ipynb>data table notebook</a>'\n",
              "            + ' to learn more about interactive tables.';\n",
              "          element.innerHTML = '';\n",
              "          dataTable['output_type'] = 'display_data';\n",
              "          await google.colab.output.renderOutput(dataTable, element);\n",
              "          const docLink = document.createElement('div');\n",
              "          docLink.innerHTML = docLinkHtml;\n",
              "          element.appendChild(docLink);\n",
              "        }\n",
              "      </script>\n",
              "    </div>\n",
              "  </div>\n",
              "  "
            ]
          },
          "metadata": {},
          "execution_count": 223
        }
      ],
      "source": [
        "df_rfm.head(10)"
      ]
    },
    {
      "cell_type": "code",
      "execution_count": null,
      "metadata": {
        "colab": {
          "base_uri": "https://localhost:8080/",
          "height": 497
        },
        "id": "a_3UjkRTIiVS",
        "outputId": "0045dd50-7b68-470b-9c3a-f4031914a714"
      },
      "outputs": [
        {
          "output_type": "display_data",
          "data": {
            "text/plain": [
              "<Figure size 1080x576 with 3 Axes>"
            ],
            "image/png": "[encoded data removed]"
          },
          "metadata": {}
        }
      ],
      "source": [
        "#Distribution plot of R,F,M before removing outliers\n",
        "fig, ax = plt.subplots(1,3, figsize= (15,8))\n",
        "sns.distplot(df_rfm['Recency'], hist = True, ax = ax[0])\n",
        "sns.distplot(df_rfm['Frequency'], hist = True, ax = ax[1])\n",
        "sns.distplot(df_rfm['Monetary'], hist = True, ax = ax[2])\n",
        "plt.show()"
      ]
    },
    {
      "cell_type": "code",
      "execution_count": null,
      "metadata": {
        "colab": {
          "base_uri": "https://localhost:8080/"
        },
        "id": "o1HL5DHqp4CV",
        "outputId": "dbdecddd-459c-4e40-9331-7a3f3705f495"
      },
      "outputs": [
        {
          "output_type": "stream",
          "name": "stdout",
          "text": [
            "<class 'pandas.core.frame.DataFrame'>\n",
            "Float64Index: 18484 entries, 11000.0 to 29483.0\n",
            "Data columns (total 3 columns):\n",
            " #   Column     Non-Null Count  Dtype  \n",
            "---  ------     --------------  -----  \n",
            " 0   Recency    18484 non-null  int64  \n",
            " 1   Frequency  18484 non-null  int64  \n",
            " 2   Monetary   18484 non-null  float64\n",
            "dtypes: float64(1), int64(2)\n",
            "memory usage: 577.6 KB\n"
          ]
        }
      ],
      "source": [
        "df_rfm.info()"
      ]
    },
    {
      "cell_type": "markdown",
      "metadata": {
        "id": "bbSytDX2cgf2"
      },
      "source": [
        "# **Trực quan hóa dữ liệu**"
      ]
    },
    {
      "cell_type": "markdown",
      "metadata": {
        "id": "YuxX_QNDuHS9"
      },
      "source": [
        "Data before removing outliers\n"
      ]
    },
    {
      "cell_type": "code",
      "execution_count": null,
      "metadata": {
        "id": "84K6IlXLs3lP"
      },
      "outputs": [],
      "source": [
        "def plot_Boxplot(features_set, df):\n",
        "  plt.rcParams[\"figure.figsize\"] = (20,5)\n",
        "  fig, axs = plt.subplots(1, len(features))\n",
        "  cnt = 0\n",
        "  for i in range(len(features)):\n",
        "    axs[i].boxplot(df[features[cnt]])\n",
        "    axs[i].set_title('distribution of '+ features[cnt])\n",
        "    cnt +=1"
      ]
    },
    {
      "cell_type": "code",
      "execution_count": null,
      "metadata": {
        "id": "Zjkc2_GLW5-B"
      },
      "outputs": [],
      "source": [
        "features = ['Recency', 'Frequency', 'Monetary']"
      ]
    },
    {
      "cell_type": "code",
      "execution_count": null,
      "metadata": {
        "colab": {
          "base_uri": "https://localhost:8080/",
          "height": 335
        },
        "id": "PYasdIo1uSTn",
        "outputId": "254d4ea9-c2cd-487d-d5d9-c9ff08c7f640"
      },
      "outputs": [
        {
          "output_type": "display_data",
          "data": {
            "text/plain": [
              "<Figure size 1440x360 with 3 Axes>"
            ],
            "image/png": "[encoded data removed]"
          },
          "metadata": {}
        }
      ],
      "source": [
        "plot_Boxplot(features, df_rfm)"
      ]
    },
    {
      "cell_type": "code",
      "execution_count": null,
      "metadata": {
        "id": "s2sVAExK5V4j"
      },
      "outputs": [],
      "source": [
        "def plot_Hist(features, df):\n",
        "  plt.rcParams[\"figure.figsize\"] = (20,5)\n",
        "  fig, axs = plt.subplots(1, len(features))\n",
        "  cnt = 0\n",
        "  for i in range(len(features)):\n",
        "    axs[i].hist(df[features[cnt]])\n",
        "    axs[i].set_title('Distribution of '+ features[cnt])\n",
        "    cnt +=1"
      ]
    },
    {
      "cell_type": "code",
      "execution_count": null,
      "metadata": {
        "colab": {
          "base_uri": "https://localhost:8080/",
          "height": 335
        },
        "id": "10J9JILP5ANI",
        "outputId": "22db4299-4395-455a-add8-4cf2a38a90f9"
      },
      "outputs": [
        {
          "output_type": "display_data",
          "data": {
            "text/plain": [
              "<Figure size 1440x360 with 3 Axes>"
            ],
            "image/png": "[encoded data removed]"
          },
          "metadata": {}
        }
      ],
      "source": [
        "plot_Hist(features, df_rfm)"
      ]
    },
    {
      "cell_type": "markdown",
      "metadata": {
        "id": "yQZHLUt0lQKy"
      },
      "source": [
        "# **Loại bỏ outliers**"
      ]
    },
    {
      "cell_type": "code",
      "execution_count": null,
      "metadata": {
        "colab": {
          "base_uri": "https://localhost:8080/"
        },
        "id": "3SERcwuWqZM0",
        "outputId": "c6127153-ccd7-4373-bc91-85289d2c8bcf"
      },
      "outputs": [
        {
          "output_type": "stream",
          "name": "stdout",
          "text": [
            "count    18484.000000\n",
            "mean       175.667983\n",
            "std        145.644062\n",
            "min          1.000000\n",
            "25%         72.000000\n",
            "50%        154.000000\n",
            "75%        249.000000\n",
            "85%        298.000000\n",
            "90%        322.000000\n",
            "100%      1081.000000\n",
            "max       1081.000000\n",
            "Name: Recency, dtype: float64\n"
          ]
        }
      ],
      "source": [
        "print(df_rfm.Recency.describe(percentiles = [0.25,0.50,0.75,0.85,0.90,1]))"
      ]
    },
    {
      "cell_type": "code",
      "execution_count": null,
      "metadata": {
        "colab": {
          "base_uri": "https://localhost:8080/"
        },
        "id": "S0UHGvchqHjQ",
        "outputId": "a0232c34-6f00-45b5-9d92-fb94601255b8"
      },
      "outputs": [
        {
          "output_type": "stream",
          "name": "stdout",
          "text": [
            "count    18484.000000\n",
            "mean         1.496375\n",
            "std          1.101139\n",
            "min          1.000000\n",
            "25%          1.000000\n",
            "50%          1.000000\n",
            "75%          2.000000\n",
            "85%          2.000000\n",
            "90%          2.000000\n",
            "100%        28.000000\n",
            "max         28.000000\n",
            "Name: Frequency, dtype: float64\n"
          ]
        }
      ],
      "source": [
        "print(df_rfm.Frequency.describe(percentiles = [0.25,0.50,0.75,0.85,0.90,1]))"
      ]
    },
    {
      "cell_type": "code",
      "execution_count": null,
      "metadata": {
        "colab": {
          "base_uri": "https://localhost:8080/"
        },
        "id": "pI9IRI3U4pht",
        "outputId": "97101c91-c644-4d2e-fe20-faa05c9d1ad3"
      },
      "outputs": [
        {
          "output_type": "stream",
          "name": "stdout",
          "text": [
            "count    18484.000000\n",
            "mean      1588.329216\n",
            "std       2124.231717\n",
            "min          2.290000\n",
            "25%         49.970000\n",
            "50%        270.265000\n",
            "75%       2511.275000\n",
            "85%       4337.560000\n",
            "90%       4826.839000\n",
            "100%     13295.380000\n",
            "max      13295.380000\n",
            "Name: Monetary, dtype: float64\n"
          ]
        }
      ],
      "source": [
        "print(df_rfm.Monetary.describe(percentiles = [0.25,0.50,0.75,0.85,0.90,1]))"
      ]
    },
    {
      "cell_type": "code",
      "execution_count": null,
      "metadata": {
        "id": "V7IUQV8xZdQ3"
      },
      "outputs": [],
      "source": [
        "def outliers(df,col):\n",
        "  q1 = np.quantile(df[col], 0.25)\n",
        "  q3 = np.quantile(df[col], 0.75)\n",
        "  iqr = q3 - q1\n",
        "  upper_bound = q3 + (1.5*iqr)\n",
        "  lower_bound = q1 - (1.5*iqr)\n",
        "  ls = df.index[(df[col] < lower_bound) | (df[col] > upper_bound)]\n",
        "  return ls"
      ]
    },
    {
      "cell_type": "code",
      "execution_count": null,
      "metadata": {
        "id": "VTF0ih7tZsfI"
      },
      "outputs": [],
      "source": [
        "R_outliers, F_outliers, M_outliers = outliers(df_rfm, 'Recency').array, outliers(df_rfm, 'Frequency').array, outliers(df_rfm, 'Monetary').array\n",
        "\n",
        "outliers_index = np.concatenate([R_outliers, F_outliers, M_outliers])\n",
        "\n",
        "rfm_normal = df_rfm.drop(outliers_index)"
      ]
    },
    {
      "cell_type": "code",
      "execution_count": null,
      "metadata": {
        "id": "M90GzK1_av0s",
        "colab": {
          "base_uri": "https://localhost:8080/"
        },
        "outputId": "e90355d7-480e-49dc-a78c-99b0cdde0b24"
      },
      "outputs": [
        {
          "output_type": "stream",
          "name": "stdout",
          "text": [
            "<class 'pandas.core.frame.DataFrame'>\n",
            "Float64Index: 17248 entries, 11012.0 to 29483.0\n",
            "Data columns (total 3 columns):\n",
            " #   Column     Non-Null Count  Dtype  \n",
            "---  ------     --------------  -----  \n",
            " 0   Recency    17248 non-null  int64  \n",
            " 1   Frequency  17248 non-null  int64  \n",
            " 2   Monetary   17248 non-null  float64\n",
            "dtypes: float64(1), int64(2)\n",
            "memory usage: 539.0 KB\n"
          ]
        }
      ],
      "source": [
        "rfm_normal.info()"
      ]
    },
    {
      "cell_type": "markdown",
      "metadata": {
        "id": "XLpV75sTtv7R"
      },
      "source": [
        "Data after removing outliers\n"
      ]
    },
    {
      "cell_type": "code",
      "execution_count": null,
      "metadata": {
        "id": "c6-VWcaWsRf-",
        "colab": {
          "base_uri": "https://localhost:8080/",
          "height": 335
        },
        "outputId": "fd562fad-4ee2-40ac-ea57-cfccecb9c9e4"
      },
      "outputs": [
        {
          "output_type": "display_data",
          "data": {
            "text/plain": [
              "<Figure size 1440x360 with 3 Axes>"
            ],
            "image/png": "[encoded data removed]"
          },
          "metadata": {}
        }
      ],
      "source": [
        "plot_Boxplot(features, rfm_normal)"
      ]
    },
    {
      "cell_type": "code",
      "execution_count": null,
      "metadata": {
        "id": "52tfEcojujfb",
        "colab": {
          "base_uri": "https://localhost:8080/",
          "height": 335
        },
        "outputId": "1727daf6-3f43-4c01-a5ce-602e1ff3a235"
      },
      "outputs": [
        {
          "output_type": "display_data",
          "data": {
            "text/plain": [
              "<Figure size 1440x360 with 3 Axes>"
            ],
            "image/png": "[encoded data removed]"
          },
          "metadata": {}
        }
      ],
      "source": [
        "plot_Hist(features, rfm_normal)"
      ]
    },
    {
      "cell_type": "markdown",
      "metadata": {
        "id": "-bR5M3WT4Vis"
      },
      "source": [
        "# **Chuẩn hóa dữ liệu**"
      ]
    },
    {
      "cell_type": "markdown",
      "metadata": {
        "id": "ZI7PNC6I1EQC"
      },
      "source": [
        "Xem phân phối dữ liệu"
      ]
    },
    {
      "cell_type": "code",
      "execution_count": null,
      "metadata": {
        "id": "fimybj7y32ow"
      },
      "outputs": [],
      "source": [
        "def analyze_skewness(x):\n",
        "  fig, ax = plt.subplots(2, 2, figsize=(5,5))\n",
        "  sns.distplot(rfm_normal[x], ax=ax[0,0])\n",
        "  sns.distplot(np.log(rfm_normal[x]), ax=ax[0,1])\n",
        "  sns.distplot(np.sqrt(rfm_normal[x]), ax=ax[1,0])\n",
        "  sns.distplot(stats.boxcox(rfm_normal[x])[0], ax=ax[1,1])\n",
        "  plt.tight_layout()\n",
        "  plt.show()\n",
        "\n",
        "  print(rfm_normal[x].skew().round(2))\n",
        "  print(np.log(rfm_normal[x]).skew().round(2))\n",
        "  print(np.sqrt(rfm_normal[x]).skew().round(2))\n",
        "  print(pd.Series(stats.boxcox(rfm_normal[x])[0]).skew().round(2))"
      ]
    },
    {
      "cell_type": "code",
      "execution_count": null,
      "metadata": {
        "id": "4exvJLlc4XO_",
        "colab": {
          "base_uri": "https://localhost:8080/",
          "height": 434
        },
        "outputId": "8f6d16b2-d61b-44ff-a541-c593176be57f"
      },
      "outputs": [
        {
          "output_type": "display_data",
          "data": {
            "text/plain": [
              "<Figure size 360x360 with 4 Axes>"
            ],
            "image/png": "[encoded data removed]"
          },
          "metadata": {}
        },
        {
          "output_type": "stream",
          "name": "stdout",
          "text": [
            "0.31\n",
            "-1.48\n",
            "-0.29\n",
            "-0.2\n"
          ]
        }
      ],
      "source": [
        "analyze_skewness('Recency')"
      ]
    },
    {
      "cell_type": "code",
      "execution_count": null,
      "metadata": {
        "id": "5J7-X9U54lTU",
        "colab": {
          "base_uri": "https://localhost:8080/",
          "height": 434
        },
        "outputId": "b68650c0-3209-439a-c309-d4b18b593caf"
      },
      "outputs": [
        {
          "output_type": "display_data",
          "data": {
            "text/plain": [
              "<Figure size 360x360 with 4 Axes>"
            ],
            "image/png": "[encoded data removed]"
          },
          "metadata": {}
        },
        {
          "output_type": "stream",
          "name": "stdout",
          "text": [
            "1.07\n",
            "0.79\n",
            "0.9\n",
            "0.64\n"
          ]
        }
      ],
      "source": [
        "analyze_skewness('Frequency')"
      ]
    },
    {
      "cell_type": "code",
      "execution_count": null,
      "metadata": {
        "id": "A0x7Z6o14rwu",
        "colab": {
          "base_uri": "https://localhost:8080/",
          "height": 434
        },
        "outputId": "63b5ffde-f220-45a3-b6f2-007bffa9a6a3"
      },
      "outputs": [
        {
          "output_type": "display_data",
          "data": {
            "text/plain": [
              "<Figure size 360x360 with 4 Axes>"
            ],
            "image/png": "[encoded data removed]"
          },
          "metadata": {}
        },
        {
          "output_type": "stream",
          "name": "stdout",
          "text": [
            "1.28\n",
            "-0.04\n",
            "0.71\n",
            "-0.01\n"
          ]
        }
      ],
      "source": [
        "analyze_skewness('Monetary')"
      ]
    },
    {
      "cell_type": "markdown",
      "metadata": {
        "id": "soTERW-b1MLq"
      },
      "source": [
        "Chuyển đổi dữ liệu về thang đo boxcox"
      ]
    },
    {
      "cell_type": "code",
      "execution_count": null,
      "metadata": {
        "id": "8U5wokWj4-_o",
        "colab": {
          "base_uri": "https://localhost:8080/",
          "height": 206
        },
        "outputId": "7839e6b8-52ef-421f-a794-0f4c25746a6b"
      },
      "outputs": [
        {
          "output_type": "execute_result",
          "data": {
            "text/plain": [
              "     Recency  Frequency  Monetary\n",
              "0  20.773902   0.319341  4.537277\n",
              "1   2.101348   0.319341  4.898032\n",
              "2  38.881343   0.319341  5.106464\n",
              "3  47.247871   0.000000  8.273735\n",
              "4  45.541122   0.000000  8.195771"
            ],
            "text/html": [
              "\n",
              "  <div id=\"df-37f313dc-d0fb-4ecb-a3a3-a6d87f4137cd\">\n",
              "    <div class=\"colab-df-container\">\n",
              "      <div>\n",
              "<style scoped>\n",
              "    .dataframe tbody tr th:only-of-type {\n",
              "        vertical-align: middle;\n",
              "    }\n",
              "\n",
              "    .dataframe tbody tr th {\n",
              "        vertical-align: top;\n",
              "    }\n",
              "\n",
              "    .dataframe thead th {\n",
              "        text-align: right;\n",
              "    }\n",
              "</style>\n",
              "<table border=\"1\" class=\"dataframe\">\n",
              "  <thead>\n",
              "    <tr style=\"text-align: right;\">\n",
              "      <th></th>\n",
              "      <th>Recency</th>\n",
              "      <th>Frequency</th>\n",
              "      <th>Monetary</th>\n",
              "    </tr>\n",
              "  </thead>\n",
              "  <tbody>\n",
              "    <tr>\n",
              "      <th>0</th>\n",
              "      <td>20.773902</td>\n",
              "      <td>0.319341</td>\n",
              "      <td>4.537277</td>\n",
              "    </tr>\n",
              "    <tr>\n",
              "      <th>1</th>\n",
              "      <td>2.101348</td>\n",
              "      <td>0.319341</td>\n",
              "      <td>4.898032</td>\n",
              "    </tr>\n",
              "    <tr>\n",
              "      <th>2</th>\n",
              "      <td>38.881343</td>\n",
              "      <td>0.319341</td>\n",
              "      <td>5.106464</td>\n",
              "    </tr>\n",
              "    <tr>\n",
              "      <th>3</th>\n",
              "      <td>47.247871</td>\n",
              "      <td>0.000000</td>\n",
              "      <td>8.273735</td>\n",
              "    </tr>\n",
              "    <tr>\n",
              "      <th>4</th>\n",
              "      <td>45.541122</td>\n",
              "      <td>0.000000</td>\n",
              "      <td>8.195771</td>\n",
              "    </tr>\n",
              "  </tbody>\n",
              "</table>\n",
              "</div>\n",
              "      <button class=\"colab-df-convert\" onclick=\"convertToInteractive('df-37f313dc-d0fb-4ecb-a3a3-a6d87f4137cd')\"\n",
              "              title=\"Convert this dataframe to an interactive table.\"\n",
              "              style=\"display:none;\">\n",
              "        \n",
              "  <svg xmlns=\"http://www.w3.org/2000/svg\" height=\"24px\"viewBox=\"0 0 24 24\"\n",
              "       width=\"24px\">\n",
              "    <path d=\"M0 0h24v24H0V0z\" fill=\"none\"/>\n",
              "    <path d=\"M18.56 5.44l.94 2.06.94-2.06 2.06-.94-2.06-.94-.94-2.06-.94 2.06-2.06.94zm-11 1L8.5 8.5l.94-2.06 2.06-.94-2.06-.94L8.5 2.5l-.94 2.06-2.06.94zm10 10l.94 2.06.94-2.06 2.06-.94-2.06-.94-.94-2.06-.94 2.06-2.06.94z\"/><path d=\"M17.41 7.96l-1.37-1.37c-.4-.4-.92-.59-1.43-.59-.52 0-1.04.2-1.43.59L10.3 9.45l-7.72 7.72c-.78.78-.78 2.05 0 2.83L4 21.41c.39.39.9.59 1.41.59.51 0 1.02-.2 1.41-.59l7.78-7.78 2.81-2.81c.8-.78.8-2.07 0-2.86zM5.41 20L4 18.59l7.72-7.72 1.47 1.35L5.41 20z\"/>\n",
              "  </svg>\n",
              "      </button>\n",
              "      \n",
              "  <style>\n",
              "    .colab-df-container {\n",
              "      display:flex;\n",
              "      flex-wrap:wrap;\n",
              "      gap: 12px;\n",
              "    }\n",
              "\n",
              "    .colab-df-convert {\n",
              "      background-color: #E8F0FE;\n",
              "      border: none;\n",
              "      border-radius: 50%;\n",
              "      cursor: pointer;\n",
              "      display: none;\n",
              "      fill: #1967D2;\n",
              "      height: 32px;\n",
              "      padding: 0 0 0 0;\n",
              "      width: 32px;\n",
              "    }\n",
              "\n",
              "    .colab-df-convert:hover {\n",
              "      background-color: #E2EBFA;\n",
              "      box-shadow: 0px 1px 2px rgba(60, 64, 67, 0.3), 0px 1px 3px 1px rgba(60, 64, 67, 0.15);\n",
              "      fill: #174EA6;\n",
              "    }\n",
              "\n",
              "    [theme=dark] .colab-df-convert {\n",
              "      background-color: #3B4455;\n",
              "      fill: #D2E3FC;\n",
              "    }\n",
              "\n",
              "    [theme=dark] .colab-df-convert:hover {\n",
              "      background-color: #434B5C;\n",
              "      box-shadow: 0px 1px 3px 1px rgba(0, 0, 0, 0.15);\n",
              "      filter: drop-shadow(0px 1px 2px rgba(0, 0, 0, 0.3));\n",
              "      fill: #FFFFFF;\n",
              "    }\n",
              "  </style>\n",
              "\n",
              "      <script>\n",
              "        const buttonEl =\n",
              "          document.querySelector('#df-37f313dc-d0fb-4ecb-a3a3-a6d87f4137cd button.colab-df-convert');\n",
              "        buttonEl.style.display =\n",
              "          google.colab.kernel.accessAllowed ? 'block' : 'none';\n",
              "\n",
              "        async function convertToInteractive(key) {\n",
              "          const element = document.querySelector('#df-37f313dc-d0fb-4ecb-a3a3-a6d87f4137cd');\n",
              "          const dataTable =\n",
              "            await google.colab.kernel.invokeFunction('convertToInteractive',\n",
              "                                                     [key], {});\n",
              "          if (!dataTable) return;\n",
              "\n",
              "          const docLinkHtml = 'Like what you see? Visit the ' +\n",
              "            '<a target=\"_blank\" href=https://colab.research.google.com/notebooks/data_table.ipynb>data table notebook</a>'\n",
              "            + ' to learn more about interactive tables.';\n",
              "          element.innerHTML = '';\n",
              "          dataTable['output_type'] = 'display_data';\n",
              "          await google.colab.output.renderOutput(dataTable, element);\n",
              "          const docLink = document.createElement('div');\n",
              "          docLink.innerHTML = docLinkHtml;\n",
              "          element.appendChild(docLink);\n",
              "        }\n",
              "      </script>\n",
              "    </div>\n",
              "  </div>\n",
              "  "
            ]
          },
          "metadata": {},
          "execution_count": 243
        }
      ],
      "source": [
        "df_trans = pd.DataFrame()\n",
        "df_trans['Recency'] = stats.boxcox(rfm_normal['Recency'])[0]\n",
        "df_trans['Frequency'] = stats.boxcox(rfm_normal['Frequency'])[0]\n",
        "df_trans['Monetary'] = stats.boxcox(rfm_normal['Monetary'])[0]\n",
        "df_trans.head(5)"
      ]
    },
    {
      "cell_type": "markdown",
      "metadata": {
        "id": "JJSZwJLG1wt4"
      },
      "source": [
        "Tiến hành scale dữ liệu"
      ]
    },
    {
      "cell_type": "code",
      "execution_count": null,
      "metadata": {
        "id": "RN1D2FSfuCdU"
      },
      "outputs": [],
      "source": [
        "# from sklearn.preprocessing import MinMaxScaler\n",
        "# scaler = MinMaxScaler()\n",
        "# rfm_normal['minmax_R'] = scaler.fit_transform(rfm_normal[['Recency']])\n",
        "# rfm_normal['minmax_F'] = scaler.fit_transform(rfm_normal[['Frequency']])\n",
        "# rfm_normal['minmax_M'] = scaler.fit_transform(rfm_normal[['Monetary']])\n",
        "\n",
        "#Thử cách khác 1\n",
        "# from sklearn.preprocessing import MinMaxScaler\n",
        "# scaler = MinMaxScaler()\n",
        "# df_trans['minmax_R'] = scaler.fit_transform(df_trans[['Recency']])\n",
        "# df_trans['minmax_F'] = scaler.fit_transform(df_trans[['Frequency']])\n",
        "# df_trans['minmax_M'] = scaler.fit_transform(df_trans[['Monetary']])\n",
        "# df_trans.drop( columns = ['Recency', 'Frequency', 'Monetary'])\n",
        "\n",
        "# Thử cách khác 2\n",
        "from sklearn.preprocessing import StandardScaler\n",
        "df_trans1 = df_trans.copy()\n",
        "scaler = StandardScaler()\n",
        "scaler.fit(df_trans)\n",
        "\n",
        "df_trans = scaler.transform(df_trans)"
      ]
    },
    {
      "cell_type": "code",
      "execution_count": null,
      "metadata": {
        "id": "ctrVtJ_Xu960",
        "colab": {
          "base_uri": "https://localhost:8080/",
          "height": 206
        },
        "outputId": "4b258f6b-c806-48f6-fdcd-ad6e47276476"
      },
      "outputs": [
        {
          "output_type": "execute_result",
          "data": {
            "text/plain": [
              "          0         1         2\n",
              "0 -0.557696  1.338898 -0.572651\n",
              "1 -2.074828  1.338898 -0.416714\n",
              "2  0.913521  1.338898 -0.326619\n",
              "3  1.593296 -0.731753  1.042437\n",
              "4  1.454623 -0.731753  1.008737"
            ],
            "text/html": [
              "\n",
              "  <div id=\"df-a19d2b95-e5b9-40f0-a6f9-d948247c41cb\">\n",
              "    <div class=\"colab-df-container\">\n",
              "      <div>\n",
              "<style scoped>\n",
              "    .dataframe tbody tr th:only-of-type {\n",
              "        vertical-align: middle;\n",
              "    }\n",
              "\n",
              "    .dataframe tbody tr th {\n",
              "        vertical-align: top;\n",
              "    }\n",
              "\n",
              "    .dataframe thead th {\n",
              "        text-align: right;\n",
              "    }\n",
              "</style>\n",
              "<table border=\"1\" class=\"dataframe\">\n",
              "  <thead>\n",
              "    <tr style=\"text-align: right;\">\n",
              "      <th></th>\n",
              "      <th>0</th>\n",
              "      <th>1</th>\n",
              "      <th>2</th>\n",
              "    </tr>\n",
              "  </thead>\n",
              "  <tbody>\n",
              "    <tr>\n",
              "      <th>0</th>\n",
              "      <td>-0.557696</td>\n",
              "      <td>1.338898</td>\n",
              "      <td>-0.572651</td>\n",
              "    </tr>\n",
              "    <tr>\n",
              "      <th>1</th>\n",
              "      <td>-2.074828</td>\n",
              "      <td>1.338898</td>\n",
              "      <td>-0.416714</td>\n",
              "    </tr>\n",
              "    <tr>\n",
              "      <th>2</th>\n",
              "      <td>0.913521</td>\n",
              "      <td>1.338898</td>\n",
              "      <td>-0.326619</td>\n",
              "    </tr>\n",
              "    <tr>\n",
              "      <th>3</th>\n",
              "      <td>1.593296</td>\n",
              "      <td>-0.731753</td>\n",
              "      <td>1.042437</td>\n",
              "    </tr>\n",
              "    <tr>\n",
              "      <th>4</th>\n",
              "      <td>1.454623</td>\n",
              "      <td>-0.731753</td>\n",
              "      <td>1.008737</td>\n",
              "    </tr>\n",
              "  </tbody>\n",
              "</table>\n",
              "</div>\n",
              "      <button class=\"colab-df-convert\" onclick=\"convertToInteractive('df-a19d2b95-e5b9-40f0-a6f9-d948247c41cb')\"\n",
              "              title=\"Convert this dataframe to an interactive table.\"\n",
              "              style=\"display:none;\">\n",
              "        \n",
              "  <svg xmlns=\"http://www.w3.org/2000/svg\" height=\"24px\"viewBox=\"0 0 24 24\"\n",
              "       width=\"24px\">\n",
              "    <path d=\"M0 0h24v24H0V0z\" fill=\"none\"/>\n",
              "    <path d=\"M18.56 5.44l.94 2.06.94-2.06 2.06-.94-2.06-.94-.94-2.06-.94 2.06-2.06.94zm-11 1L8.5 8.5l.94-2.06 2.06-.94-2.06-.94L8.5 2.5l-.94 2.06-2.06.94zm10 10l.94 2.06.94-2.06 2.06-.94-2.06-.94-.94-2.06-.94 2.06-2.06.94z\"/><path d=\"M17.41 7.96l-1.37-1.37c-.4-.4-.92-.59-1.43-.59-.52 0-1.04.2-1.43.59L10.3 9.45l-7.72 7.72c-.78.78-.78 2.05 0 2.83L4 21.41c.39.39.9.59 1.41.59.51 0 1.02-.2 1.41-.59l7.78-7.78 2.81-2.81c.8-.78.8-2.07 0-2.86zM5.41 20L4 18.59l7.72-7.72 1.47 1.35L5.41 20z\"/>\n",
              "  </svg>\n",
              "      </button>\n",
              "      \n",
              "  <style>\n",
              "    .colab-df-container {\n",
              "      display:flex;\n",
              "      flex-wrap:wrap;\n",
              "      gap: 12px;\n",
              "    }\n",
              "\n",
              "    .colab-df-convert {\n",
              "      background-color: #E8F0FE;\n",
              "      border: none;\n",
              "      border-radius: 50%;\n",
              "      cursor: pointer;\n",
              "      display: none;\n",
              "      fill: #1967D2;\n",
              "      height: 32px;\n",
              "      padding: 0 0 0 0;\n",
              "      width: 32px;\n",
              "    }\n",
              "\n",
              "    .colab-df-convert:hover {\n",
              "      background-color: #E2EBFA;\n",
              "      box-shadow: 0px 1px 2px rgba(60, 64, 67, 0.3), 0px 1px 3px 1px rgba(60, 64, 67, 0.15);\n",
              "      fill: #174EA6;\n",
              "    }\n",
              "\n",
              "    [theme=dark] .colab-df-convert {\n",
              "      background-color: #3B4455;\n",
              "      fill: #D2E3FC;\n",
              "    }\n",
              "\n",
              "    [theme=dark] .colab-df-convert:hover {\n",
              "      background-color: #434B5C;\n",
              "      box-shadow: 0px 1px 3px 1px rgba(0, 0, 0, 0.15);\n",
              "      filter: drop-shadow(0px 1px 2px rgba(0, 0, 0, 0.3));\n",
              "      fill: #FFFFFF;\n",
              "    }\n",
              "  </style>\n",
              "\n",
              "      <script>\n",
              "        const buttonEl =\n",
              "          document.querySelector('#df-a19d2b95-e5b9-40f0-a6f9-d948247c41cb button.colab-df-convert');\n",
              "        buttonEl.style.display =\n",
              "          google.colab.kernel.accessAllowed ? 'block' : 'none';\n",
              "\n",
              "        async function convertToInteractive(key) {\n",
              "          const element = document.querySelector('#df-a19d2b95-e5b9-40f0-a6f9-d948247c41cb');\n",
              "          const dataTable =\n",
              "            await google.colab.kernel.invokeFunction('convertToInteractive',\n",
              "                                                     [key], {});\n",
              "          if (!dataTable) return;\n",
              "\n",
              "          const docLinkHtml = 'Like what you see? Visit the ' +\n",
              "            '<a target=\"_blank\" href=https://colab.research.google.com/notebooks/data_table.ipynb>data table notebook</a>'\n",
              "            + ' to learn more about interactive tables.';\n",
              "          element.innerHTML = '';\n",
              "          dataTable['output_type'] = 'display_data';\n",
              "          await google.colab.output.renderOutput(dataTable, element);\n",
              "          const docLink = document.createElement('div');\n",
              "          docLink.innerHTML = docLinkHtml;\n",
              "          element.appendChild(docLink);\n",
              "        }\n",
              "      </script>\n",
              "    </div>\n",
              "  </div>\n",
              "  "
            ]
          },
          "metadata": {},
          "execution_count": 245
        }
      ],
      "source": [
        "df_trans = pd.DataFrame(df_trans)\n",
        "df_trans.head(5)"
      ]
    },
    {
      "cell_type": "code",
      "execution_count": null,
      "metadata": {
        "id": "Wv9nKNBDGyAk",
        "colab": {
          "base_uri": "https://localhost:8080/",
          "height": 206
        },
        "outputId": "b139e9c3-3782-44ab-c7fe-96ca3bbaf377"
      },
      "outputs": [
        {
          "output_type": "execute_result",
          "data": {
            "text/plain": [
              "    Recency  Frequency  Monetary\n",
              "0 -0.557696   1.338898 -0.572651\n",
              "1 -2.074828   1.338898 -0.416714\n",
              "2  0.913521   1.338898 -0.326619\n",
              "3  1.593296  -0.731753  1.042437\n",
              "4  1.454623  -0.731753  1.008737"
            ],
            "text/html": [
              "\n",
              "  <div id=\"df-d5db23fb-5cd8-46df-b3d0-6091424114bd\">\n",
              "    <div class=\"colab-df-container\">\n",
              "      <div>\n",
              "<style scoped>\n",
              "    .dataframe tbody tr th:only-of-type {\n",
              "        vertical-align: middle;\n",
              "    }\n",
              "\n",
              "    .dataframe tbody tr th {\n",
              "        vertical-align: top;\n",
              "    }\n",
              "\n",
              "    .dataframe thead th {\n",
              "        text-align: right;\n",
              "    }\n",
              "</style>\n",
              "<table border=\"1\" class=\"dataframe\">\n",
              "  <thead>\n",
              "    <tr style=\"text-align: right;\">\n",
              "      <th></th>\n",
              "      <th>Recency</th>\n",
              "      <th>Frequency</th>\n",
              "      <th>Monetary</th>\n",
              "    </tr>\n",
              "  </thead>\n",
              "  <tbody>\n",
              "    <tr>\n",
              "      <th>0</th>\n",
              "      <td>-0.557696</td>\n",
              "      <td>1.338898</td>\n",
              "      <td>-0.572651</td>\n",
              "    </tr>\n",
              "    <tr>\n",
              "      <th>1</th>\n",
              "      <td>-2.074828</td>\n",
              "      <td>1.338898</td>\n",
              "      <td>-0.416714</td>\n",
              "    </tr>\n",
              "    <tr>\n",
              "      <th>2</th>\n",
              "      <td>0.913521</td>\n",
              "      <td>1.338898</td>\n",
              "      <td>-0.326619</td>\n",
              "    </tr>\n",
              "    <tr>\n",
              "      <th>3</th>\n",
              "      <td>1.593296</td>\n",
              "      <td>-0.731753</td>\n",
              "      <td>1.042437</td>\n",
              "    </tr>\n",
              "    <tr>\n",
              "      <th>4</th>\n",
              "      <td>1.454623</td>\n",
              "      <td>-0.731753</td>\n",
              "      <td>1.008737</td>\n",
              "    </tr>\n",
              "  </tbody>\n",
              "</table>\n",
              "</div>\n",
              "      <button class=\"colab-df-convert\" onclick=\"convertToInteractive('df-d5db23fb-5cd8-46df-b3d0-6091424114bd')\"\n",
              "              title=\"Convert this dataframe to an interactive table.\"\n",
              "              style=\"display:none;\">\n",
              "        \n",
              "  <svg xmlns=\"http://www.w3.org/2000/svg\" height=\"24px\"viewBox=\"0 0 24 24\"\n",
              "       width=\"24px\">\n",
              "    <path d=\"M0 0h24v24H0V0z\" fill=\"none\"/>\n",
              "    <path d=\"M18.56 5.44l.94 2.06.94-2.06 2.06-.94-2.06-.94-.94-2.06-.94 2.06-2.06.94zm-11 1L8.5 8.5l.94-2.06 2.06-.94-2.06-.94L8.5 2.5l-.94 2.06-2.06.94zm10 10l.94 2.06.94-2.06 2.06-.94-2.06-.94-.94-2.06-.94 2.06-2.06.94z\"/><path d=\"M17.41 7.96l-1.37-1.37c-.4-.4-.92-.59-1.43-.59-.52 0-1.04.2-1.43.59L10.3 9.45l-7.72 7.72c-.78.78-.78 2.05 0 2.83L4 21.41c.39.39.9.59 1.41.59.51 0 1.02-.2 1.41-.59l7.78-7.78 2.81-2.81c.8-.78.8-2.07 0-2.86zM5.41 20L4 18.59l7.72-7.72 1.47 1.35L5.41 20z\"/>\n",
              "  </svg>\n",
              "      </button>\n",
              "      \n",
              "  <style>\n",
              "    .colab-df-container {\n",
              "      display:flex;\n",
              "      flex-wrap:wrap;\n",
              "      gap: 12px;\n",
              "    }\n",
              "\n",
              "    .colab-df-convert {\n",
              "      background-color: #E8F0FE;\n",
              "      border: none;\n",
              "      border-radius: 50%;\n",
              "      cursor: pointer;\n",
              "      display: none;\n",
              "      fill: #1967D2;\n",
              "      height: 32px;\n",
              "      padding: 0 0 0 0;\n",
              "      width: 32px;\n",
              "    }\n",
              "\n",
              "    .colab-df-convert:hover {\n",
              "      background-color: #E2EBFA;\n",
              "      box-shadow: 0px 1px 2px rgba(60, 64, 67, 0.3), 0px 1px 3px 1px rgba(60, 64, 67, 0.15);\n",
              "      fill: #174EA6;\n",
              "    }\n",
              "\n",
              "    [theme=dark] .colab-df-convert {\n",
              "      background-color: #3B4455;\n",
              "      fill: #D2E3FC;\n",
              "    }\n",
              "\n",
              "    [theme=dark] .colab-df-convert:hover {\n",
              "      background-color: #434B5C;\n",
              "      box-shadow: 0px 1px 3px 1px rgba(0, 0, 0, 0.15);\n",
              "      filter: drop-shadow(0px 1px 2px rgba(0, 0, 0, 0.3));\n",
              "      fill: #FFFFFF;\n",
              "    }\n",
              "  </style>\n",
              "\n",
              "      <script>\n",
              "        const buttonEl =\n",
              "          document.querySelector('#df-d5db23fb-5cd8-46df-b3d0-6091424114bd button.colab-df-convert');\n",
              "        buttonEl.style.display =\n",
              "          google.colab.kernel.accessAllowed ? 'block' : 'none';\n",
              "\n",
              "        async function convertToInteractive(key) {\n",
              "          const element = document.querySelector('#df-d5db23fb-5cd8-46df-b3d0-6091424114bd');\n",
              "          const dataTable =\n",
              "            await google.colab.kernel.invokeFunction('convertToInteractive',\n",
              "                                                     [key], {});\n",
              "          if (!dataTable) return;\n",
              "\n",
              "          const docLinkHtml = 'Like what you see? Visit the ' +\n",
              "            '<a target=\"_blank\" href=https://colab.research.google.com/notebooks/data_table.ipynb>data table notebook</a>'\n",
              "            + ' to learn more about interactive tables.';\n",
              "          element.innerHTML = '';\n",
              "          dataTable['output_type'] = 'display_data';\n",
              "          await google.colab.output.renderOutput(dataTable, element);\n",
              "          const docLink = document.createElement('div');\n",
              "          docLink.innerHTML = docLinkHtml;\n",
              "          element.appendChild(docLink);\n",
              "        }\n",
              "      </script>\n",
              "    </div>\n",
              "  </div>\n",
              "  "
            ]
          },
          "metadata": {},
          "execution_count": 246
        }
      ],
      "source": [
        "df_trans = df_trans.rename(columns= {0:'Recency', 1:'Frequency', 2:'Monetary'})\n",
        "df_trans.head(5)"
      ]
    },
    {
      "cell_type": "markdown",
      "metadata": {
        "id": "d_ClymGU8uIC"
      },
      "source": [
        "# **Elbow**"
      ]
    },
    {
      "cell_type": "code",
      "execution_count": null,
      "metadata": {
        "id": "ggxfU8yF81nR",
        "colab": {
          "base_uri": "https://localhost:8080/"
        },
        "outputId": "5f82b87d-462b-44cd-b5b9-8d01f4a36036"
      },
      "outputs": [
        {
          "output_type": "display_data",
          "data": {
            "text/plain": [
              "<Figure size 1440x360 with 1 Axes>"
            ],
            "image/png": "[encoded data removed]"
          },
          "metadata": {}
        }
      ],
      "source": [
        "sse = {}\n",
        "for k in range(1,13):\n",
        "  kmeans = KMeans(n_clusters=k, random_state=42)\n",
        "  kmeans.fit(df_trans)\n",
        "  sse[k] = kmeans.inertia_\n",
        "\n",
        "plt.title('The Elbow Method')\n",
        "plt.xlabel('k')\n",
        "plt.ylabel('SSE')\n",
        "sns.pointplot(x=list(sse.keys()), y=list(sse.values()))\n",
        "plt.show()"
      ]
    },
    {
      "cell_type": "markdown",
      "metadata": {
        "id": "SVSEIIC5Cphj"
      },
      "source": [
        "# **Silhouette**"
      ]
    },
    {
      "cell_type": "code",
      "execution_count": null,
      "metadata": {
        "id": "L9mJgYEIHVqL",
        "colab": {
          "base_uri": "https://localhost:8080/",
          "height": 514
        },
        "outputId": "19909ce8-a5cf-44a5-e4d1-48f7e1279f99"
      },
      "outputs": [
        {
          "output_type": "display_data",
          "data": {
            "text/plain": [
              "<Figure size 1080x576 with 4 Axes>"
            ],
            "image/png": "[encoded data removed]"
          },
          "metadata": {}
        },
        {
          "output_type": "execute_result",
          "data": {
            "text/plain": [
              "<matplotlib.axes._subplots.AxesSubplot at 0x7fcf7d6a2670>"
            ]
          },
          "metadata": {},
          "execution_count": 252
        }
      ],
      "source": [
        "from yellowbrick.cluster import SilhouetteVisualizer\n",
        "\n",
        "fig, ax = plt.subplots(2, 2, figsize=(15,8))\n",
        "for k in [2, 3, 4, 5]:\n",
        "    kmeans = KMeans(n_clusters=k, init='k-means++', n_init=10, max_iter=100, random_state=42)\n",
        "    q, mod = divmod(k, 2)\n",
        "    visualizer = SilhouetteVisualizer(kmeans, colors='yellowbrick', ax=ax[q-1][mod])\n",
        "    visualizer.fit(df_trans)\n",
        "\n",
        "visualizer.show()"
      ]
    },
    {
      "cell_type": "code",
      "execution_count": null,
      "metadata": {
        "id": "I5aeK26X_P4A"
      },
      "outputs": [],
      "source": [
        "n_clusters= 10\n",
        "model = KMeans(n_clusters=n_clusters, random_state=42)\n",
        "model.fit(df_trans)"
      ]
    },
    {
      "cell_type": "code",
      "execution_count": null,
      "metadata": {
        "id": "szrtQoGA-8H7"
      },
      "outputs": [],
      "source": [
        "model.fit(df_trans[['Recency','Frequency','Monetary']])\n",
        "model.labels_"
      ]
    },
    {
      "cell_type": "code",
      "execution_count": null,
      "metadata": {
        "id": "KgGyJ15BGLHI"
      },
      "outputs": [],
      "source": [
        "from sklearn.metrics import silhouette_samples\n",
        "sample_silhouette_values = silhouette_samples(df_trans, model.labels_)\n",
        "\n",
        "means_lst = []\n",
        "\n",
        "for label in range(10):\n",
        "    means_lst.append(sample_silhouette_values[model.labels_ == label].mean())\n",
        "\n",
        "means_lst"
      ]
    },
    {
      "cell_type": "code",
      "execution_count": null,
      "metadata": {
        "id": "hONyecztNIdC"
      },
      "outputs": [],
      "source": [
        "plt.figure(figsize = (20,15))\n",
        "plt.plot([1,2,3,4,5,6,7,8,9,10],\n",
        "[0.4617046164630124,\n",
        " 0.505572891307772,\n",
        " 0.4468153388405307,\n",
        " 0.5043022450978901,\n",
        " 0.5185271043541558,\n",
        " 0.5260313876871998,\n",
        " 0.5002093743393808,\n",
        " 0.3577032929749282,\n",
        " 0.425354534676842,\n",
        " 0.49190138254775884] , 'go-', label= 'Silhoutte curve')\n",
        "plt.plot([3], [0.4468153388405307], 'ro', label= 'Optimal number of clusters (3)')\n",
        "plt.xlabel('Number of clusters')\n",
        "plt.ylabel('Silhoutte Coeffient')\n",
        "\n",
        "plt.legend(loc='best')\n",
        "plt.show()"
      ]
    },
    {
      "cell_type": "markdown",
      "metadata": {
        "id": "jycJWbAklWC5"
      },
      "source": [
        "# **Biểu đồ phân phối tần suất**"
      ]
    },
    {
      "cell_type": "code",
      "execution_count": null,
      "metadata": {
        "id": "5d_wmanNGcQr"
      },
      "outputs": [],
      "source": [
        "#Distribution plot of R,F,M after removing outliers\n",
        "fig, ax = plt.subplots(1,3, figsize= (15,8))\n",
        "sns.distplot(df_rfm['Recency'], hist = True, ax = ax[0])\n",
        "sns.distplot(df_rfm['Frequency'], hist = True, ax = ax[1])\n",
        "sns.distplot(df_rfm['Monetary'], hist = True, ax = ax[2])\n",
        "plt.show()"
      ]
    },
    {
      "cell_type": "code",
      "execution_count": null,
      "metadata": {
        "id": "Kr4MwGjJJZQ0"
      },
      "outputs": [],
      "source": [
        "fig, ax = plt.subplots(1,3, figsize=(15,8))\n",
        "\n",
        "ax[0].scatter(x= rfm_normal['Frequency'], y= rfm_normal['Recency'])\n",
        "ax[0].set_xlabel('Correlation between R and F')\n",
        "\n",
        "ax[1].scatter(x= rfm_normal['Recency'], y= rfm_normal['Monetary'])\n",
        "ax[1].set_xlabel('Correlation between R and M')\n",
        "\n",
        "ax[2].scatter(x= rfm_normal['Frequency'], y= rfm_normal['Monetary'])\n",
        "ax[2].set_xlabel('Correlation between F and M')"
      ]
    },
    {
      "cell_type": "markdown",
      "metadata": {
        "id": "M-LQYLzNWzgU"
      },
      "source": [
        "# **K-MEANS TÌM RA ĐẶC ĐIỂM CỦA CỤM**"
      ]
    },
    {
      "cell_type": "code",
      "execution_count": null,
      "metadata": {
        "id": "YYOSL381W88S"
      },
      "outputs": [],
      "source": [
        "md=KMeans(n_clusters=3,random_state=42)\n",
        "md.fit(rfm_normal)"
      ]
    },
    {
      "cell_type": "code",
      "execution_count": null,
      "metadata": {
        "id": "eol3JXGAXpeG"
      },
      "outputs": [],
      "source": [
        "rfm_normal['Cluster'] =md.labels_\n",
        "rfm_normal"
      ]
    },
    {
      "cell_type": "code",
      "execution_count": null,
      "metadata": {
        "id": "BQC0Qff1YKxc"
      },
      "outputs": [],
      "source": [
        "rfm_normal.describe()\n",
        "rfm_normal"
      ]
    },
    {
      "cell_type": "code",
      "execution_count": null,
      "metadata": {
        "id": "Y3xvhGQQYQlM"
      },
      "outputs": [],
      "source": [
        "df_mean_c =  rfm_normal.groupby('Cluster').agg(\n",
        "    {\n",
        "        'Recency':'mean',\n",
        "        'Frequency':'mean',\n",
        "        'Monetary':'mean',\n",
        "    }\n",
        ").round(1)\n",
        "df_mean_c"
      ]
    },
    {
      "cell_type": "code",
      "execution_count": null,
      "metadata": {
        "id": "1bx5TNKyh8c6"
      },
      "outputs": [],
      "source": [
        "rfm_normal[rfm_normal['Cluster'] == 2].describe()"
      ]
    },
    {
      "cell_type": "code",
      "execution_count": null,
      "metadata": {
        "id": "iKN2h580ZMzs"
      },
      "outputs": [],
      "source": [
        "percent_clusters = rfm_normal.Cluster.value_counts(normalize=True).mul(100).round(1).astype(str)+'%'\n",
        "percent_clusters"
      ]
    },
    {
      "cell_type": "code",
      "execution_count": null,
      "metadata": {
        "id": "Id4tYnRzMYIt"
      },
      "outputs": [],
      "source": [
        "md1 = KMeans(n_clusters =3)\n",
        "md1.fit(df_trans1)\n",
        "df_trans1['Labels'] = md1.labels_\n",
        "df_trans1"
      ]
    },
    {
      "cell_type": "code",
      "execution_count": null,
      "metadata": {
        "id": "NQLNq2HChwe5"
      },
      "outputs": [],
      "source": [
        "# import plotly.graph_objects as go\n",
        "# import plotly as py\n",
        "# df_trans1['labels']= md.labels_\n",
        "# trace = go.Scatter3d(\n",
        "#                     x=df_trans1['Recency'],\n",
        "#                     y=df_trans1['Frequency'],\n",
        "#                     z=df_trans1['Monetary'],\n",
        "#                     mode='markers',\n",
        "#                     marker=dict(color=df_trans1['labels'], size=5, line=dict(color=df_trans1['labels'],width=12),opacity=0.8)\n",
        "# )\n",
        "# data=[trace]\n",
        "# layout= go.Layout(\n",
        "#                   title = 'Clusters',\n",
        "#                   scene = dict(\n",
        "#                                 xaxis= dict(title ='Recency'),\n",
        "#                                 yaxis= dict(title ='Frequency'),\n",
        "#                                 zaxis= dict(title='Monetary'))\n",
        "#                                 )\n",
        "# fig=go.Figure(data=data, layout=layout)\n",
        "# py.offline.iplot(fig)\n",
        "# plt.show()"
      ]
    },
    {
      "cell_type": "markdown",
      "metadata": {
        "id": "o3eUQ5C2LTj1"
      },
      "source": [
        "# **SOM**"
      ]
    },
    {
      "cell_type": "code",
      "execution_count": null,
      "metadata": {
        "id": "p8P5xsGoNBpS"
      },
      "outputs": [],
      "source": [
        "pip install minisom"
      ]
    },
    {
      "cell_type": "code",
      "execution_count": null,
      "metadata": {
        "id": "TLoANjTOLbTv"
      },
      "outputs": [],
      "source": [
        "from minisom import MiniSom\n",
        "data = df_trans1.values\n",
        "data = np.array(data)\n",
        "som_shape = (1,3)\n",
        "som = MiniSom(som_shape[0], som_shape[1], data.shape[1], sigma=0.8, learning_rate=0.01,\n",
        "              neighborhood_function='gaussian')\n",
        "\n",
        "som.train_batch(data, 18000, verbose=True)\n"
      ]
    },
    {
      "cell_type": "code",
      "execution_count": null,
      "metadata": {
        "id": "R8TSO-HTsWQe"
      },
      "outputs": [],
      "source": [
        "winner_coordinates = np.array([som.winner(x) for x in data]).T\n",
        "cluster_index = np.ravel_multi_index(winner_coordinates, som_shape)\n",
        "cluster_index"
      ]
    },
    {
      "cell_type": "code",
      "execution_count": null,
      "metadata": {
        "id": "Z02zeYuHuXm9"
      },
      "outputs": [],
      "source": [
        "import matplotlib.pyplot as plt\n",
        "\n",
        "for c in np.unique(cluster_index):\n",
        "    plt.scatter(data[cluster_index == c, 0],\n",
        "                data[cluster_index == c, 1], label='cluster='+str(c), alpha=.7)\n",
        "\n",
        "for centroid in som.get_weights():\n",
        "    plt.scatter(centroid[:, 0], centroid[:, 1], marker='x',\n",
        "                s=80, linewidths=35, color='k', label='centroid')\n",
        "plt.legend();\n"
      ]
    },
    {
      "cell_type": "markdown",
      "metadata": {
        "id": "zjjxF74zNXzT"
      },
      "source": [
        "# **Predict 1**"
      ]
    },
    {
      "cell_type": "code",
      "execution_count": null,
      "metadata": {
        "id": "UBqitTCGNaFN"
      },
      "outputs": [],
      "source": [
        "df_cohort = df_merge.iloc[:,[2,18,16,14]]\n",
        "df_cohort.head()"
      ]
    },
    {
      "cell_type": "code",
      "execution_count": null,
      "metadata": {
        "id": "CkooqKQYH1Vh"
      },
      "outputs": [],
      "source": [
        "a = df_cohort.sort_values(['CustomerKey','Date']).groupby('CustomerKey').first()"
      ]
    },
    {
      "cell_type": "code",
      "execution_count": null,
      "metadata": {
        "id": "WhaKtukvJ02d"
      },
      "outputs": [],
      "source": [
        "n_days = 90\n",
        "max_date = df_cohort['Date'].max()\n",
        "cut_off = max_date - pd.to_timedelta(n_days, unit = 'd')\n",
        "\n",
        "temporal_in_df = df_cohort[df_cohort['Date'] <= cut_off]\n",
        "temporal_out_df = df_cohort[df_cohort['Date'] > cut_off]"
      ]
    },
    {
      "cell_type": "code",
      "execution_count": null,
      "metadata": {
        "id": "AD9MwUenPZD3"
      },
      "outputs": [],
      "source": [
        "target_df = temporal_out_df.drop(columns=['Date','Sales Order']).groupby('CustomerKey').sum().rename(columns={'Sales Amount':'spend_90_total'}).assign(spend_90_flag = 1)\n",
        "target_df"
      ]
    },
    {
      "cell_type": "code",
      "execution_count": null,
      "metadata": {
        "id": "_aWp2SYgODmn"
      },
      "outputs": [],
      "source": [
        "features_df = df_rfm.merge(target_df, left_index = True, right_index = True, how = 'left').fillna(0)"
      ]
    },
    {
      "cell_type": "code",
      "execution_count": null,
      "metadata": {
        "id": "P9lb_brqSHEg"
      },
      "outputs": [],
      "source": [
        "from xgboost import XGBClassifier, XGBRegressor\n",
        "from sklearn.model_selection import cross_val_score, GridSearchCV\n",
        "from xgboost import plot_tree"
      ]
    },
    {
      "cell_type": "markdown",
      "metadata": {
        "id": "ulY7en2fNhv7"
      },
      "source": [
        "**Predict cluster 0**"
      ]
    },
    {
      "cell_type": "code",
      "execution_count": null,
      "metadata": {
        "id": "xphIOFNUNnwC"
      },
      "outputs": [],
      "source": [
        "df_clus0 = rfm_normal[rfm_normal['Cluster'] == 0]\n",
        "target_df0 = temporal_out_df.groupby('CustomerKey').sum().rename(columns={'Sales Amount':'spend_90_total'}).assign(spend_90_flag = 1)\n",
        "target_df0"
      ]
    },
    {
      "cell_type": "code",
      "execution_count": null,
      "metadata": {
        "id": "6-2KqFrASCQH"
      },
      "outputs": [],
      "source": [
        "features_df0 = df_clus0.merge(target_df0, left_index = True, right_index = True, how = 'left').fillna(0)\n",
        "features_df0"
      ]
    },
    {
      "cell_type": "code",
      "execution_count": null,
      "metadata": {
        "id": "l-eV-loBYXGO"
      },
      "outputs": [],
      "source": [
        "y_spend0 = features_df0['spend_90_total']\n",
        "x0 = features_df0[['Recency','Frequency','Monetary']]\n",
        "\n",
        "xgb_reg0 = XGBRegressor(\n",
        "    objective = 'reg:squarederror'\n",
        ")\n",
        "xgb_reg_model0 = GridSearchCV(\n",
        "    estimator = xgb_reg0,\n",
        "    param_grid = dict(\n",
        "        learning_rate = [0.01, 0.1, 0.3, 0.5]\n",
        "    ),\n",
        "    refit = True,\n",
        "    cv = 5\n",
        ")\n",
        "xgb_reg_model0.fit(x0, y_spend0)\n",
        "xgb_reg_model0.best_score_\n",
        "xgb_reg_model0.best_params_\n",
        "\n",
        "prediction_reg0 = xgb_reg_model0.predict(x0)\n",
        "pd.DataFrame(prediction_reg0).mean()"
      ]
    },
    {
      "cell_type": "code",
      "execution_count": null,
      "metadata": {
        "id": "8xgocqP4Tzh0"
      },
      "outputs": [],
      "source": [
        "y_prob0 = features_df0['spend_90_flag']\n",
        "\n",
        "xgb_clf0 = XGBClassifier(\n",
        "    objective = 'binary:logistic'\n",
        ")\n",
        "\n",
        "xgb_clf_model0 = GridSearchCV(\n",
        "    estimator = xgb_clf0,\n",
        "    param_grid = dict(\n",
        "        learning_rate = [0.01, 0.1, 0.3, 0.5]\n",
        "    ),\n",
        "    scoring = 'roc_auc',\n",
        "    refit = True,\n",
        "    cv = 5\n",
        ")\n",
        "xgb_clf_model0.fit(x0, y_prob0)\n",
        "\n",
        "prediction_clf0 = xgb_clf_model0.predict_proba(x0)\n",
        "pd.DataFrame(prediction_clf0)"
      ]
    },
    {
      "cell_type": "markdown",
      "metadata": {
        "id": "V9ZatTt0cCyP"
      },
      "source": [
        "**Predict Cluster 1**"
      ]
    },
    {
      "cell_type": "code",
      "execution_count": null,
      "metadata": {
        "id": "ep8U4a3YcJDv"
      },
      "outputs": [],
      "source": [
        "df_clus1 = rfm_normal[rfm_normal['Cluster'] == 1]\n",
        "target_df1 = temporal_out_df.groupby('CustomerKey').sum().rename(columns={'Sales Amount':'spend_90_total'}).assign(spend_90_flag = 1)\n",
        "target_df1"
      ]
    },
    {
      "cell_type": "code",
      "execution_count": null,
      "metadata": {
        "id": "7t6sFInlcTzK"
      },
      "outputs": [],
      "source": [
        "features_df1 = df_clus1.merge(target_df1, left_index = True, right_index = True, how = 'left').fillna(0)\n",
        "features_df1"
      ]
    },
    {
      "cell_type": "code",
      "execution_count": null,
      "metadata": {
        "id": "cN9UnF1qcRFU"
      },
      "outputs": [],
      "source": [
        "y_spend1 = features_df1['spend_90_total']\n",
        "x1 = features_df1[['Recency','Frequency','Monetary']]\n",
        "\n",
        "xgb_reg1 = XGBRegressor(\n",
        "    objective = 'reg:squarederror'\n",
        ")\n",
        "xgb_reg_model1 = GridSearchCV(\n",
        "    estimator = xgb_reg1,\n",
        "    param_grid = dict(\n",
        "        learning_rate = [0.01, 0.1, 0.3, 0.5]\n",
        "    ),\n",
        "    refit = True,\n",
        "    cv = 5\n",
        ")\n",
        "xgb_reg_model1.fit(x1, y_spend1)\n",
        "xgb_reg_model1.best_score_\n",
        "xgb_reg_model1.best_params_\n",
        "\n",
        "prediction_reg1 = xgb_reg_model1.predict(x1)\n",
        "pd.DataFrame(prediction_reg1).mean()"
      ]
    },
    {
      "cell_type": "code",
      "execution_count": null,
      "metadata": {
        "id": "nDRB-79_c_Y0"
      },
      "outputs": [],
      "source": [
        "y_prob1 = features_df1['spend_90_flag']\n",
        "\n",
        "xgb_clf1 = XGBClassifier(\n",
        "    objective = 'binary:logistic'\n",
        ")\n",
        "\n",
        "xgb_clf_model1 = GridSearchCV(\n",
        "    estimator = xgb_clf1,\n",
        "    param_grid = dict(\n",
        "        learning_rate = [0.01, 0.1, 0.3, 0.5]\n",
        "    ),\n",
        "    scoring = 'roc_auc',\n",
        "    refit = True,\n",
        "    cv = 5\n",
        ")\n",
        "xgb_clf_model1.fit(x1, y_prob1)\n",
        "\n",
        "prediction_clf1 = xgb_clf_model1.predict_proba(x1)\n",
        "pd.DataFrame(prediction_clf1).mean()"
      ]
    },
    {
      "cell_type": "markdown",
      "metadata": {
        "id": "eaz4Rnv0dsuP"
      },
      "source": [
        "**Predict Cluster 2**"
      ]
    },
    {
      "cell_type": "code",
      "execution_count": null,
      "metadata": {
        "id": "BP-VcWoTeNJy"
      },
      "outputs": [],
      "source": [
        "df_clus2 = rfm_normal[rfm_normal['Cluster'] == 2]\n",
        "target_df2 = temporal_out_df.groupby('CustomerKey').sum().rename(columns={'Sales Amount':'spend_90_total'}).assign(spend_90_flag = 1)\n",
        "target_df2"
      ]
    },
    {
      "cell_type": "code",
      "execution_count": null,
      "metadata": {
        "id": "4i2P7WLzeWgA"
      },
      "outputs": [],
      "source": [
        "features_df2 = df_clus2.merge(target_df2, left_index = True, right_index = True, how = 'left').fillna(0)\n",
        "features_df2"
      ]
    },
    {
      "cell_type": "code",
      "execution_count": null,
      "metadata": {
        "id": "ETmp_UJwecif"
      },
      "outputs": [],
      "source": [
        "y_spend2 = features_df2['spend_90_total']\n",
        "x2 = features_df2[['Recency','Frequency','Monetary']]\n",
        "\n",
        "xgb_reg2 = XGBRegressor(\n",
        "    objective = 'reg:squarederror'\n",
        ")\n",
        "xgb_reg_model2 = GridSearchCV(\n",
        "    estimator = xgb_reg2,\n",
        "    param_grid = dict(\n",
        "        learning_rate = [0.01, 0.1, 0.3, 0.5]\n",
        "    ),\n",
        "    refit = True,\n",
        "    cv = 5\n",
        ")\n",
        "xgb_reg_model2.fit(x2, y_spend2)\n",
        "xgb_reg_model2.best_score_\n",
        "xgb_reg_model1.best_params_\n",
        "\n",
        "prediction_reg2 = xgb_reg_model2.predict(x2)\n",
        "pd.DataFrame(prediction_reg2).mean()"
      ]
    },
    {
      "cell_type": "code",
      "execution_count": null,
      "metadata": {
        "id": "ejuatfkOfVtI"
      },
      "outputs": [],
      "source": [
        "y_prob2 = features_df2['spend_90_flag']\n",
        "\n",
        "xgb_clf2 = XGBClassifier(\n",
        "    objective = 'binary:logistic'\n",
        ")\n",
        "\n",
        "xgb_clf_model2 = GridSearchCV(\n",
        "    estimator = xgb_clf2,\n",
        "    param_grid = dict(\n",
        "        learning_rate = [0.01, 0.1, 0.3, 0.5]\n",
        "    ),\n",
        "    scoring = 'roc_auc',\n",
        "    refit = True,\n",
        "    cv = 5\n",
        ")\n",
        "xgb_clf_model2.fit(x2, y_prob2)\n",
        "\n",
        "prediction_clf2 = xgb_clf_model2.predict_proba(x2)\n",
        "pd.DataFrame(prediction_clf2).mean()"
      ]
    },
    {
      "cell_type": "code",
      "execution_count": null,
      "metadata": {
        "id": "Bp7KRYyVpqGH"
      },
      "outputs": [],
      "source": [
        "df_clus0['Predict0'] = prediction_reg0\n",
        "df_clus1['Predict1'] = prediction_reg1\n",
        "df_clus2['Predict2'] = prediction_reg2\n",
        "df_clus0['Predict0'].mean(),"
      ]
    },
    {
      "cell_type": "code",
      "execution_count": null,
      "metadata": {
        "id": "_rbKYYMhr0sL"
      },
      "outputs": [],
      "source": [
        "fig = plt.figure(figsize = (16, 8))\n",
        "\n",
        "data = {'0': df_clus0['Predict0'].mean(), '1': df_clus1['Predict1'].mean(), '2': df_clus2['Predict2'].mean()}\n",
        "\n",
        "clusters = list(data.keys())\n",
        "values = list(data.values())\n",
        "\n",
        "\n",
        "mean_c = (58.09, 620.62, 530.46)\n",
        "\n",
        "plt.bar(clusters, values,\n",
        "        width = 0.4,\n",
        "        )\n",
        "\n",
        "for index,data in enumerate(mean_c):\n",
        "    plt.text(x=index , y =data , s=f\"{data}\" , fontdict=dict(fontsize= 20))\n",
        "\n",
        "plt.xlabel(\"Cluster\")\n",
        "plt.ylabel(\"CLV Predicted\")\n",
        "plt.title(\"Mean of Predicted Customer Lifetime Value\")\n",
        "plt.show()"
      ]
    },
    {
      "cell_type": "markdown",
      "metadata": {
        "id": "7MtNb17AAzUj"
      },
      "source": [
        "\n",
        "# **CLV**"
      ]
    },
    {
      "cell_type": "code",
      "execution_count": null,
      "metadata": {
        "id": "aG4ljn3vDJ72"
      },
      "outputs": [],
      "source": [
        "#Weight thể hiện mối quan hệ giữa các đại lượng RFM được các chuyên gia đánh gia và kết quả từ phương pháp AHP (Analytic Hierarchy Process)\n",
        "WR = 0.128\n",
        "WF = 0.087\n",
        "WM = 0.785\n",
        "def calc_CLV(df):\n",
        "  df['CLV Value'] = WR * df['Recency'] + WF * df['Frequency'] + WM * df['Monetary']\n",
        "  return df"
      ]
    },
    {
      "cell_type": "code",
      "execution_count": null,
      "metadata": {
        "id": "vvxuNuG7PFPy"
      },
      "outputs": [],
      "source": [
        "calc_CLV(df_mean_c)\n",
        "df_mean_c"
      ]
    },
    {
      "cell_type": "code",
      "execution_count": null,
      "metadata": {
        "id": "IqtVlXU108I1"
      },
      "outputs": [],
      "source": [
        "s=df_mean_c['CLV Value']/sum(df_mean_c['CLV Value'])\n",
        "df_mean_c['Distribution']=s\n",
        "df_mean_c\n",
        "\n",
        "# # # Khai báo tiêu đề cho trục x\n",
        "# # plt.xlabel('')\n",
        "# # # Khai báo tiêu đề cho trục y\n",
        "# # plt.ylabel('iris sepal length density distribution')\n",
        "# # plt.show()"
      ]
    },
    {
      "cell_type": "code",
      "execution_count": null,
      "metadata": {
        "id": "RYxv37eNJHdh"
      },
      "outputs": [],
      "source": [
        "# plt.rcParams[\"figure.figsize\"] = [7.50, 3.50]\n",
        "# plt.rcParams[\"figure.autolayout\"] = True\n",
        "\n",
        "# fig, ax = plt.subplots()\n",
        "# df_mean_c['CLV Value'].plot(kind='bar', color='blue')\n",
        "\n",
        "# df_mean_c['Distribution'].plot(kind='line', marker='*', color='black', ms=10)\n",
        "\n",
        "# plt.show()\n",
        "width=.35 # width of a bar\n",
        "\n",
        "m1_t = pd.DataFrame(df_mean_c)\n",
        "\n",
        "m1_t[['CLV Value']].plot(kind='bar', width = width)\n",
        "m1_t['Distribution'].plot(secondary_y=True)\n",
        "\n",
        "plt.ylabel('CLV Value')\n",
        "\n",
        "plt.show()"
      ]
    },
    {
      "cell_type": "code",
      "execution_count": null,
      "metadata": {
        "id": "_7QbVhG88-S3"
      },
      "outputs": [],
      "source": [
        "df_mean_c['CLV Value']/sum(df_mean_c['CLV Value'])"
      ]
    },
    {
      "cell_type": "code",
      "execution_count": null,
      "metadata": {
        "id": "6oQfn5Ceswdv"
      },
      "outputs": [],
      "source": [
        "calc_CLV(df_clus0)\n",
        "calc_CLV(df_clus1)\n",
        "calc_CLV(df_clus2)"
      ]
    },
    {
      "cell_type": "code",
      "execution_count": null,
      "metadata": {
        "id": "8UXST3wvtZxA",
        "colab": {
          "base_uri": "https://localhost:8080/",
          "height": 455
        },
        "outputId": "f3311490-a2f0-40f3-f3b6-7f6f5a1ab140"
      },
      "outputs": [
        {
          "output_type": "execute_result",
          "data": {
            "text/plain": [
              "             Recency  Frequency  Monetary  Cluster    Predict0  CLV Value\n",
              "CustomerKey                                                              \n",
              "11012.0           91          2     81.26        0   51.185699   75.61110\n",
              "11013.0            4          2    113.96        0   82.957176   90.14460\n",
              "11014.0          259          2    138.45        0   -2.392065  142.00925\n",
              "11023.0            8          2    122.24        0   98.037224   97.15640\n",
              "11024.0          172          2     56.51        0   -0.735870   66.55035\n",
              "...              ...        ...       ...      ...         ...        ...\n",
              "29464.0           91          1    756.33        0  755.539124  605.45405\n",
              "29465.0           86          1    791.32        0  790.856201  632.28120\n",
              "29470.0           40          1     60.47        0   58.432766   52.67595\n",
              "29471.0            4          1     23.78        0   23.775564   19.26630\n",
              "29472.0          135          1     88.98        0   85.123535   87.21630\n",
              "\n",
              "[10358 rows x 6 columns]"
            ],
            "text/html": [
              "\n",
              "  <div id=\"df-ef7b49f4-5fbb-4b43-921c-68decf0a9783\">\n",
              "    <div class=\"colab-df-container\">\n",
              "      <div>\n",
              "<style scoped>\n",
              "    .dataframe tbody tr th:only-of-type {\n",
              "        vertical-align: middle;\n",
              "    }\n",
              "\n",
              "    .dataframe tbody tr th {\n",
              "        vertical-align: top;\n",
              "    }\n",
              "\n",
              "    .dataframe thead th {\n",
              "        text-align: right;\n",
              "    }\n",
              "</style>\n",
              "<table border=\"1\" class=\"dataframe\">\n",
              "  <thead>\n",
              "    <tr style=\"text-align: right;\">\n",
              "      <th></th>\n",
              "      <th>Recency</th>\n",
              "      <th>Frequency</th>\n",
              "      <th>Monetary</th>\n",
              "      <th>Cluster</th>\n",
              "      <th>Predict0</th>\n",
              "      <th>CLV Value</th>\n",
              "    </tr>\n",
              "    <tr>\n",
              "      <th>CustomerKey</th>\n",
              "      <th></th>\n",
              "      <th></th>\n",
              "      <th></th>\n",
              "      <th></th>\n",
              "      <th></th>\n",
              "      <th></th>\n",
              "    </tr>\n",
              "  </thead>\n",
              "  <tbody>\n",
              "    <tr>\n",
              "      <th>11012.0</th>\n",
              "      <td>91</td>\n",
              "      <td>2</td>\n",
              "      <td>81.26</td>\n",
              "      <td>0</td>\n",
              "      <td>51.185699</td>\n",
              "      <td>75.61110</td>\n",
              "    </tr>\n",
              "    <tr>\n",
              "      <th>11013.0</th>\n",
              "      <td>4</td>\n",
              "      <td>2</td>\n",
              "      <td>113.96</td>\n",
              "      <td>0</td>\n",
              "      <td>82.957176</td>\n",
              "      <td>90.14460</td>\n",
              "    </tr>\n",
              "    <tr>\n",
              "      <th>11014.0</th>\n",
              "      <td>259</td>\n",
              "      <td>2</td>\n",
              "      <td>138.45</td>\n",
              "      <td>0</td>\n",
              "      <td>-2.392065</td>\n",
              "      <td>142.00925</td>\n",
              "    </tr>\n",
              "    <tr>\n",
              "      <th>11023.0</th>\n",
              "      <td>8</td>\n",
              "      <td>2</td>\n",
              "      <td>122.24</td>\n",
              "      <td>0</td>\n",
              "      <td>98.037224</td>\n",
              "      <td>97.15640</td>\n",
              "    </tr>\n",
              "    <tr>\n",
              "      <th>11024.0</th>\n",
              "      <td>172</td>\n",
              "      <td>2</td>\n",
              "      <td>56.51</td>\n",
              "      <td>0</td>\n",
              "      <td>-0.735870</td>\n",
              "      <td>66.55035</td>\n",
              "    </tr>\n",
              "    <tr>\n",
              "      <th>...</th>\n",
              "      <td>...</td>\n",
              "      <td>...</td>\n",
              "      <td>...</td>\n",
              "      <td>...</td>\n",
              "      <td>...</td>\n",
              "      <td>...</td>\n",
              "    </tr>\n",
              "    <tr>\n",
              "      <th>29464.0</th>\n",
              "      <td>91</td>\n",
              "      <td>1</td>\n",
              "      <td>756.33</td>\n",
              "      <td>0</td>\n",
              "      <td>755.539124</td>\n",
              "      <td>605.45405</td>\n",
              "    </tr>\n",
              "    <tr>\n",
              "      <th>29465.0</th>\n",
              "      <td>86</td>\n",
              "      <td>1</td>\n",
              "      <td>791.32</td>\n",
              "      <td>0</td>\n",
              "      <td>790.856201</td>\n",
              "      <td>632.28120</td>\n",
              "    </tr>\n",
              "    <tr>\n",
              "      <th>29470.0</th>\n",
              "      <td>40</td>\n",
              "      <td>1</td>\n",
              "      <td>60.47</td>\n",
              "      <td>0</td>\n",
              "      <td>58.432766</td>\n",
              "      <td>52.67595</td>\n",
              "    </tr>\n",
              "    <tr>\n",
              "      <th>29471.0</th>\n",
              "      <td>4</td>\n",
              "      <td>1</td>\n",
              "      <td>23.78</td>\n",
              "      <td>0</td>\n",
              "      <td>23.775564</td>\n",
              "      <td>19.26630</td>\n",
              "    </tr>\n",
              "    <tr>\n",
              "      <th>29472.0</th>\n",
              "      <td>135</td>\n",
              "      <td>1</td>\n",
              "      <td>88.98</td>\n",
              "      <td>0</td>\n",
              "      <td>85.123535</td>\n",
              "      <td>87.21630</td>\n",
              "    </tr>\n",
              "  </tbody>\n",
              "</table>\n",
              "<p>10358 rows × 6 columns</p>\n",
              "</div>\n",
              "      <button class=\"colab-df-convert\" onclick=\"convertToInteractive('df-ef7b49f4-5fbb-4b43-921c-68decf0a9783')\"\n",
              "              title=\"Convert this dataframe to an interactive table.\"\n",
              "              style=\"display:none;\">\n",
              "        \n",
              "  <svg xmlns=\"http://www.w3.org/2000/svg\" height=\"24px\"viewBox=\"0 0 24 24\"\n",
              "       width=\"24px\">\n",
              "    <path d=\"M0 0h24v24H0V0z\" fill=\"none\"/>\n",
              "    <path d=\"M18.56 5.44l.94 2.06.94-2.06 2.06-.94-2.06-.94-.94-2.06-.94 2.06-2.06.94zm-11 1L8.5 8.5l.94-2.06 2.06-.94-2.06-.94L8.5 2.5l-.94 2.06-2.06.94zm10 10l.94 2.06.94-2.06 2.06-.94-2.06-.94-.94-2.06-.94 2.06-2.06.94z\"/><path d=\"M17.41 7.96l-1.37-1.37c-.4-.4-.92-.59-1.43-.59-.52 0-1.04.2-1.43.59L10.3 9.45l-7.72 7.72c-.78.78-.78 2.05 0 2.83L4 21.41c.39.39.9.59 1.41.59.51 0 1.02-.2 1.41-.59l7.78-7.78 2.81-2.81c.8-.78.8-2.07 0-2.86zM5.41 20L4 18.59l7.72-7.72 1.47 1.35L5.41 20z\"/>\n",
              "  </svg>\n",
              "      </button>\n",
              "      \n",
              "  <style>\n",
              "    .colab-df-container {\n",
              "      display:flex;\n",
              "      flex-wrap:wrap;\n",
              "      gap: 12px;\n",
              "    }\n",
              "\n",
              "    .colab-df-convert {\n",
              "      background-color: #E8F0FE;\n",
              "      border: none;\n",
              "      border-radius: 50%;\n",
              "      cursor: pointer;\n",
              "      display: none;\n",
              "      fill: #1967D2;\n",
              "      height: 32px;\n",
              "      padding: 0 0 0 0;\n",
              "      width: 32px;\n",
              "    }\n",
              "\n",
              "    .colab-df-convert:hover {\n",
              "      background-color: #E2EBFA;\n",
              "      box-shadow: 0px 1px 2px rgba(60, 64, 67, 0.3), 0px 1px 3px 1px rgba(60, 64, 67, 0.15);\n",
              "      fill: #174EA6;\n",
              "    }\n",
              "\n",
              "    [theme=dark] .colab-df-convert {\n",
              "      background-color: #3B4455;\n",
              "      fill: #D2E3FC;\n",
              "    }\n",
              "\n",
              "    [theme=dark] .colab-df-convert:hover {\n",
              "      background-color: #434B5C;\n",
              "      box-shadow: 0px 1px 3px 1px rgba(0, 0, 0, 0.15);\n",
              "      filter: drop-shadow(0px 1px 2px rgba(0, 0, 0, 0.3));\n",
              "      fill: #FFFFFF;\n",
              "    }\n",
              "  </style>\n",
              "\n",
              "      <script>\n",
              "        const buttonEl =\n",
              "          document.querySelector('#df-ef7b49f4-5fbb-4b43-921c-68decf0a9783 button.colab-df-convert');\n",
              "        buttonEl.style.display =\n",
              "          google.colab.kernel.accessAllowed ? 'block' : 'none';\n",
              "\n",
              "        async function convertToInteractive(key) {\n",
              "          const element = document.querySelector('#df-ef7b49f4-5fbb-4b43-921c-68decf0a9783');\n",
              "          const dataTable =\n",
              "            await google.colab.kernel.invokeFunction('convertToInteractive',\n",
              "                                                     [key], {});\n",
              "          if (!dataTable) return;\n",
              "\n",
              "          const docLinkHtml = 'Like what you see? Visit the ' +\n",
              "            '<a target=\"_blank\" href=https://colab.research.google.com/notebooks/data_table.ipynb>data table notebook</a>'\n",
              "            + ' to learn more about interactive tables.';\n",
              "          element.innerHTML = '';\n",
              "          dataTable['output_type'] = 'display_data';\n",
              "          await google.colab.output.renderOutput(dataTable, element);\n",
              "          const docLink = document.createElement('div');\n",
              "          docLink.innerHTML = docLinkHtml;\n",
              "          element.appendChild(docLink);\n",
              "        }\n",
              "      </script>\n",
              "    </div>\n",
              "  </div>\n",
              "  "
            ]
          },
          "metadata": {},
          "execution_count": 251
        }
      ],
      "source": []
    },
    {
      "cell_type": "markdown",
      "metadata": {
        "id": "ENvvXG7GEWCR"
      },
      "source": [
        "# **Cohort Retention Rate**"
      ]
    },
    {
      "cell_type": "code",
      "execution_count": null,
      "metadata": {
        "id": "5PTs9Om-02fa"
      },
      "outputs": [],
      "source": [
        "df_retention = df_retention.drop_duplicates().loc[(df_retention['Date'] >= '05-05-2019')]"
      ]
    },
    {
      "cell_type": "code",
      "execution_count": null,
      "metadata": {
        "id": "vq5VK_jFEcmM"
      },
      "outputs": [],
      "source": [
        "#Uses the datetime function to gets the month a datetime stamp and strips the time\n",
        "def get_month(x):\n",
        "    return dt.datetime(x.year, x.month, 1) #year, month, incremints of day"
      ]
    },
    {
      "cell_type": "code",
      "source": [
        "#Create a new column\n",
        "df_retention['InvoiceMonth'] = df_retention['Date'].apply(get_month)"
      ],
      "metadata": {
        "id": "8UFMTyv6hbyd"
      },
      "execution_count": null,
      "outputs": []
    },
    {
      "cell_type": "code",
      "source": [
        "df_retention['CohortMonth'] = df_retention.groupby('CustomerKey')['InvoiceMonth'].transform('min')"
      ],
      "metadata": {
        "id": "WMnMqnZ2huDC"
      },
      "execution_count": null,
      "outputs": []
    },
    {
      "cell_type": "code",
      "source": [
        "#When passed a datetime column this functions splits out year, month, day\n",
        "\n",
        "def get_date(df, column):\n",
        "    year = df[column].dt.year\n",
        "    month = df[column].dt.month\n",
        "    day = df[column].dt.day\n",
        "    return year, month, day"
      ],
      "metadata": {
        "id": "ny3mT9Mbh2Vi"
      },
      "execution_count": null,
      "outputs": []
    },
    {
      "cell_type": "code",
      "source": [
        "#splits invoiced month and data into single variables\n",
        "invoice_year, invoice_month, _ = get_date(df_retention, 'InvoiceMonth')"
      ],
      "metadata": {
        "id": "bpEhmSkRh6hF"
      },
      "execution_count": null,
      "outputs": []
    },
    {
      "cell_type": "code",
      "source": [
        "#splits cohort month and data into single variables\n",
        "cohort_year, cohort_month, _ = get_date(df_retention, 'CohortMonth')"
      ],
      "metadata": {
        "id": "2k563S6piASs"
      },
      "execution_count": null,
      "outputs": []
    },
    {
      "cell_type": "code",
      "source": [
        "# Creating a variable which holds the differnce between the invoice and cohort year\n",
        "year_diff = invoice_year - cohort_year"
      ],
      "metadata": {
        "id": "YNYJmn3LiHl4"
      },
      "execution_count": null,
      "outputs": []
    },
    {
      "cell_type": "code",
      "source": [
        "# Creating a variable which holds the differnce between the invoice and cohort month\n",
        "month_diff = invoice_month - cohort_month"
      ],
      "metadata": {
        "id": "7QSzf7FwiHbc"
      },
      "execution_count": null,
      "outputs": []
    },
    {
      "cell_type": "code",
      "source": [
        "#Now creating a column that has the calclation shows the\n",
        "df_retention['CohortIndex'] = year_diff * 12 + month_diff + 1"
      ],
      "metadata": {
        "id": "3maRkGZEiOn7"
      },
      "execution_count": null,
      "outputs": []
    },
    {
      "cell_type": "code",
      "source": [
        "#Group the data by columns CohortMonth','CohortIndex' then aggreate by column 'CustomerID'\n",
        "cohort_data = df_retention.groupby(\n",
        "    ['CohortMonth', 'CohortIndex'])['CustomerKey'].apply(pd.Series.nunique).reset_index()"
      ],
      "metadata": {
        "id": "ijfB1GyviSVv"
      },
      "execution_count": null,
      "outputs": []
    },
    {
      "cell_type": "code",
      "source": [
        "#Take the cohort_data and plumb it into a Pivot Table. Setting index, columns and values as below.\n",
        "cohort_count = cohort_data.pivot_table(index = 'CohortMonth',\n",
        "                                       columns = 'CohortIndex',\n",
        "                                       values = 'CustomerKey')"
      ],
      "metadata": {
        "id": "DPrcx8nWiUNW"
      },
      "execution_count": null,
      "outputs": []
    },
    {
      "cell_type": "markdown",
      "source": [
        "**Create retention as a percentage**"
      ],
      "metadata": {
        "id": "N4nfLl21il85"
      }
    },
    {
      "cell_type": "code",
      "source": [
        "cohort_size = cohort_count.iloc[:,0] #select all the rows : select the first column\n",
        "retention = cohort_count.divide(cohort_size, axis=0) #Divide the cohort by the first column\n",
        "retention.round(3) # round the retention to 3 places"
      ],
      "metadata": {
        "colab": {
          "base_uri": "https://localhost:8080/",
          "height": 457
        },
        "id": "aAzCpZXlijOL",
        "outputId": "19f3d1ed-0987-4534-9ca1-7bd342b407ad"
      },
      "execution_count": null,
      "outputs": [
        {
          "output_type": "execute_result",
          "data": {
            "text/plain": [
              "CohortIndex   1      2      3      4      5      6      7      8      9   \\\n",
              "CohortMonth                                                                \n",
              "2019-07-01   1.0  0.047  0.053  0.050  0.058  0.059  0.055  0.046  0.060   \n",
              "2019-08-01   1.0  0.033  0.035  0.026  0.060  0.042  0.033  0.040  0.037   \n",
              "2019-09-01   1.0  0.028  0.027  0.028  0.042  0.043  0.040  0.030  0.029   \n",
              "2019-10-01   1.0  0.035  0.024  0.031  0.028  0.044  0.036  0.026  0.023   \n",
              "2019-11-01   1.0  0.025  0.036  0.025  0.031  0.034  0.033  0.014    NaN   \n",
              "2019-12-01   1.0  0.026  0.025  0.028  0.036  0.051  0.017    NaN    NaN   \n",
              "2020-01-01   1.0  0.024  0.031  0.022  0.040  0.016    NaN    NaN    NaN   \n",
              "2020-02-01   1.0  0.025  0.039  0.037  0.020    NaN    NaN    NaN    NaN   \n",
              "2020-03-01   1.0  0.017  0.027  0.016    NaN    NaN    NaN    NaN    NaN   \n",
              "2020-04-01   1.0  0.018  0.020    NaN    NaN    NaN    NaN    NaN    NaN   \n",
              "2020-05-01   1.0  0.012    NaN    NaN    NaN    NaN    NaN    NaN    NaN   \n",
              "2020-06-01   1.0    NaN    NaN    NaN    NaN    NaN    NaN    NaN    NaN   \n",
              "\n",
              "CohortIndex     10     11     12  \n",
              "CohortMonth                       \n",
              "2019-07-01   0.054  0.052  0.044  \n",
              "2019-08-01   0.029  0.022    NaN  \n",
              "2019-09-01   0.026    NaN    NaN  \n",
              "2019-10-01     NaN    NaN    NaN  \n",
              "2019-11-01     NaN    NaN    NaN  \n",
              "2019-12-01     NaN    NaN    NaN  \n",
              "2020-01-01     NaN    NaN    NaN  \n",
              "2020-02-01     NaN    NaN    NaN  \n",
              "2020-03-01     NaN    NaN    NaN  \n",
              "2020-04-01     NaN    NaN    NaN  \n",
              "2020-05-01     NaN    NaN    NaN  \n",
              "2020-06-01     NaN    NaN    NaN  "
            ],
            "text/html": [
              "\n",
              "  <div id=\"df-bf7c0ec5-d245-4934-a2f6-7e48f4fcc1c2\">\n",
              "    <div class=\"colab-df-container\">\n",
              "      <div>\n",
              "<style scoped>\n",
              "    .dataframe tbody tr th:only-of-type {\n",
              "        vertical-align: middle;\n",
              "    }\n",
              "\n",
              "    .dataframe tbody tr th {\n",
              "        vertical-align: top;\n",
              "    }\n",
              "\n",
              "    .dataframe thead th {\n",
              "        text-align: right;\n",
              "    }\n",
              "</style>\n",
              "<table border=\"1\" class=\"dataframe\">\n",
              "  <thead>\n",
              "    <tr style=\"text-align: right;\">\n",
              "      <th>CohortIndex</th>\n",
              "      <th>1</th>\n",
              "      <th>2</th>\n",
              "      <th>3</th>\n",
              "      <th>4</th>\n",
              "      <th>5</th>\n",
              "      <th>6</th>\n",
              "      <th>7</th>\n",
              "      <th>8</th>\n",
              "      <th>9</th>\n",
              "      <th>10</th>\n",
              "      <th>11</th>\n",
              "      <th>12</th>\n",
              "    </tr>\n",
              "    <tr>\n",
              "      <th>CohortMonth</th>\n",
              "      <th></th>\n",
              "      <th></th>\n",
              "      <th></th>\n",
              "      <th></th>\n",
              "      <th></th>\n",
              "      <th></th>\n",
              "      <th></th>\n",
              "      <th></th>\n",
              "      <th></th>\n",
              "      <th></th>\n",
              "      <th></th>\n",
              "      <th></th>\n",
              "    </tr>\n",
              "  </thead>\n",
              "  <tbody>\n",
              "    <tr>\n",
              "      <th>2019-07-01</th>\n",
              "      <td>1.0</td>\n",
              "      <td>0.047</td>\n",
              "      <td>0.053</td>\n",
              "      <td>0.050</td>\n",
              "      <td>0.058</td>\n",
              "      <td>0.059</td>\n",
              "      <td>0.055</td>\n",
              "      <td>0.046</td>\n",
              "      <td>0.060</td>\n",
              "      <td>0.054</td>\n",
              "      <td>0.052</td>\n",
              "      <td>0.044</td>\n",
              "    </tr>\n",
              "    <tr>\n",
              "      <th>2019-08-01</th>\n",
              "      <td>1.0</td>\n",
              "      <td>0.033</td>\n",
              "      <td>0.035</td>\n",
              "      <td>0.026</td>\n",
              "      <td>0.060</td>\n",
              "      <td>0.042</td>\n",
              "      <td>0.033</td>\n",
              "      <td>0.040</td>\n",
              "      <td>0.037</td>\n",
              "      <td>0.029</td>\n",
              "      <td>0.022</td>\n",
              "      <td>NaN</td>\n",
              "    </tr>\n",
              "    <tr>\n",
              "      <th>2019-09-01</th>\n",
              "      <td>1.0</td>\n",
              "      <td>0.028</td>\n",
              "      <td>0.027</td>\n",
              "      <td>0.028</td>\n",
              "      <td>0.042</td>\n",
              "      <td>0.043</td>\n",
              "      <td>0.040</td>\n",
              "      <td>0.030</td>\n",
              "      <td>0.029</td>\n",
              "      <td>0.026</td>\n",
              "      <td>NaN</td>\n",
              "      <td>NaN</td>\n",
              "    </tr>\n",
              "    <tr>\n",
              "      <th>2019-10-01</th>\n",
              "      <td>1.0</td>\n",
              "      <td>0.035</td>\n",
              "      <td>0.024</td>\n",
              "      <td>0.031</td>\n",
              "      <td>0.028</td>\n",
              "      <td>0.044</td>\n",
              "      <td>0.036</td>\n",
              "      <td>0.026</td>\n",
              "      <td>0.023</td>\n",
              "      <td>NaN</td>\n",
              "      <td>NaN</td>\n",
              "      <td>NaN</td>\n",
              "    </tr>\n",
              "    <tr>\n",
              "      <th>2019-11-01</th>\n",
              "      <td>1.0</td>\n",
              "      <td>0.025</td>\n",
              "      <td>0.036</td>\n",
              "      <td>0.025</td>\n",
              "      <td>0.031</td>\n",
              "      <td>0.034</td>\n",
              "      <td>0.033</td>\n",
              "      <td>0.014</td>\n",
              "      <td>NaN</td>\n",
              "      <td>NaN</td>\n",
              "      <td>NaN</td>\n",
              "      <td>NaN</td>\n",
              "    </tr>\n",
              "    <tr>\n",
              "      <th>2019-12-01</th>\n",
              "      <td>1.0</td>\n",
              "      <td>0.026</td>\n",
              "      <td>0.025</td>\n",
              "      <td>0.028</td>\n",
              "      <td>0.036</td>\n",
              "      <td>0.051</td>\n",
              "      <td>0.017</td>\n",
              "      <td>NaN</td>\n",
              "      <td>NaN</td>\n",
              "      <td>NaN</td>\n",
              "      <td>NaN</td>\n",
              "      <td>NaN</td>\n",
              "    </tr>\n",
              "    <tr>\n",
              "      <th>2020-01-01</th>\n",
              "      <td>1.0</td>\n",
              "      <td>0.024</td>\n",
              "      <td>0.031</td>\n",
              "      <td>0.022</td>\n",
              "      <td>0.040</td>\n",
              "      <td>0.016</td>\n",
              "      <td>NaN</td>\n",
              "      <td>NaN</td>\n",
              "      <td>NaN</td>\n",
              "      <td>NaN</td>\n",
              "      <td>NaN</td>\n",
              "      <td>NaN</td>\n",
              "    </tr>\n",
              "    <tr>\n",
              "      <th>2020-02-01</th>\n",
              "      <td>1.0</td>\n",
              "      <td>0.025</td>\n",
              "      <td>0.039</td>\n",
              "      <td>0.037</td>\n",
              "      <td>0.020</td>\n",
              "      <td>NaN</td>\n",
              "      <td>NaN</td>\n",
              "      <td>NaN</td>\n",
              "      <td>NaN</td>\n",
              "      <td>NaN</td>\n",
              "      <td>NaN</td>\n",
              "      <td>NaN</td>\n",
              "    </tr>\n",
              "    <tr>\n",
              "      <th>2020-03-01</th>\n",
              "      <td>1.0</td>\n",
              "      <td>0.017</td>\n",
              "      <td>0.027</td>\n",
              "      <td>0.016</td>\n",
              "      <td>NaN</td>\n",
              "      <td>NaN</td>\n",
              "      <td>NaN</td>\n",
              "      <td>NaN</td>\n",
              "      <td>NaN</td>\n",
              "      <td>NaN</td>\n",
              "      <td>NaN</td>\n",
              "      <td>NaN</td>\n",
              "    </tr>\n",
              "    <tr>\n",
              "      <th>2020-04-01</th>\n",
              "      <td>1.0</td>\n",
              "      <td>0.018</td>\n",
              "      <td>0.020</td>\n",
              "      <td>NaN</td>\n",
              "      <td>NaN</td>\n",
              "      <td>NaN</td>\n",
              "      <td>NaN</td>\n",
              "      <td>NaN</td>\n",
              "      <td>NaN</td>\n",
              "      <td>NaN</td>\n",
              "      <td>NaN</td>\n",
              "      <td>NaN</td>\n",
              "    </tr>\n",
              "    <tr>\n",
              "      <th>2020-05-01</th>\n",
              "      <td>1.0</td>\n",
              "      <td>0.012</td>\n",
              "      <td>NaN</td>\n",
              "      <td>NaN</td>\n",
              "      <td>NaN</td>\n",
              "      <td>NaN</td>\n",
              "      <td>NaN</td>\n",
              "      <td>NaN</td>\n",
              "      <td>NaN</td>\n",
              "      <td>NaN</td>\n",
              "      <td>NaN</td>\n",
              "      <td>NaN</td>\n",
              "    </tr>\n",
              "    <tr>\n",
              "      <th>2020-06-01</th>\n",
              "      <td>1.0</td>\n",
              "      <td>NaN</td>\n",
              "      <td>NaN</td>\n",
              "      <td>NaN</td>\n",
              "      <td>NaN</td>\n",
              "      <td>NaN</td>\n",
              "      <td>NaN</td>\n",
              "      <td>NaN</td>\n",
              "      <td>NaN</td>\n",
              "      <td>NaN</td>\n",
              "      <td>NaN</td>\n",
              "      <td>NaN</td>\n",
              "    </tr>\n",
              "  </tbody>\n",
              "</table>\n",
              "</div>\n",
              "      <button class=\"colab-df-convert\" onclick=\"convertToInteractive('df-bf7c0ec5-d245-4934-a2f6-7e48f4fcc1c2')\"\n",
              "              title=\"Convert this dataframe to an interactive table.\"\n",
              "              style=\"display:none;\">\n",
              "        \n",
              "  <svg xmlns=\"http://www.w3.org/2000/svg\" height=\"24px\"viewBox=\"0 0 24 24\"\n",
              "       width=\"24px\">\n",
              "    <path d=\"M0 0h24v24H0V0z\" fill=\"none\"/>\n",
              "    <path d=\"M18.56 5.44l.94 2.06.94-2.06 2.06-.94-2.06-.94-.94-2.06-.94 2.06-2.06.94zm-11 1L8.5 8.5l.94-2.06 2.06-.94-2.06-.94L8.5 2.5l-.94 2.06-2.06.94zm10 10l.94 2.06.94-2.06 2.06-.94-2.06-.94-.94-2.06-.94 2.06-2.06.94z\"/><path d=\"M17.41 7.96l-1.37-1.37c-.4-.4-.92-.59-1.43-.59-.52 0-1.04.2-1.43.59L10.3 9.45l-7.72 7.72c-.78.78-.78 2.05 0 2.83L4 21.41c.39.39.9.59 1.41.59.51 0 1.02-.2 1.41-.59l7.78-7.78 2.81-2.81c.8-.78.8-2.07 0-2.86zM5.41 20L4 18.59l7.72-7.72 1.47 1.35L5.41 20z\"/>\n",
              "  </svg>\n",
              "      </button>\n",
              "      \n",
              "  <style>\n",
              "    .colab-df-container {\n",
              "      display:flex;\n",
              "      flex-wrap:wrap;\n",
              "      gap: 12px;\n",
              "    }\n",
              "\n",
              "    .colab-df-convert {\n",
              "      background-color: #E8F0FE;\n",
              "      border: none;\n",
              "      border-radius: 50%;\n",
              "      cursor: pointer;\n",
              "      display: none;\n",
              "      fill: #1967D2;\n",
              "      height: 32px;\n",
              "      padding: 0 0 0 0;\n",
              "      width: 32px;\n",
              "    }\n",
              "\n",
              "    .colab-df-convert:hover {\n",
              "      background-color: #E2EBFA;\n",
              "      box-shadow: 0px 1px 2px rgba(60, 64, 67, 0.3), 0px 1px 3px 1px rgba(60, 64, 67, 0.15);\n",
              "      fill: #174EA6;\n",
              "    }\n",
              "\n",
              "    [theme=dark] .colab-df-convert {\n",
              "      background-color: #3B4455;\n",
              "      fill: #D2E3FC;\n",
              "    }\n",
              "\n",
              "    [theme=dark] .colab-df-convert:hover {\n",
              "      background-color: #434B5C;\n",
              "      box-shadow: 0px 1px 3px 1px rgba(0, 0, 0, 0.15);\n",
              "      filter: drop-shadow(0px 1px 2px rgba(0, 0, 0, 0.3));\n",
              "      fill: #FFFFFF;\n",
              "    }\n",
              "  </style>\n",
              "\n",
              "      <script>\n",
              "        const buttonEl =\n",
              "          document.querySelector('#df-bf7c0ec5-d245-4934-a2f6-7e48f4fcc1c2 button.colab-df-convert');\n",
              "        buttonEl.style.display =\n",
              "          google.colab.kernel.accessAllowed ? 'block' : 'none';\n",
              "\n",
              "        async function convertToInteractive(key) {\n",
              "          const element = document.querySelector('#df-bf7c0ec5-d245-4934-a2f6-7e48f4fcc1c2');\n",
              "          const dataTable =\n",
              "            await google.colab.kernel.invokeFunction('convertToInteractive',\n",
              "                                                     [key], {});\n",
              "          if (!dataTable) return;\n",
              "\n",
              "          const docLinkHtml = 'Like what you see? Visit the ' +\n",
              "            '<a target=\"_blank\" href=https://colab.research.google.com/notebooks/data_table.ipynb>data table notebook</a>'\n",
              "            + ' to learn more about interactive tables.';\n",
              "          element.innerHTML = '';\n",
              "          dataTable['output_type'] = 'display_data';\n",
              "          await google.colab.output.renderOutput(dataTable, element);\n",
              "          const docLink = document.createElement('div');\n",
              "          docLink.innerHTML = docLinkHtml;\n",
              "          element.appendChild(docLink);\n",
              "        }\n",
              "      </script>\n",
              "    </div>\n",
              "  </div>\n",
              "  "
            ]
          },
          "metadata": {},
          "execution_count": 368
        }
      ]
    },
    {
      "cell_type": "markdown",
      "source": [
        "**Creating cohort heatmaps**\n"
      ],
      "metadata": {
        "id": "Twe0Naosiqxt"
      }
    },
    {
      "cell_type": "code",
      "source": [
        "plt.figure(figsize = (11,9))\n",
        "plt.title('Cohort Analysis - Retention Rate')\n",
        "sns.heatmap(data = retention,\n",
        "            annot = True,\n",
        "            fmt = '.0%',\n",
        "            vmin = 0.0,\n",
        "            vmax = 0.5,\n",
        "            cmap = \"YlGnBu\")\n",
        "plt.show()"
      ],
      "metadata": {
        "colab": {
          "base_uri": "https://localhost:8080/",
          "height": 566
        },
        "id": "OlzclN7-ij0V",
        "outputId": "67b9b89d-a170-4656-8e04-18ca6b682154"
      },
      "execution_count": null,
      "outputs": [
        {
          "output_type": "display_data",
          "data": {
            "text/plain": [
              "<Figure size 792x648 with 2 Axes>"
            ],
            "image/png": "[encoded data removed]"
          },
          "metadata": {}
        }
      ]
    },
    {
      "cell_type": "markdown",
      "metadata": {
        "id": "_fKG8pV7Texq"
      },
      "source": [
        "# **RF HEAT**"
      ]
    },
    {
      "cell_type": "code",
      "execution_count": null,
      "metadata": {
        "id": "ipC8w7sgTwg5",
        "colab": {
          "base_uri": "https://localhost:8080/"
        },
        "outputId": "a4499db8-0ac0-4062-a3cb-0b8c5ce883f5"
      },
      "outputs": [
        {
          "output_type": "stream",
          "name": "stdout",
          "text": [
            "Looking in indexes: https://pypi.org/simple, https://us-python.pkg.dev/colab-wheels/public/simple/\n",
            "Requirement already satisfied: lifetimes in /usr/local/lib/python3.8/dist-packages (0.11.3)\n",
            "Requirement already satisfied: autograd>=1.2.0 in /usr/local/lib/python3.8/dist-packages (from lifetimes) (1.5)\n",
            "Requirement already satisfied: pandas>=0.24.0 in /usr/local/lib/python3.8/dist-packages (from lifetimes) (1.3.5)\n",
            "Requirement already satisfied: scipy>=1.0.0 in /usr/local/lib/python3.8/dist-packages (from lifetimes) (1.7.3)\n",
            "Requirement already satisfied: numpy>=1.10.0 in /usr/local/lib/python3.8/dist-packages (from lifetimes) (1.21.6)\n",
            "Requirement already satisfied: dill>=0.2.6 in /usr/local/lib/python3.8/dist-packages (from lifetimes) (0.3.6)\n",
            "Requirement already satisfied: future>=0.15.2 in /usr/local/lib/python3.8/dist-packages (from autograd>=1.2.0->lifetimes) (0.16.0)\n",
            "Requirement already satisfied: pytz>=2017.3 in /usr/local/lib/python3.8/dist-packages (from pandas>=0.24.0->lifetimes) (2022.6)\n",
            "Requirement already satisfied: python-dateutil>=2.7.3 in /usr/local/lib/python3.8/dist-packages (from pandas>=0.24.0->lifetimes) (2.8.2)\n",
            "Requirement already satisfied: six>=1.5 in /usr/local/lib/python3.8/dist-packages (from python-dateutil>=2.7.3->pandas>=0.24.0->lifetimes) (1.15.0)\n"
          ]
        }
      ],
      "source": [
        "pip install lifetimes"
      ]
    },
    {
      "cell_type": "code",
      "execution_count": null,
      "metadata": {
        "id": "hDkSIDvZwC1y",
        "colab": {
          "base_uri": "https://localhost:8080/",
          "height": 455
        },
        "outputId": "12c714a8-627c-4809-f6b4-2949316a509b"
      },
      "outputs": [
        {
          "output_type": "execute_result",
          "data": {
            "text/plain": [
              "             Recency  Frequency   Monetary\n",
              "CustomerKey                               \n",
              "11000.0          256          3  8248.9900\n",
              "11001.0           35          3  6383.8800\n",
              "11002.0          325          3  8114.0400\n",
              "11003.0          249          3  8139.2900\n",
              "11004.0          258          3  8196.0100\n",
              "...              ...        ...        ...\n",
              "29479.0          497          1  2049.0982\n",
              "29480.0          181          1  2442.0300\n",
              "29481.0          885          1  3374.9900\n",
              "29482.0          483          1  2049.0982\n",
              "29483.0          492          1  2049.0982\n",
              "\n",
              "[18484 rows x 3 columns]"
            ],
            "text/html": [
              "\n",
              "  <div id=\"df-ef470491-6b95-47c7-90db-c64f2b259f9f\">\n",
              "    <div class=\"colab-df-container\">\n",
              "      <div>\n",
              "<style scoped>\n",
              "    .dataframe tbody tr th:only-of-type {\n",
              "        vertical-align: middle;\n",
              "    }\n",
              "\n",
              "    .dataframe tbody tr th {\n",
              "        vertical-align: top;\n",
              "    }\n",
              "\n",
              "    .dataframe thead th {\n",
              "        text-align: right;\n",
              "    }\n",
              "</style>\n",
              "<table border=\"1\" class=\"dataframe\">\n",
              "  <thead>\n",
              "    <tr style=\"text-align: right;\">\n",
              "      <th></th>\n",
              "      <th>Recency</th>\n",
              "      <th>Frequency</th>\n",
              "      <th>Monetary</th>\n",
              "    </tr>\n",
              "    <tr>\n",
              "      <th>CustomerKey</th>\n",
              "      <th></th>\n",
              "      <th></th>\n",
              "      <th></th>\n",
              "    </tr>\n",
              "  </thead>\n",
              "  <tbody>\n",
              "    <tr>\n",
              "      <th>11000.0</th>\n",
              "      <td>256</td>\n",
              "      <td>3</td>\n",
              "      <td>8248.9900</td>\n",
              "    </tr>\n",
              "    <tr>\n",
              "      <th>11001.0</th>\n",
              "      <td>35</td>\n",
              "      <td>3</td>\n",
              "      <td>6383.8800</td>\n",
              "    </tr>\n",
              "    <tr>\n",
              "      <th>11002.0</th>\n",
              "      <td>325</td>\n",
              "      <td>3</td>\n",
              "      <td>8114.0400</td>\n",
              "    </tr>\n",
              "    <tr>\n",
              "      <th>11003.0</th>\n",
              "      <td>249</td>\n",
              "      <td>3</td>\n",
              "      <td>8139.2900</td>\n",
              "    </tr>\n",
              "    <tr>\n",
              "      <th>11004.0</th>\n",
              "      <td>258</td>\n",
              "      <td>3</td>\n",
              "      <td>8196.0100</td>\n",
              "    </tr>\n",
              "    <tr>\n",
              "      <th>...</th>\n",
              "      <td>...</td>\n",
              "      <td>...</td>\n",
              "      <td>...</td>\n",
              "    </tr>\n",
              "    <tr>\n",
              "      <th>29479.0</th>\n",
              "      <td>497</td>\n",
              "      <td>1</td>\n",
              "      <td>2049.0982</td>\n",
              "    </tr>\n",
              "    <tr>\n",
              "      <th>29480.0</th>\n",
              "      <td>181</td>\n",
              "      <td>1</td>\n",
              "      <td>2442.0300</td>\n",
              "    </tr>\n",
              "    <tr>\n",
              "      <th>29481.0</th>\n",
              "      <td>885</td>\n",
              "      <td>1</td>\n",
              "      <td>3374.9900</td>\n",
              "    </tr>\n",
              "    <tr>\n",
              "      <th>29482.0</th>\n",
              "      <td>483</td>\n",
              "      <td>1</td>\n",
              "      <td>2049.0982</td>\n",
              "    </tr>\n",
              "    <tr>\n",
              "      <th>29483.0</th>\n",
              "      <td>492</td>\n",
              "      <td>1</td>\n",
              "      <td>2049.0982</td>\n",
              "    </tr>\n",
              "  </tbody>\n",
              "</table>\n",
              "<p>18484 rows × 3 columns</p>\n",
              "</div>\n",
              "      <button class=\"colab-df-convert\" onclick=\"convertToInteractive('df-ef470491-6b95-47c7-90db-c64f2b259f9f')\"\n",
              "              title=\"Convert this dataframe to an interactive table.\"\n",
              "              style=\"display:none;\">\n",
              "        \n",
              "  <svg xmlns=\"http://www.w3.org/2000/svg\" height=\"24px\"viewBox=\"0 0 24 24\"\n",
              "       width=\"24px\">\n",
              "    <path d=\"M0 0h24v24H0V0z\" fill=\"none\"/>\n",
              "    <path d=\"M18.56 5.44l.94 2.06.94-2.06 2.06-.94-2.06-.94-.94-2.06-.94 2.06-2.06.94zm-11 1L8.5 8.5l.94-2.06 2.06-.94-2.06-.94L8.5 2.5l-.94 2.06-2.06.94zm10 10l.94 2.06.94-2.06 2.06-.94-2.06-.94-.94-2.06-.94 2.06-2.06.94z\"/><path d=\"M17.41 7.96l-1.37-1.37c-.4-.4-.92-.59-1.43-.59-.52 0-1.04.2-1.43.59L10.3 9.45l-7.72 7.72c-.78.78-.78 2.05 0 2.83L4 21.41c.39.39.9.59 1.41.59.51 0 1.02-.2 1.41-.59l7.78-7.78 2.81-2.81c.8-.78.8-2.07 0-2.86zM5.41 20L4 18.59l7.72-7.72 1.47 1.35L5.41 20z\"/>\n",
              "  </svg>\n",
              "      </button>\n",
              "      \n",
              "  <style>\n",
              "    .colab-df-container {\n",
              "      display:flex;\n",
              "      flex-wrap:wrap;\n",
              "      gap: 12px;\n",
              "    }\n",
              "\n",
              "    .colab-df-convert {\n",
              "      background-color: #E8F0FE;\n",
              "      border: none;\n",
              "      border-radius: 50%;\n",
              "      cursor: pointer;\n",
              "      display: none;\n",
              "      fill: #1967D2;\n",
              "      height: 32px;\n",
              "      padding: 0 0 0 0;\n",
              "      width: 32px;\n",
              "    }\n",
              "\n",
              "    .colab-df-convert:hover {\n",
              "      background-color: #E2EBFA;\n",
              "      box-shadow: 0px 1px 2px rgba(60, 64, 67, 0.3), 0px 1px 3px 1px rgba(60, 64, 67, 0.15);\n",
              "      fill: #174EA6;\n",
              "    }\n",
              "\n",
              "    [theme=dark] .colab-df-convert {\n",
              "      background-color: #3B4455;\n",
              "      fill: #D2E3FC;\n",
              "    }\n",
              "\n",
              "    [theme=dark] .colab-df-convert:hover {\n",
              "      background-color: #434B5C;\n",
              "      box-shadow: 0px 1px 3px 1px rgba(0, 0, 0, 0.15);\n",
              "      filter: drop-shadow(0px 1px 2px rgba(0, 0, 0, 0.3));\n",
              "      fill: #FFFFFF;\n",
              "    }\n",
              "  </style>\n",
              "\n",
              "      <script>\n",
              "        const buttonEl =\n",
              "          document.querySelector('#df-ef470491-6b95-47c7-90db-c64f2b259f9f button.colab-df-convert');\n",
              "        buttonEl.style.display =\n",
              "          google.colab.kernel.accessAllowed ? 'block' : 'none';\n",
              "\n",
              "        async function convertToInteractive(key) {\n",
              "          const element = document.querySelector('#df-ef470491-6b95-47c7-90db-c64f2b259f9f');\n",
              "          const dataTable =\n",
              "            await google.colab.kernel.invokeFunction('convertToInteractive',\n",
              "                                                     [key], {});\n",
              "          if (!dataTable) return;\n",
              "\n",
              "          const docLinkHtml = 'Like what you see? Visit the ' +\n",
              "            '<a target=\"_blank\" href=https://colab.research.google.com/notebooks/data_table.ipynb>data table notebook</a>'\n",
              "            + ' to learn more about interactive tables.';\n",
              "          element.innerHTML = '';\n",
              "          dataTable['output_type'] = 'display_data';\n",
              "          await google.colab.output.renderOutput(dataTable, element);\n",
              "          const docLink = document.createElement('div');\n",
              "          docLink.innerHTML = docLinkHtml;\n",
              "          element.appendChild(docLink);\n",
              "        }\n",
              "      </script>\n",
              "    </div>\n",
              "  </div>\n",
              "  "
            ]
          },
          "metadata": {},
          "execution_count": 371
        }
      ],
      "source": [
        "df_rfm"
      ]
    },
    {
      "cell_type": "code",
      "execution_count": null,
      "metadata": {
        "id": "g8SXgc1QTpJH"
      },
      "outputs": [],
      "source": [
        "from lifetimes.plotting import plot_frequency_recency_matrix\n",
        "from lifetimes import BetaGeoFitter\n",
        "from lifetimes import GammaGammaFitter\n",
        "\n",
        "\n",
        "df_pareto = df_rfm.copy()\n",
        "\n",
        "ls = df_merge.groupby(['CustomerKey']).agg({\n",
        "     'Date': lambda x: (x.max() - x.min()).days + 1\n",
        "     }\n",
        ")\n"
      ]
    },
    {
      "cell_type": "code",
      "execution_count": null,
      "metadata": {
        "id": "4TAp8bKBTNPZ"
      },
      "outputs": [],
      "source": [
        "df_pareto = df_pareto.merge(ls, on = 'CustomerKey')"
      ]
    },
    {
      "cell_type": "code",
      "execution_count": null,
      "metadata": {
        "id": "kO3GtbuUvkrL"
      },
      "outputs": [],
      "source": [
        "df_pareto = df_pareto.rename(columns = {'Date': 'LifeSpan'})"
      ]
    },
    {
      "cell_type": "code",
      "execution_count": null,
      "metadata": {
        "id": "j_555wIuTWCv"
      },
      "outputs": [],
      "source": [
        "#days to week\n",
        "df_pareto['Recency'] = df_pareto['Recency'] / 7\n",
        "df_pareto['LifeSpan'] = df_pareto['LifeSpan'] / 7"
      ]
    },
    {
      "cell_type": "code",
      "execution_count": null,
      "metadata": {
        "id": "yA21s_RnT34v",
        "colab": {
          "base_uri": "https://localhost:8080/",
          "height": 455
        },
        "outputId": "7c1a5f48-040e-4e3e-e686-fce19dc9914c"
      },
      "outputs": [
        {
          "output_type": "execute_result",
          "data": {
            "text/plain": [
              "               Recency  Frequency     Monetary    LifeSpan\n",
              "CustomerKey                                               \n",
              "11000.0      36.571429          3  2749.663333  116.428571\n",
              "11001.0       5.000000          3  2127.960000  148.428571\n",
              "11002.0      46.428571          3  2704.680000  107.571429\n",
              "11003.0      35.571429          3  2713.096667  119.000000\n",
              "11004.0      36.857143          3  2732.003333  115.857143\n",
              "...                ...        ...          ...         ...\n",
              "29398.0      48.571429          2  1982.235000   95.428571\n",
              "29399.0      44.285714          2  1968.235000  100.000000\n",
              "29400.0      43.428571          2  1996.230000   97.285714\n",
              "29403.0      40.857143          2  1995.970000   97.285714\n",
              "29412.0      42.571429          2  1335.939800   32.285714\n",
              "\n",
              "[6865 rows x 4 columns]"
            ],
            "text/html": [
              "\n",
              "  <div id=\"df-97de87c7-a897-4251-bea4-e3ecbb0d7c6f\">\n",
              "    <div class=\"colab-df-container\">\n",
              "      <div>\n",
              "<style scoped>\n",
              "    .dataframe tbody tr th:only-of-type {\n",
              "        vertical-align: middle;\n",
              "    }\n",
              "\n",
              "    .dataframe tbody tr th {\n",
              "        vertical-align: top;\n",
              "    }\n",
              "\n",
              "    .dataframe thead th {\n",
              "        text-align: right;\n",
              "    }\n",
              "</style>\n",
              "<table border=\"1\" class=\"dataframe\">\n",
              "  <thead>\n",
              "    <tr style=\"text-align: right;\">\n",
              "      <th></th>\n",
              "      <th>Recency</th>\n",
              "      <th>Frequency</th>\n",
              "      <th>Monetary</th>\n",
              "      <th>LifeSpan</th>\n",
              "    </tr>\n",
              "    <tr>\n",
              "      <th>CustomerKey</th>\n",
              "      <th></th>\n",
              "      <th></th>\n",
              "      <th></th>\n",
              "      <th></th>\n",
              "    </tr>\n",
              "  </thead>\n",
              "  <tbody>\n",
              "    <tr>\n",
              "      <th>11000.0</th>\n",
              "      <td>36.571429</td>\n",
              "      <td>3</td>\n",
              "      <td>2749.663333</td>\n",
              "      <td>116.428571</td>\n",
              "    </tr>\n",
              "    <tr>\n",
              "      <th>11001.0</th>\n",
              "      <td>5.000000</td>\n",
              "      <td>3</td>\n",
              "      <td>2127.960000</td>\n",
              "      <td>148.428571</td>\n",
              "    </tr>\n",
              "    <tr>\n",
              "      <th>11002.0</th>\n",
              "      <td>46.428571</td>\n",
              "      <td>3</td>\n",
              "      <td>2704.680000</td>\n",
              "      <td>107.571429</td>\n",
              "    </tr>\n",
              "    <tr>\n",
              "      <th>11003.0</th>\n",
              "      <td>35.571429</td>\n",
              "      <td>3</td>\n",
              "      <td>2713.096667</td>\n",
              "      <td>119.000000</td>\n",
              "    </tr>\n",
              "    <tr>\n",
              "      <th>11004.0</th>\n",
              "      <td>36.857143</td>\n",
              "      <td>3</td>\n",
              "      <td>2732.003333</td>\n",
              "      <td>115.857143</td>\n",
              "    </tr>\n",
              "    <tr>\n",
              "      <th>...</th>\n",
              "      <td>...</td>\n",
              "      <td>...</td>\n",
              "      <td>...</td>\n",
              "      <td>...</td>\n",
              "    </tr>\n",
              "    <tr>\n",
              "      <th>29398.0</th>\n",
              "      <td>48.571429</td>\n",
              "      <td>2</td>\n",
              "      <td>1982.235000</td>\n",
              "      <td>95.428571</td>\n",
              "    </tr>\n",
              "    <tr>\n",
              "      <th>29399.0</th>\n",
              "      <td>44.285714</td>\n",
              "      <td>2</td>\n",
              "      <td>1968.235000</td>\n",
              "      <td>100.000000</td>\n",
              "    </tr>\n",
              "    <tr>\n",
              "      <th>29400.0</th>\n",
              "      <td>43.428571</td>\n",
              "      <td>2</td>\n",
              "      <td>1996.230000</td>\n",
              "      <td>97.285714</td>\n",
              "    </tr>\n",
              "    <tr>\n",
              "      <th>29403.0</th>\n",
              "      <td>40.857143</td>\n",
              "      <td>2</td>\n",
              "      <td>1995.970000</td>\n",
              "      <td>97.285714</td>\n",
              "    </tr>\n",
              "    <tr>\n",
              "      <th>29412.0</th>\n",
              "      <td>42.571429</td>\n",
              "      <td>2</td>\n",
              "      <td>1335.939800</td>\n",
              "      <td>32.285714</td>\n",
              "    </tr>\n",
              "  </tbody>\n",
              "</table>\n",
              "<p>6865 rows × 4 columns</p>\n",
              "</div>\n",
              "      <button class=\"colab-df-convert\" onclick=\"convertToInteractive('df-97de87c7-a897-4251-bea4-e3ecbb0d7c6f')\"\n",
              "              title=\"Convert this dataframe to an interactive table.\"\n",
              "              style=\"display:none;\">\n",
              "        \n",
              "  <svg xmlns=\"http://www.w3.org/2000/svg\" height=\"24px\"viewBox=\"0 0 24 24\"\n",
              "       width=\"24px\">\n",
              "    <path d=\"M0 0h24v24H0V0z\" fill=\"none\"/>\n",
              "    <path d=\"M18.56 5.44l.94 2.06.94-2.06 2.06-.94-2.06-.94-.94-2.06-.94 2.06-2.06.94zm-11 1L8.5 8.5l.94-2.06 2.06-.94-2.06-.94L8.5 2.5l-.94 2.06-2.06.94zm10 10l.94 2.06.94-2.06 2.06-.94-2.06-.94-.94-2.06-.94 2.06-2.06.94z\"/><path d=\"M17.41 7.96l-1.37-1.37c-.4-.4-.92-.59-1.43-.59-.52 0-1.04.2-1.43.59L10.3 9.45l-7.72 7.72c-.78.78-.78 2.05 0 2.83L4 21.41c.39.39.9.59 1.41.59.51 0 1.02-.2 1.41-.59l7.78-7.78 2.81-2.81c.8-.78.8-2.07 0-2.86zM5.41 20L4 18.59l7.72-7.72 1.47 1.35L5.41 20z\"/>\n",
              "  </svg>\n",
              "      </button>\n",
              "      \n",
              "  <style>\n",
              "    .colab-df-container {\n",
              "      display:flex;\n",
              "      flex-wrap:wrap;\n",
              "      gap: 12px;\n",
              "    }\n",
              "\n",
              "    .colab-df-convert {\n",
              "      background-color: #E8F0FE;\n",
              "      border: none;\n",
              "      border-radius: 50%;\n",
              "      cursor: pointer;\n",
              "      display: none;\n",
              "      fill: #1967D2;\n",
              "      height: 32px;\n",
              "      padding: 0 0 0 0;\n",
              "      width: 32px;\n",
              "    }\n",
              "\n",
              "    .colab-df-convert:hover {\n",
              "      background-color: #E2EBFA;\n",
              "      box-shadow: 0px 1px 2px rgba(60, 64, 67, 0.3), 0px 1px 3px 1px rgba(60, 64, 67, 0.15);\n",
              "      fill: #174EA6;\n",
              "    }\n",
              "\n",
              "    [theme=dark] .colab-df-convert {\n",
              "      background-color: #3B4455;\n",
              "      fill: #D2E3FC;\n",
              "    }\n",
              "\n",
              "    [theme=dark] .colab-df-convert:hover {\n",
              "      background-color: #434B5C;\n",
              "      box-shadow: 0px 1px 3px 1px rgba(0, 0, 0, 0.15);\n",
              "      filter: drop-shadow(0px 1px 2px rgba(0, 0, 0, 0.3));\n",
              "      fill: #FFFFFF;\n",
              "    }\n",
              "  </style>\n",
              "\n",
              "      <script>\n",
              "        const buttonEl =\n",
              "          document.querySelector('#df-97de87c7-a897-4251-bea4-e3ecbb0d7c6f button.colab-df-convert');\n",
              "        buttonEl.style.display =\n",
              "          google.colab.kernel.accessAllowed ? 'block' : 'none';\n",
              "\n",
              "        async function convertToInteractive(key) {\n",
              "          const element = document.querySelector('#df-97de87c7-a897-4251-bea4-e3ecbb0d7c6f');\n",
              "          const dataTable =\n",
              "            await google.colab.kernel.invokeFunction('convertToInteractive',\n",
              "                                                     [key], {});\n",
              "          if (!dataTable) return;\n",
              "\n",
              "          const docLinkHtml = 'Like what you see? Visit the ' +\n",
              "            '<a target=\"_blank\" href=https://colab.research.google.com/notebooks/data_table.ipynb>data table notebook</a>'\n",
              "            + ' to learn more about interactive tables.';\n",
              "          element.innerHTML = '';\n",
              "          dataTable['output_type'] = 'display_data';\n",
              "          await google.colab.output.renderOutput(dataTable, element);\n",
              "          const docLink = document.createElement('div');\n",
              "          docLink.innerHTML = docLinkHtml;\n",
              "          element.appendChild(docLink);\n",
              "        }\n",
              "      </script>\n",
              "    </div>\n",
              "  </div>\n",
              "  "
            ]
          },
          "metadata": {},
          "execution_count": 376
        }
      ],
      "source": [
        "df_pareto = df_pareto[df_pareto['Monetary'] > 0]\n",
        "df_pareto['Monetary'] = df_pareto['Monetary'] / df_pareto['Frequency']\n",
        "df_pareto = df_pareto[(df_pareto['Frequency'] > 1)]\n",
        "df_pareto"
      ]
    },
    {
      "cell_type": "code",
      "execution_count": null,
      "metadata": {
        "id": "Bik22McAVQcM"
      },
      "outputs": [],
      "source": [
        "rls = df_pareto[df_pareto['Recency']> df_pareto['LifeSpan']].index.array\n",
        "df_pareto = df_pareto.drop(rls)"
      ]
    },
    {
      "cell_type": "code",
      "execution_count": null,
      "metadata": {
        "id": "2O-kbLjVl1ca",
        "colab": {
          "base_uri": "https://localhost:8080/"
        },
        "outputId": "4b9bf89e-121f-40ec-a4ed-fb8360aacbae"
      },
      "outputs": [
        {
          "output_type": "execute_result",
          "data": {
            "text/plain": [
              "<lifetimes.BetaGeoFitter: fitted with 5753 subjects, a: 3.44, alpha: 5.96, b: 5.24, r: 1.29>"
            ]
          },
          "metadata": {},
          "execution_count": 378
        }
      ],
      "source": [
        "bgf = BetaGeoFitter(penalizer_coef=0.001)\n",
        "bgf.fit(df_pareto['Frequency'], df_pareto['Recency'], df_pareto['LifeSpan'])"
      ]
    },
    {
      "cell_type": "code",
      "execution_count": null,
      "metadata": {
        "id": "Bx4OaAFll2-B",
        "colab": {
          "base_uri": "https://localhost:8080/",
          "height": 175
        },
        "outputId": "1c0d6f13-bc9d-4612-c989-908b38ceb16c"
      },
      "outputs": [
        {
          "output_type": "execute_result",
          "data": {
            "text/plain": [
              "           coef  se(coef)  lower 95% bound  upper 95% bound\n",
              "r      1.292682  0.037760         1.218672         1.366692\n",
              "alpha  5.962663  0.249285         5.474065         6.451262\n",
              "a      3.436530  0.101119         3.238337         3.634723\n",
              "b      5.242347  0.148272         4.951734         5.532961"
            ],
            "text/html": [
              "\n",
              "  <div id=\"df-b83d98e9-26ad-4310-a806-66d3aa2b082b\">\n",
              "    <div class=\"colab-df-container\">\n",
              "      <div>\n",
              "<style scoped>\n",
              "    .dataframe tbody tr th:only-of-type {\n",
              "        vertical-align: middle;\n",
              "    }\n",
              "\n",
              "    .dataframe tbody tr th {\n",
              "        vertical-align: top;\n",
              "    }\n",
              "\n",
              "    .dataframe thead th {\n",
              "        text-align: right;\n",
              "    }\n",
              "</style>\n",
              "<table border=\"1\" class=\"dataframe\">\n",
              "  <thead>\n",
              "    <tr style=\"text-align: right;\">\n",
              "      <th></th>\n",
              "      <th>coef</th>\n",
              "      <th>se(coef)</th>\n",
              "      <th>lower 95% bound</th>\n",
              "      <th>upper 95% bound</th>\n",
              "    </tr>\n",
              "  </thead>\n",
              "  <tbody>\n",
              "    <tr>\n",
              "      <th>r</th>\n",
              "      <td>1.292682</td>\n",
              "      <td>0.037760</td>\n",
              "      <td>1.218672</td>\n",
              "      <td>1.366692</td>\n",
              "    </tr>\n",
              "    <tr>\n",
              "      <th>alpha</th>\n",
              "      <td>5.962663</td>\n",
              "      <td>0.249285</td>\n",
              "      <td>5.474065</td>\n",
              "      <td>6.451262</td>\n",
              "    </tr>\n",
              "    <tr>\n",
              "      <th>a</th>\n",
              "      <td>3.436530</td>\n",
              "      <td>0.101119</td>\n",
              "      <td>3.238337</td>\n",
              "      <td>3.634723</td>\n",
              "    </tr>\n",
              "    <tr>\n",
              "      <th>b</th>\n",
              "      <td>5.242347</td>\n",
              "      <td>0.148272</td>\n",
              "      <td>4.951734</td>\n",
              "      <td>5.532961</td>\n",
              "    </tr>\n",
              "  </tbody>\n",
              "</table>\n",
              "</div>\n",
              "      <button class=\"colab-df-convert\" onclick=\"convertToInteractive('df-b83d98e9-26ad-4310-a806-66d3aa2b082b')\"\n",
              "              title=\"Convert this dataframe to an interactive table.\"\n",
              "              style=\"display:none;\">\n",
              "        \n",
              "  <svg xmlns=\"http://www.w3.org/2000/svg\" height=\"24px\"viewBox=\"0 0 24 24\"\n",
              "       width=\"24px\">\n",
              "    <path d=\"M0 0h24v24H0V0z\" fill=\"none\"/>\n",
              "    <path d=\"M18.56 5.44l.94 2.06.94-2.06 2.06-.94-2.06-.94-.94-2.06-.94 2.06-2.06.94zm-11 1L8.5 8.5l.94-2.06 2.06-.94-2.06-.94L8.5 2.5l-.94 2.06-2.06.94zm10 10l.94 2.06.94-2.06 2.06-.94-2.06-.94-.94-2.06-.94 2.06-2.06.94z\"/><path d=\"M17.41 7.96l-1.37-1.37c-.4-.4-.92-.59-1.43-.59-.52 0-1.04.2-1.43.59L10.3 9.45l-7.72 7.72c-.78.78-.78 2.05 0 2.83L4 21.41c.39.39.9.59 1.41.59.51 0 1.02-.2 1.41-.59l7.78-7.78 2.81-2.81c.8-.78.8-2.07 0-2.86zM5.41 20L4 18.59l7.72-7.72 1.47 1.35L5.41 20z\"/>\n",
              "  </svg>\n",
              "      </button>\n",
              "      \n",
              "  <style>\n",
              "    .colab-df-container {\n",
              "      display:flex;\n",
              "      flex-wrap:wrap;\n",
              "      gap: 12px;\n",
              "    }\n",
              "\n",
              "    .colab-df-convert {\n",
              "      background-color: #E8F0FE;\n",
              "      border: none;\n",
              "      border-radius: 50%;\n",
              "      cursor: pointer;\n",
              "      display: none;\n",
              "      fill: #1967D2;\n",
              "      height: 32px;\n",
              "      padding: 0 0 0 0;\n",
              "      width: 32px;\n",
              "    }\n",
              "\n",
              "    .colab-df-convert:hover {\n",
              "      background-color: #E2EBFA;\n",
              "      box-shadow: 0px 1px 2px rgba(60, 64, 67, 0.3), 0px 1px 3px 1px rgba(60, 64, 67, 0.15);\n",
              "      fill: #174EA6;\n",
              "    }\n",
              "\n",
              "    [theme=dark] .colab-df-convert {\n",
              "      background-color: #3B4455;\n",
              "      fill: #D2E3FC;\n",
              "    }\n",
              "\n",
              "    [theme=dark] .colab-df-convert:hover {\n",
              "      background-color: #434B5C;\n",
              "      box-shadow: 0px 1px 3px 1px rgba(0, 0, 0, 0.15);\n",
              "      filter: drop-shadow(0px 1px 2px rgba(0, 0, 0, 0.3));\n",
              "      fill: #FFFFFF;\n",
              "    }\n",
              "  </style>\n",
              "\n",
              "      <script>\n",
              "        const buttonEl =\n",
              "          document.querySelector('#df-b83d98e9-26ad-4310-a806-66d3aa2b082b button.colab-df-convert');\n",
              "        buttonEl.style.display =\n",
              "          google.colab.kernel.accessAllowed ? 'block' : 'none';\n",
              "\n",
              "        async function convertToInteractive(key) {\n",
              "          const element = document.querySelector('#df-b83d98e9-26ad-4310-a806-66d3aa2b082b');\n",
              "          const dataTable =\n",
              "            await google.colab.kernel.invokeFunction('convertToInteractive',\n",
              "                                                     [key], {});\n",
              "          if (!dataTable) return;\n",
              "\n",
              "          const docLinkHtml = 'Like what you see? Visit the ' +\n",
              "            '<a target=\"_blank\" href=https://colab.research.google.com/notebooks/data_table.ipynb>data table notebook</a>'\n",
              "            + ' to learn more about interactive tables.';\n",
              "          element.innerHTML = '';\n",
              "          dataTable['output_type'] = 'display_data';\n",
              "          await google.colab.output.renderOutput(dataTable, element);\n",
              "          const docLink = document.createElement('div');\n",
              "          docLink.innerHTML = docLinkHtml;\n",
              "          element.appendChild(docLink);\n",
              "        }\n",
              "      </script>\n",
              "    </div>\n",
              "  </div>\n",
              "  "
            ]
          },
          "metadata": {},
          "execution_count": 379
        }
      ],
      "source": [
        "bgf.summary"
      ]
    },
    {
      "cell_type": "code",
      "execution_count": null,
      "metadata": {
        "id": "ZzeNsfThl5o0",
        "colab": {
          "base_uri": "https://localhost:8080/",
          "height": 363
        },
        "outputId": "a06ca5d8-f7b2-4633-f662-ab244e49e65a"
      },
      "outputs": [
        {
          "output_type": "display_data",
          "data": {
            "text/plain": [
              "<Figure size 1440x360 with 2 Axes>"
            ],
            "image/png": "[encoded data removed]"
          },
          "metadata": {}
        }
      ],
      "source": [
        "from lifetimes.plotting import plot_frequency_recency_matrix\n",
        "\n",
        "plot_frequency_recency_matrix(bgf);"
      ]
    },
    {
      "cell_type": "code",
      "execution_count": null,
      "metadata": {
        "id": "CI4htC8UmZi2",
        "colab": {
          "base_uri": "https://localhost:8080/",
          "height": 380
        },
        "outputId": "1d4b4b56-e98a-479d-fa38-087af7b63441"
      },
      "outputs": [
        {
          "output_type": "execute_result",
          "data": {
            "text/plain": [
              "<matplotlib.axes._subplots.AxesSubplot at 0x7fa558432a30>"
            ]
          },
          "metadata": {},
          "execution_count": 381
        },
        {
          "output_type": "display_data",
          "data": {
            "text/plain": [
              "<Figure size 1440x360 with 2 Axes>"
            ],
            "image/png": "[encoded data removed]"
          },
          "metadata": {}
        }
      ],
      "source": [
        "from lifetimes.plotting import plot_probability_alive_matrix\n",
        "\n",
        "plot_probability_alive_matrix(bgf)"
      ]
    }
  ],
  "metadata": {
    "colab": {
      "collapsed_sections": [
        "TtKCAk0yojE8",
        "Tr1xzOnCR3DT",
        "d_ClymGU8uIC",
        "jycJWbAklWC5",
        "M-LQYLzNWzgU",
        "o3eUQ5C2LTj1",
        "zjjxF74zNXzT",
        "7MtNb17AAzUj"
      ],
      "provenance": []
    },
    "kernelspec": {
      "display_name": "Python 3",
      "name": "python3"
    },
    "language_info": {
      "name": "python"
    }
  },
  "nbformat": 4,
  "nbformat_minor": 0
}